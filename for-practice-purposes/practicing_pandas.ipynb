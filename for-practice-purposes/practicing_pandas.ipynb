{
 "cells": [
  {
   "cell_type": "code",
   "execution_count": null,
   "metadata": {},
   "outputs": [],
   "source": [
    "import pandas as pd\n",
    "import matplotlib.pyplot as plt"
   ]
  },
  {
   "cell_type": "code",
   "execution_count": 2,
   "metadata": {},
   "outputs": [
    {
     "name": "stdout",
     "output_type": "stream",
     "text": [
      "No missing values\n"
     ]
    }
   ],
   "source": [
    "df = pd.read_csv(\"SQL/SQL_output.csv\")\n",
    "df if df.isna().sum(axis=1).any() else print(\"No missing values\") # checking for null values\n",
    "\n"
   ]
  },
  {
   "cell_type": "code",
   "execution_count": 3,
   "metadata": {},
   "outputs": [
    {
     "data": {
      "text/html": [
       "<div>\n",
       "<style scoped>\n",
       "    .dataframe tbody tr th:only-of-type {\n",
       "        vertical-align: middle;\n",
       "    }\n",
       "\n",
       "    .dataframe tbody tr th {\n",
       "        vertical-align: top;\n",
       "    }\n",
       "\n",
       "    .dataframe thead th {\n",
       "        text-align: right;\n",
       "    }\n",
       "</style>\n",
       "<table border=\"1\" class=\"dataframe\">\n",
       "  <thead>\n",
       "    <tr style=\"text-align: right;\">\n",
       "      <th></th>\n",
       "      <th>quantity</th>\n",
       "      <th>date</th>\n",
       "      <th>time</th>\n",
       "      <th>size</th>\n",
       "      <th>pizza_type_id</th>\n",
       "      <th>price</th>\n",
       "      <th>category</th>\n",
       "      <th>ingredients</th>\n",
       "    </tr>\n",
       "  </thead>\n",
       "  <tbody>\n",
       "    <tr>\n",
       "      <th>0</th>\n",
       "      <td>1</td>\n",
       "      <td>2015-01-03</td>\n",
       "      <td>14:22:10</td>\n",
       "      <td>M</td>\n",
       "      <td>hawaiian</td>\n",
       "      <td>13.25</td>\n",
       "      <td>Classic</td>\n",
       "      <td>Sliced Ham, Pineapple, Mozzarella Cheese</td>\n",
       "    </tr>\n",
       "    <tr>\n",
       "      <th>1</th>\n",
       "      <td>1</td>\n",
       "      <td>2015-01-03</td>\n",
       "      <td>14:32:51</td>\n",
       "      <td>XL</td>\n",
       "      <td>the_greek</td>\n",
       "      <td>25.50</td>\n",
       "      <td>Classic</td>\n",
       "      <td>Kalamata Olives, Feta Cheese, Tomatoes, Garlic...</td>\n",
       "    </tr>\n",
       "    <tr>\n",
       "      <th>2</th>\n",
       "      <td>1</td>\n",
       "      <td>2015-01-03</td>\n",
       "      <td>14:40:42</td>\n",
       "      <td>S</td>\n",
       "      <td>mediterraneo</td>\n",
       "      <td>12.00</td>\n",
       "      <td>Veggie</td>\n",
       "      <td>Spinach, Artichokes, Kalamata Olives, Sun-drie...</td>\n",
       "    </tr>\n",
       "    <tr>\n",
       "      <th>3</th>\n",
       "      <td>1</td>\n",
       "      <td>2015-01-03</td>\n",
       "      <td>14:48:45</td>\n",
       "      <td>M</td>\n",
       "      <td>spinach_fet</td>\n",
       "      <td>16.00</td>\n",
       "      <td>Veggie</td>\n",
       "      <td>Spinach, Mushrooms, Red Onions, Feta Cheese, G...</td>\n",
       "    </tr>\n",
       "    <tr>\n",
       "      <th>4</th>\n",
       "      <td>1</td>\n",
       "      <td>2015-01-03</td>\n",
       "      <td>14:49:58</td>\n",
       "      <td>M</td>\n",
       "      <td>pepperoni</td>\n",
       "      <td>12.50</td>\n",
       "      <td>Classic</td>\n",
       "      <td>Mozzarella Cheese, Pepperoni</td>\n",
       "    </tr>\n",
       "    <tr>\n",
       "      <th>...</th>\n",
       "      <td>...</td>\n",
       "      <td>...</td>\n",
       "      <td>...</td>\n",
       "      <td>...</td>\n",
       "      <td>...</td>\n",
       "      <td>...</td>\n",
       "      <td>...</td>\n",
       "      <td>...</td>\n",
       "    </tr>\n",
       "    <tr>\n",
       "      <th>48615</th>\n",
       "      <td>1</td>\n",
       "      <td>2015-12-31</td>\n",
       "      <td>14:40:24</td>\n",
       "      <td>L</td>\n",
       "      <td>southw_ckn</td>\n",
       "      <td>20.75</td>\n",
       "      <td>Chicken</td>\n",
       "      <td>Chicken, Tomatoes, Red Peppers, Red Onions, Ja...</td>\n",
       "    </tr>\n",
       "    <tr>\n",
       "      <th>48616</th>\n",
       "      <td>1</td>\n",
       "      <td>2015-12-31</td>\n",
       "      <td>14:40:24</td>\n",
       "      <td>M</td>\n",
       "      <td>southw_ckn</td>\n",
       "      <td>16.75</td>\n",
       "      <td>Chicken</td>\n",
       "      <td>Chicken, Tomatoes, Red Peppers, Red Onions, Ja...</td>\n",
       "    </tr>\n",
       "    <tr>\n",
       "      <th>48617</th>\n",
       "      <td>1</td>\n",
       "      <td>2015-12-31</td>\n",
       "      <td>14:40:24</td>\n",
       "      <td>S</td>\n",
       "      <td>spicy_ital</td>\n",
       "      <td>12.50</td>\n",
       "      <td>Supreme</td>\n",
       "      <td>Capocollo, Tomatoes, Goat Cheese, Artichokes, ...</td>\n",
       "    </tr>\n",
       "    <tr>\n",
       "      <th>48618</th>\n",
       "      <td>1</td>\n",
       "      <td>2015-12-31</td>\n",
       "      <td>14:43:46</td>\n",
       "      <td>L</td>\n",
       "      <td>napolitana</td>\n",
       "      <td>20.50</td>\n",
       "      <td>Classic</td>\n",
       "      <td>Tomatoes, Anchovies, Green Olives, Red Onions,...</td>\n",
       "    </tr>\n",
       "    <tr>\n",
       "      <th>48619</th>\n",
       "      <td>1</td>\n",
       "      <td>2015-12-31</td>\n",
       "      <td>14:52:25</td>\n",
       "      <td>L</td>\n",
       "      <td>classic_dlx</td>\n",
       "      <td>20.50</td>\n",
       "      <td>Classic</td>\n",
       "      <td>Pepperoni, Mushrooms, Red Onions, Red Peppers,...</td>\n",
       "    </tr>\n",
       "  </tbody>\n",
       "</table>\n",
       "<p>48620 rows × 8 columns</p>\n",
       "</div>"
      ],
      "text/plain": [
       "       quantity        date      time size pizza_type_id  price category  \\\n",
       "0             1  2015-01-03  14:22:10    M      hawaiian  13.25  Classic   \n",
       "1             1  2015-01-03  14:32:51   XL     the_greek  25.50  Classic   \n",
       "2             1  2015-01-03  14:40:42    S  mediterraneo  12.00   Veggie   \n",
       "3             1  2015-01-03  14:48:45    M   spinach_fet  16.00   Veggie   \n",
       "4             1  2015-01-03  14:49:58    M     pepperoni  12.50  Classic   \n",
       "...         ...         ...       ...  ...           ...    ...      ...   \n",
       "48615         1  2015-12-31  14:40:24    L    southw_ckn  20.75  Chicken   \n",
       "48616         1  2015-12-31  14:40:24    M    southw_ckn  16.75  Chicken   \n",
       "48617         1  2015-12-31  14:40:24    S    spicy_ital  12.50  Supreme   \n",
       "48618         1  2015-12-31  14:43:46    L    napolitana  20.50  Classic   \n",
       "48619         1  2015-12-31  14:52:25    L   classic_dlx  20.50  Classic   \n",
       "\n",
       "                                             ingredients  \n",
       "0               Sliced Ham, Pineapple, Mozzarella Cheese  \n",
       "1      Kalamata Olives, Feta Cheese, Tomatoes, Garlic...  \n",
       "2      Spinach, Artichokes, Kalamata Olives, Sun-drie...  \n",
       "3      Spinach, Mushrooms, Red Onions, Feta Cheese, G...  \n",
       "4                           Mozzarella Cheese, Pepperoni  \n",
       "...                                                  ...  \n",
       "48615  Chicken, Tomatoes, Red Peppers, Red Onions, Ja...  \n",
       "48616  Chicken, Tomatoes, Red Peppers, Red Onions, Ja...  \n",
       "48617  Capocollo, Tomatoes, Goat Cheese, Artichokes, ...  \n",
       "48618  Tomatoes, Anchovies, Green Olives, Red Onions,...  \n",
       "48619  Pepperoni, Mushrooms, Red Onions, Red Peppers,...  \n",
       "\n",
       "[48620 rows x 8 columns]"
      ]
     },
     "execution_count": 3,
     "metadata": {},
     "output_type": "execute_result"
    }
   ],
   "source": [
    "df"
   ]
  },
  {
   "cell_type": "code",
   "execution_count": 4,
   "metadata": {},
   "outputs": [],
   "source": [
    "df.rename(columns={'pizza_type_id': 'pizza_flavor'}, inplace=True) # I think this name is more appropriate\n"
   ]
  },
  {
   "cell_type": "code",
   "execution_count": 45,
   "metadata": {},
   "outputs": [
    {
     "data": {
      "text/plain": [
       "category\n",
       "Chicken    0.222439\n",
       "Classic    0.299856\n",
       "Supreme    0.242225\n",
       "Veggie     0.235479\n",
       "Name: quantity, dtype: float64"
      ]
     },
     "execution_count": 45,
     "metadata": {},
     "output_type": "execute_result"
    }
   ],
   "source": [
    "df.groupby(df['category'])['quantity'].count() / df['quantity'].count() \n",
    "# getting percentage of each category\n",
    "# so that we can weigh the popularity of each category\n",
    "# later we see the unique values of each category\n",
    "# we see that supreme and veggie are overrepresented by the shop\n",
    "# if we standardized the count percentage by the number of unique values\n",
    "# in each category, we would get a better representation of popularity \n",
    "# relative to the unique flavors the restuarant offers.\n",
    "\n",
    "# my predicition is that the most popular pizza flavor\n",
    "# per unique flavor per category is the chicken category\n",
    "# I would recommend the restuarant to offer more chicken flavors\n",
    "# As well as reduce the number of supreme and veggie flavors\n",
    "\n"
   ]
  },
  {
   "cell_type": "code",
   "execution_count": 19,
   "metadata": {},
   "outputs": [
    {
     "data": {
      "text/plain": [
       "category\n",
       "Chicken    6\n",
       "Classic    8\n",
       "Supreme    9\n",
       "Veggie     9\n",
       "Name: pizza_flavor, dtype: int64"
      ]
     },
     "execution_count": 19,
     "metadata": {},
     "output_type": "execute_result"
    }
   ],
   "source": [
    "unique_flavors_per_category = df.groupby('category')['pizza_flavor'].nunique()\n",
    "unique_flavors_per_category"
   ]
  },
  {
   "cell_type": "code",
   "execution_count": 42,
   "metadata": {},
   "outputs": [
    {
     "data": {
      "image/png": "[encoded data removed]",
      "text/plain": [
       "<Figure size 640x480 with 1 Axes>"
      ]
     },
     "metadata": {},
     "output_type": "display_data"
    }
   ],
   "source": [
    "\n",
    "# Calculate total quantity for each category so that we can showcase the most popular categories\n",
    "total_quantity_per_category = df.groupby('category')['quantity'].sum()\n",
    "# Normalize quantities to a range between 0 and 1 so that we can use them in a color gradient\n",
    "normalized_quantities = (total_quantity_per_category - total_quantity_per_category.min()) / (total_quantity_per_category.max() - total_quantity_per_category.min()) \n",
    "\"\"\"\n",
    "1. First part subtracts the minimum quantity in the dataset from each quantity. \n",
    "This effectively shifts the entire dataset so that the smallest value is now 0.\n",
    "\n",
    "2. Second part divides each quantity by the range of the dataset.\n",
    "This part is a little tricky. The range of the dataset is the difference between the maximum and minimum values.\n",
    " \"\"\"\n",
    "\n",
    "\n",
    "# Adding a color gradient for detail\n",
    "cmap = plt.get_cmap('viridis')\n",
    "colors = cmap(normalized_quantities)\n",
    "\n",
    "# Plot number of unique flavors per category with these colors\n",
    "plt.bar(unique_flavors_per_category.index, unique_flavors_per_category.values, color=colors)\n",
    "\n",
    "plt.title('Number of Unique Pizza Flavors per Category')\n",
    "plt.xlabel('Category')\n",
    "plt.ylabel('Number of Unique Flavors')\n",
    "\n",
    "plt.show()\n",
    "\n",
    "# this kinda sucks because the legend is not showing the correct colors\n"
   ]
  },
  {
   "cell_type": "code",
   "execution_count": null,
   "metadata": {},
   "outputs": [],
   "source": []
  }
 ],
 "metadata": {
  "kernelspec": {
   "display_name": "Python 3",
   "language": "python",
   "name": "python3"
  },
  "language_info": {
   "codemirror_mode": {
    "name": "ipython",
    "version": 3
   },
   "file_extension": ".py",
   "mimetype": "text/x-python",
   "name": "python",
   "nbconvert_exporter": "python",
   "pygments_lexer": "ipython3",
   "version": "3.12.0"
  }
 },
 "nbformat": 4,
 "nbformat_minor": 2
}
