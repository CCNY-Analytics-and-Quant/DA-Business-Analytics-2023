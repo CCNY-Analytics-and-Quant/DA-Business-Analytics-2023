{
 "cells": [
  {
   "cell_type": "markdown",
   "id": "ef91d3e3",
   "metadata": {},
   "source": [
    "# Importing libraries"
   ]
  },
  {
   "cell_type": "code",
   "execution_count": 2,
   "id": "18d15220",
   "metadata": {},
   "outputs": [],
   "source": [
    "import pathlib\n",
    "import pandas as pd\n",
    "import calendar\n",
    "import numpy as np\n",
    "\n",
    "from dash.dependencies import Input, Output\n",
    "import plotly.express as px\n",
    "import plotly.subplots as sp\n",
    "import plotly.graph_objects as go\n",
    "from dash import Dash, html, dcc\n",
    "\n",
    "import os"
   ]
  },
  {
   "cell_type": "code",
   "execution_count": 3,
   "metadata": {},
   "outputs": [],
   "source": [
    "dir =  os.getcwd()\n",
    "FILE = dir + \"/SQL/SQL_output.csv\" \n",
    "RAIN = dir + \"/Resources/2015_RainFall.csv\""
   ]
  },
  {
   "cell_type": "code",
   "execution_count": 4,
   "metadata": {},
   "outputs": [
    {
     "name": "stdout",
     "output_type": "stream",
     "text": [
      "No missing values\n"
     ]
    }
   ],
   "source": [
    "rain = pd.read_csv(RAIN)\n",
    "df = pd.read_csv(FILE)\n",
    "df if df.isna().sum(axis=1).any() else print(\"No missing values\") "
   ]
  },
  {
   "cell_type": "code",
   "execution_count": 5,
   "metadata": {},
   "outputs": [
    {
     "name": "stderr",
     "output_type": "stream",
     "text": [
      "/var/folders/8n/frf4cdjd6k134p3nvgp4kf6c0000gn/T/ipykernel_10180/3655387994.py:8: UserWarning: Could not infer format, so each element will be parsed individually, falling back to `dateutil`. To ensure parsing is consistent and as-expected, please specify a format.\n",
      "  df['hour'] = pd.to_datetime(df['time']).dt.hour\n"
     ]
    },
    {
     "data": {
      "text/html": [
       "<div>\n",
       "<style scoped>\n",
       "    .dataframe tbody tr th:only-of-type {\n",
       "        vertical-align: middle;\n",
       "    }\n",
       "\n",
       "    .dataframe tbody tr th {\n",
       "        vertical-align: top;\n",
       "    }\n",
       "\n",
       "    .dataframe thead th {\n",
       "        text-align: right;\n",
       "    }\n",
       "</style>\n",
       "<table border=\"1\" class=\"dataframe\">\n",
       "  <thead>\n",
       "    <tr style=\"text-align: right;\">\n",
       "      <th></th>\n",
       "      <th>quantity</th>\n",
       "      <th>date</th>\n",
       "      <th>time</th>\n",
       "      <th>size</th>\n",
       "      <th>pizza_flavor</th>\n",
       "      <th>price</th>\n",
       "      <th>category</th>\n",
       "      <th>month</th>\n",
       "      <th>day</th>\n",
       "      <th>day_of_week</th>\n",
       "      <th>...</th>\n",
       "      <th>Sliced Ham</th>\n",
       "      <th>Smoked Gouda Cheese</th>\n",
       "      <th>Soppressata Salami</th>\n",
       "      <th>Spinach</th>\n",
       "      <th>Sun-dried Tomatoes</th>\n",
       "      <th>Thai Sweet Chilli Sauce</th>\n",
       "      <th>Thyme</th>\n",
       "      <th>Tomatoes</th>\n",
       "      <th>Zucchini</th>\n",
       "      <th>�Nduja Salami</th>\n",
       "    </tr>\n",
       "  </thead>\n",
       "  <tbody>\n",
       "    <tr>\n",
       "      <th>0</th>\n",
       "      <td>1</td>\n",
       "      <td>2015-01-03</td>\n",
       "      <td>14:22:10</td>\n",
       "      <td>M</td>\n",
       "      <td>hawaiian</td>\n",
       "      <td>13.25</td>\n",
       "      <td>Classic</td>\n",
       "      <td>1</td>\n",
       "      <td>3</td>\n",
       "      <td>Saturday</td>\n",
       "      <td>...</td>\n",
       "      <td>1</td>\n",
       "      <td>0</td>\n",
       "      <td>0</td>\n",
       "      <td>0</td>\n",
       "      <td>0</td>\n",
       "      <td>0</td>\n",
       "      <td>0</td>\n",
       "      <td>0</td>\n",
       "      <td>0</td>\n",
       "      <td>0</td>\n",
       "    </tr>\n",
       "    <tr>\n",
       "      <th>1</th>\n",
       "      <td>1</td>\n",
       "      <td>2015-01-03</td>\n",
       "      <td>14:32:51</td>\n",
       "      <td>XL</td>\n",
       "      <td>the_greek</td>\n",
       "      <td>25.50</td>\n",
       "      <td>Classic</td>\n",
       "      <td>1</td>\n",
       "      <td>3</td>\n",
       "      <td>Saturday</td>\n",
       "      <td>...</td>\n",
       "      <td>0</td>\n",
       "      <td>0</td>\n",
       "      <td>0</td>\n",
       "      <td>0</td>\n",
       "      <td>0</td>\n",
       "      <td>0</td>\n",
       "      <td>0</td>\n",
       "      <td>1</td>\n",
       "      <td>0</td>\n",
       "      <td>0</td>\n",
       "    </tr>\n",
       "    <tr>\n",
       "      <th>2</th>\n",
       "      <td>1</td>\n",
       "      <td>2015-01-03</td>\n",
       "      <td>14:40:42</td>\n",
       "      <td>S</td>\n",
       "      <td>mediterraneo</td>\n",
       "      <td>12.00</td>\n",
       "      <td>Veggie</td>\n",
       "      <td>1</td>\n",
       "      <td>3</td>\n",
       "      <td>Saturday</td>\n",
       "      <td>...</td>\n",
       "      <td>0</td>\n",
       "      <td>0</td>\n",
       "      <td>0</td>\n",
       "      <td>1</td>\n",
       "      <td>1</td>\n",
       "      <td>0</td>\n",
       "      <td>0</td>\n",
       "      <td>0</td>\n",
       "      <td>0</td>\n",
       "      <td>0</td>\n",
       "    </tr>\n",
       "    <tr>\n",
       "      <th>3</th>\n",
       "      <td>1</td>\n",
       "      <td>2015-01-03</td>\n",
       "      <td>14:48:45</td>\n",
       "      <td>M</td>\n",
       "      <td>spinach_fet</td>\n",
       "      <td>16.00</td>\n",
       "      <td>Veggie</td>\n",
       "      <td>1</td>\n",
       "      <td>3</td>\n",
       "      <td>Saturday</td>\n",
       "      <td>...</td>\n",
       "      <td>0</td>\n",
       "      <td>0</td>\n",
       "      <td>0</td>\n",
       "      <td>1</td>\n",
       "      <td>0</td>\n",
       "      <td>0</td>\n",
       "      <td>0</td>\n",
       "      <td>0</td>\n",
       "      <td>0</td>\n",
       "      <td>0</td>\n",
       "    </tr>\n",
       "    <tr>\n",
       "      <th>4</th>\n",
       "      <td>1</td>\n",
       "      <td>2015-01-03</td>\n",
       "      <td>14:49:58</td>\n",
       "      <td>M</td>\n",
       "      <td>pepperoni</td>\n",
       "      <td>12.50</td>\n",
       "      <td>Classic</td>\n",
       "      <td>1</td>\n",
       "      <td>3</td>\n",
       "      <td>Saturday</td>\n",
       "      <td>...</td>\n",
       "      <td>0</td>\n",
       "      <td>0</td>\n",
       "      <td>0</td>\n",
       "      <td>0</td>\n",
       "      <td>0</td>\n",
       "      <td>0</td>\n",
       "      <td>0</td>\n",
       "      <td>0</td>\n",
       "      <td>0</td>\n",
       "      <td>0</td>\n",
       "    </tr>\n",
       "    <tr>\n",
       "      <th>...</th>\n",
       "      <td>...</td>\n",
       "      <td>...</td>\n",
       "      <td>...</td>\n",
       "      <td>...</td>\n",
       "      <td>...</td>\n",
       "      <td>...</td>\n",
       "      <td>...</td>\n",
       "      <td>...</td>\n",
       "      <td>...</td>\n",
       "      <td>...</td>\n",
       "      <td>...</td>\n",
       "      <td>...</td>\n",
       "      <td>...</td>\n",
       "      <td>...</td>\n",
       "      <td>...</td>\n",
       "      <td>...</td>\n",
       "      <td>...</td>\n",
       "      <td>...</td>\n",
       "      <td>...</td>\n",
       "      <td>...</td>\n",
       "      <td>...</td>\n",
       "    </tr>\n",
       "    <tr>\n",
       "      <th>48615</th>\n",
       "      <td>1</td>\n",
       "      <td>2015-12-31</td>\n",
       "      <td>14:40:24</td>\n",
       "      <td>L</td>\n",
       "      <td>southw_ckn</td>\n",
       "      <td>20.75</td>\n",
       "      <td>Chicken</td>\n",
       "      <td>12</td>\n",
       "      <td>31</td>\n",
       "      <td>Thursday</td>\n",
       "      <td>...</td>\n",
       "      <td>0</td>\n",
       "      <td>0</td>\n",
       "      <td>0</td>\n",
       "      <td>0</td>\n",
       "      <td>0</td>\n",
       "      <td>0</td>\n",
       "      <td>0</td>\n",
       "      <td>1</td>\n",
       "      <td>0</td>\n",
       "      <td>0</td>\n",
       "    </tr>\n",
       "    <tr>\n",
       "      <th>48616</th>\n",
       "      <td>1</td>\n",
       "      <td>2015-12-31</td>\n",
       "      <td>14:40:24</td>\n",
       "      <td>M</td>\n",
       "      <td>southw_ckn</td>\n",
       "      <td>16.75</td>\n",
       "      <td>Chicken</td>\n",
       "      <td>12</td>\n",
       "      <td>31</td>\n",
       "      <td>Thursday</td>\n",
       "      <td>...</td>\n",
       "      <td>0</td>\n",
       "      <td>0</td>\n",
       "      <td>0</td>\n",
       "      <td>0</td>\n",
       "      <td>0</td>\n",
       "      <td>0</td>\n",
       "      <td>0</td>\n",
       "      <td>1</td>\n",
       "      <td>0</td>\n",
       "      <td>0</td>\n",
       "    </tr>\n",
       "    <tr>\n",
       "      <th>48617</th>\n",
       "      <td>1</td>\n",
       "      <td>2015-12-31</td>\n",
       "      <td>14:40:24</td>\n",
       "      <td>S</td>\n",
       "      <td>spicy_ital</td>\n",
       "      <td>12.50</td>\n",
       "      <td>Supreme</td>\n",
       "      <td>12</td>\n",
       "      <td>31</td>\n",
       "      <td>Thursday</td>\n",
       "      <td>...</td>\n",
       "      <td>0</td>\n",
       "      <td>0</td>\n",
       "      <td>0</td>\n",
       "      <td>0</td>\n",
       "      <td>0</td>\n",
       "      <td>0</td>\n",
       "      <td>0</td>\n",
       "      <td>1</td>\n",
       "      <td>0</td>\n",
       "      <td>0</td>\n",
       "    </tr>\n",
       "    <tr>\n",
       "      <th>48618</th>\n",
       "      <td>1</td>\n",
       "      <td>2015-12-31</td>\n",
       "      <td>14:43:46</td>\n",
       "      <td>L</td>\n",
       "      <td>napolitana</td>\n",
       "      <td>20.50</td>\n",
       "      <td>Classic</td>\n",
       "      <td>12</td>\n",
       "      <td>31</td>\n",
       "      <td>Thursday</td>\n",
       "      <td>...</td>\n",
       "      <td>0</td>\n",
       "      <td>0</td>\n",
       "      <td>0</td>\n",
       "      <td>0</td>\n",
       "      <td>0</td>\n",
       "      <td>0</td>\n",
       "      <td>0</td>\n",
       "      <td>1</td>\n",
       "      <td>0</td>\n",
       "      <td>0</td>\n",
       "    </tr>\n",
       "    <tr>\n",
       "      <th>48619</th>\n",
       "      <td>1</td>\n",
       "      <td>2015-12-31</td>\n",
       "      <td>14:52:25</td>\n",
       "      <td>L</td>\n",
       "      <td>classic_dlx</td>\n",
       "      <td>20.50</td>\n",
       "      <td>Classic</td>\n",
       "      <td>12</td>\n",
       "      <td>31</td>\n",
       "      <td>Thursday</td>\n",
       "      <td>...</td>\n",
       "      <td>0</td>\n",
       "      <td>0</td>\n",
       "      <td>0</td>\n",
       "      <td>0</td>\n",
       "      <td>0</td>\n",
       "      <td>0</td>\n",
       "      <td>0</td>\n",
       "      <td>0</td>\n",
       "      <td>0</td>\n",
       "      <td>0</td>\n",
       "    </tr>\n",
       "  </tbody>\n",
       "</table>\n",
       "<p>48620 rows × 78 columns</p>\n",
       "</div>"
      ],
      "text/plain": [
       "       quantity       date      time size  pizza_flavor  price category  \\\n",
       "0             1 2015-01-03  14:22:10    M      hawaiian  13.25  Classic   \n",
       "1             1 2015-01-03  14:32:51   XL     the_greek  25.50  Classic   \n",
       "2             1 2015-01-03  14:40:42    S  mediterraneo  12.00   Veggie   \n",
       "3             1 2015-01-03  14:48:45    M   spinach_fet  16.00   Veggie   \n",
       "4             1 2015-01-03  14:49:58    M     pepperoni  12.50  Classic   \n",
       "...         ...        ...       ...  ...           ...    ...      ...   \n",
       "48615         1 2015-12-31  14:40:24    L    southw_ckn  20.75  Chicken   \n",
       "48616         1 2015-12-31  14:40:24    M    southw_ckn  16.75  Chicken   \n",
       "48617         1 2015-12-31  14:40:24    S    spicy_ital  12.50  Supreme   \n",
       "48618         1 2015-12-31  14:43:46    L    napolitana  20.50  Classic   \n",
       "48619         1 2015-12-31  14:52:25    L   classic_dlx  20.50  Classic   \n",
       "\n",
       "       month  day day_of_week  ...  Sliced Ham Smoked Gouda Cheese  \\\n",
       "0          1    3    Saturday  ...           1                   0   \n",
       "1          1    3    Saturday  ...           0                   0   \n",
       "2          1    3    Saturday  ...           0                   0   \n",
       "3          1    3    Saturday  ...           0                   0   \n",
       "4          1    3    Saturday  ...           0                   0   \n",
       "...      ...  ...         ...  ...         ...                 ...   \n",
       "48615     12   31    Thursday  ...           0                   0   \n",
       "48616     12   31    Thursday  ...           0                   0   \n",
       "48617     12   31    Thursday  ...           0                   0   \n",
       "48618     12   31    Thursday  ...           0                   0   \n",
       "48619     12   31    Thursday  ...           0                   0   \n",
       "\n",
       "       Soppressata Salami  Spinach  Sun-dried Tomatoes  \\\n",
       "0                       0        0                   0   \n",
       "1                       0        0                   0   \n",
       "2                       0        1                   1   \n",
       "3                       0        1                   0   \n",
       "4                       0        0                   0   \n",
       "...                   ...      ...                 ...   \n",
       "48615                   0        0                   0   \n",
       "48616                   0        0                   0   \n",
       "48617                   0        0                   0   \n",
       "48618                   0        0                   0   \n",
       "48619                   0        0                   0   \n",
       "\n",
       "       Thai Sweet Chilli Sauce  Thyme  Tomatoes  Zucchini  �Nduja Salami  \n",
       "0                            0      0         0         0              0  \n",
       "1                            0      0         1         0              0  \n",
       "2                            0      0         0         0              0  \n",
       "3                            0      0         0         0              0  \n",
       "4                            0      0         0         0              0  \n",
       "...                        ...    ...       ...       ...            ...  \n",
       "48615                        0      0         1         0              0  \n",
       "48616                        0      0         1         0              0  \n",
       "48617                        0      0         1         0              0  \n",
       "48618                        0      0         1         0              0  \n",
       "48619                        0      0         0         0              0  \n",
       "\n",
       "[48620 rows x 78 columns]"
      ]
     },
     "execution_count": 5,
     "metadata": {},
     "output_type": "execute_result"
    }
   ],
   "source": [
    "# Formatting the data\n",
    "df.rename(columns={'pizza_type_id': 'pizza_flavor'}, inplace=True) \n",
    "df['date'] = pd.to_datetime(df['date'])\n",
    "df['month'] = df['date'].dt.month\n",
    "df['day'] = df['date'].dt.day\n",
    "df['day_of_week'] = df['date'].dt.day_name()\n",
    "day_order = ['Monday', 'Tuesday', 'Wednesday', 'Thursday', 'Friday', 'Saturday','Sunday']\n",
    "df['hour'] = pd.to_datetime(df['time']).dt.hour\n",
    "\n",
    "# Creating order id\n",
    "df['order_id'] = df['month'].apply(lambda x: str(x).zfill(2)) + df['day'].apply(lambda x: str(x).zfill(2)) + df['time']\n",
    "\n",
    "# Create 'multiple_orders' column, 1 if the order_id is duplicated, 0 if not\n",
    "df['multiple_orders'] = df.duplicated('order_id').astype(int)\n",
    "\n",
    "# Fixing typing errors in 'ingredients' column\n",
    "df['ingredients'] = df['ingredients'].str.replace(', ', ',') # one space\n",
    "df['ingredients'] = df['ingredients'].str.replace(',  ', ',') # two spaces after comma\n",
    "\n",
    "# Perform one-hot encoding on the 'ingredients' column\n",
    "ingredients_dummies = df['ingredients'].str.get_dummies(',')\n",
    "\n",
    "# Add the new columns to the original DataFrame\n",
    "df = pd.concat([df, ingredients_dummies], axis=1)\n",
    "df = df.drop('ingredients', axis=1) # Drop the OG 'ingredients' column\n",
    "df "
   ]
  },
  {
   "cell_type": "code",
   "execution_count": 6,
   "metadata": {},
   "outputs": [
    {
     "name": "stdout",
     "output_type": "stream",
     "text": [
      "total quantity sold at this hour of this day of the week\n",
      "day_of_week  hour\n",
      "Friday       11       388\n",
      "             12      1101\n",
      "             13      1040\n",
      "             14       525\n",
      "             15       441\n",
      "                     ... \n",
      "Wednesday    18       756\n",
      "             19       516\n",
      "             20       398\n",
      "             21       271\n",
      "             22       146\n",
      "Name: quantity, Length: 95, dtype: int64\n"
     ]
    }
   ],
   "source": [
    "pd.set_option('display.max_columns', None)\n",
    "\n",
    "hourly_sum_quantity = df.groupby(['day_of_week', 'hour'])['quantity'].sum()\n",
    "print('total quantity sold at this hour of this day of the week')\n",
    "print(hourly_sum_quantity)\n"
   ]
  },
  {
   "cell_type": "markdown",
   "metadata": {},
   "source": [
    "    # 4 employees if more than (1040 in a year) 20 pizzas sold in an hour\n",
    "    # average price of pizza is $ 20. Suppose margin is 50% = $10. \n",
    "    # profit is 20 * 10 = 200 an hour. Wage for 4 employees is 60 an hour. \n",
    "    # wage over proft ratio = 0.30\n",
    "\n",
    "    # 3 employees if more than (780 in a year) 15 pizzas sold in an hour.\n",
    "    # average price of pizza is $ 20. Suppose margin is 50% = $10. \n",
    "    # profit is 15 * 10 = 150 an hour. Wage for 3 employees is 45 an hour. \n",
    "    # wage over proft ratio = 0.30\n",
    "\n",
    "    # 2 employees if more than (520 in a year) 10 pizzas sold in an hour \n",
    "    # average price of pizza is $ 20. Suppose margin is 50% = $10.\n",
    "    # profit is 10 * 10 = 100 an hour. Wage for 2 employees is 30 an hour.\n",
    "    # wage over proft ratio = 0.30\n",
    "\n",
    "    # 1 employee if more than (195 in a year) 3.75 pizzas sold in an hour\n",
    "    # average price of pizza is $ 20. Suppose margin is 50% = $10.\n",
    "    # profit is 3.75 * 10 = 37.5 an hour. Wage for 1 employee is 15 an hour.\n",
    "    # wage over proft ratio = 0.4\n",
    "\n",
    "    # 0 employees if less than (195 in a year) 3.75 pizzas sold in an hour (don't need to be open, price of wage > profit)"
   ]
  },
  {
   "cell_type": "code",
   "execution_count": 7,
   "metadata": {},
   "outputs": [],
   "source": [
    "hourly_sum_quantity = hourly_sum_quantity.apply(lambda x: 4 if x > 1040 else 3 if x > 780 else 2 if x > 520 else 1 if x > 195 else 0)\n",
    "hourly_sum_quantity_df = hourly_sum_quantity.reset_index(name='desired_employee_count')\n",
    "hourly_sum_quantity_df['default_employee_count'] = hourly_sum_quantity_df['hour'].apply(lambda x: 3 if 10 < x < 20 else 2)"
   ]
  },
  {
   "cell_type": "code",
   "execution_count": 8,
   "metadata": {},
   "outputs": [
    {
     "name": "stdout",
     "output_type": "stream",
     "text": [
      "day_of_week                     FridayFridayFridayFridayFridayFridayFridayFrid...\n",
      "hour                                                                         1560\n",
      "desired_employee_count                                                        151\n",
      "default_employee_count                                                        253\n",
      "wage                                                                         1425\n",
      "1_wk_difference_in_labor                                                      102\n",
      "est_1_yr_difference_in_labor                                                 5304\n",
      "1_wk_labor_cost_diff                                                         1530\n",
      "est_1_yr_labor_cost_diff                                                    79560\n",
      "dtype: object\n"
     ]
    }
   ],
   "source": [
    "\n",
    "hourly_sum_quantity_df['wage'] = 15\n",
    "hourly_sum_quantity_df['1_wk_difference_in_labor'] = hourly_sum_quantity_df['default_employee_count'] - hourly_sum_quantity_df['desired_employee_count']\n",
    "hourly_sum_quantity_df['est_1_yr_difference_in_labor'] = hourly_sum_quantity_df['1_wk_difference_in_labor'] * 52\n",
    "hourly_sum_quantity_df['1_wk_labor_cost_diff'] = hourly_sum_quantity_df['1_wk_difference_in_labor'] * hourly_sum_quantity_df['wage']\n",
    "hourly_sum_quantity_df['est_1_yr_labor_cost_diff'] =hourly_sum_quantity_df['1_wk_labor_cost_diff'] * 52\n",
    "total = hourly_sum_quantity_df.sum() \n",
    "print(total)"
   ]
  },
  {
   "cell_type": "code",
   "execution_count": 9,
   "metadata": {},
   "outputs": [
    {
     "ename": "NameError",
     "evalue": "name 'app' is not defined",
     "output_type": "error",
     "traceback": [
      "\u001b[0;31m---------------------------------------------------------------------------\u001b[0m",
      "\u001b[0;31mNameError\u001b[0m                                 Traceback (most recent call last)",
      "\u001b[1;32m/Users/jcarlito/Documents/GitHub/DA-Business-Analytics-2023/Data_analysis_server.ipynb Cell 10\u001b[0m line \u001b[0;36m2\n\u001b[1;32m      <a href='vscode-notebook-cell:/Users/jcarlito/Documents/GitHub/DA-Business-Analytics-2023/Data_analysis_server.ipynb#X12sZmlsZQ%3D%3D?line=8'>9</a>\u001b[0m tab_style \u001b[39m=\u001b[39m {\n\u001b[1;32m     <a href='vscode-notebook-cell:/Users/jcarlito/Documents/GitHub/DA-Business-Analytics-2023/Data_analysis_server.ipynb#X12sZmlsZQ%3D%3D?line=9'>10</a>\u001b[0m     \u001b[39m'\u001b[39m\u001b[39mbackgroundColor\u001b[39m\u001b[39m'\u001b[39m: \u001b[39m'\u001b[39m\u001b[39m#121212\u001b[39m\u001b[39m'\u001b[39m,  \u001b[39m# darker grey tab\u001b[39;00m\n\u001b[1;32m     <a href='vscode-notebook-cell:/Users/jcarlito/Documents/GitHub/DA-Business-Analytics-2023/Data_analysis_server.ipynb#X12sZmlsZQ%3D%3D?line=10'>11</a>\u001b[0m     \u001b[39m'\u001b[39m\u001b[39mcolor\u001b[39m\u001b[39m'\u001b[39m: \u001b[39m'\u001b[39m\u001b[39m#FFFFFF\u001b[39m\u001b[39m'\u001b[39m,  \u001b[39m# white text always\u001b[39;00m\n\u001b[1;32m     <a href='vscode-notebook-cell:/Users/jcarlito/Documents/GitHub/DA-Business-Analytics-2023/Data_analysis_server.ipynb#X12sZmlsZQ%3D%3D?line=11'>12</a>\u001b[0m     \u001b[39m'\u001b[39m\u001b[39mpadding\u001b[39m\u001b[39m'\u001b[39m: \u001b[39m'\u001b[39m\u001b[39m10px\u001b[39m\u001b[39m'\u001b[39m,  \n\u001b[1;32m     <a href='vscode-notebook-cell:/Users/jcarlito/Documents/GitHub/DA-Business-Analytics-2023/Data_analysis_server.ipynb#X12sZmlsZQ%3D%3D?line=12'>13</a>\u001b[0m     \u001b[39m'\u001b[39m\u001b[39mborder\u001b[39m\u001b[39m'\u001b[39m: \u001b[39m'\u001b[39m\u001b[39mnone\u001b[39m\u001b[39m'\u001b[39m  \u001b[39m# Remove borders\u001b[39;00m\n\u001b[1;32m     <a href='vscode-notebook-cell:/Users/jcarlito/Documents/GitHub/DA-Business-Analytics-2023/Data_analysis_server.ipynb#X12sZmlsZQ%3D%3D?line=13'>14</a>\u001b[0m }\n\u001b[1;32m     <a href='vscode-notebook-cell:/Users/jcarlito/Documents/GitHub/DA-Business-Analytics-2023/Data_analysis_server.ipynb#X12sZmlsZQ%3D%3D?line=15'>16</a>\u001b[0m tab_selected_style \u001b[39m=\u001b[39m {\n\u001b[1;32m     <a href='vscode-notebook-cell:/Users/jcarlito/Documents/GitHub/DA-Business-Analytics-2023/Data_analysis_server.ipynb#X12sZmlsZQ%3D%3D?line=16'>17</a>\u001b[0m     \u001b[39m'\u001b[39m\u001b[39mbackgroundColor\u001b[39m\u001b[39m'\u001b[39m: \u001b[39m'\u001b[39m\u001b[39m#2D2D2D\u001b[39m\u001b[39m'\u001b[39m,  \u001b[39m# Selected tab, light grey\u001b[39;00m\n\u001b[1;32m     <a href='vscode-notebook-cell:/Users/jcarlito/Documents/GitHub/DA-Business-Analytics-2023/Data_analysis_server.ipynb#X12sZmlsZQ%3D%3D?line=17'>18</a>\u001b[0m     \u001b[39m'\u001b[39m\u001b[39mcolor\u001b[39m\u001b[39m'\u001b[39m: \u001b[39m'\u001b[39m\u001b[39m#7FDBFF\u001b[39m\u001b[39m'\u001b[39m,  \u001b[39m# changes to blue when selected\u001b[39;00m\n\u001b[1;32m     <a href='vscode-notebook-cell:/Users/jcarlito/Documents/GitHub/DA-Business-Analytics-2023/Data_analysis_server.ipynb#X12sZmlsZQ%3D%3D?line=18'>19</a>\u001b[0m     \u001b[39m'\u001b[39m\u001b[39mpadding\u001b[39m\u001b[39m'\u001b[39m: \u001b[39m'\u001b[39m\u001b[39m10px\u001b[39m\u001b[39m'\u001b[39m,  \n\u001b[1;32m     <a href='vscode-notebook-cell:/Users/jcarlito/Documents/GitHub/DA-Business-Analytics-2023/Data_analysis_server.ipynb#X12sZmlsZQ%3D%3D?line=19'>20</a>\u001b[0m     \u001b[39m'\u001b[39m\u001b[39mborderRadius\u001b[39m\u001b[39m'\u001b[39m: \u001b[39m'\u001b[39m\u001b[39m5px\u001b[39m\u001b[39m'\u001b[39m  \u001b[39m# Rounded corners for selected tab\u001b[39;00m\n\u001b[1;32m     <a href='vscode-notebook-cell:/Users/jcarlito/Documents/GitHub/DA-Business-Analytics-2023/Data_analysis_server.ipynb#X12sZmlsZQ%3D%3D?line=20'>21</a>\u001b[0m }\n\u001b[0;32m---> <a href='vscode-notebook-cell:/Users/jcarlito/Documents/GitHub/DA-Business-Analytics-2023/Data_analysis_server.ipynb#X12sZmlsZQ%3D%3D?line=22'>23</a>\u001b[0m app\u001b[39m.\u001b[39mlayout \u001b[39m=\u001b[39m html\u001b[39m.\u001b[39mDiv(style\u001b[39m=\u001b[39m{\n\u001b[1;32m     <a href='vscode-notebook-cell:/Users/jcarlito/Documents/GitHub/DA-Business-Analytics-2023/Data_analysis_server.ipynb#X12sZmlsZQ%3D%3D?line=23'>24</a>\u001b[0m     \u001b[39m'\u001b[39m\u001b[39mbackgroundColor\u001b[39m\u001b[39m'\u001b[39m: \u001b[39m'\u001b[39m\u001b[39m#303030\u001b[39m\u001b[39m'\u001b[39m,  \u001b[39m# Dark background always\u001b[39;00m\n\u001b[1;32m     <a href='vscode-notebook-cell:/Users/jcarlito/Documents/GitHub/DA-Business-Analytics-2023/Data_analysis_server.ipynb#X12sZmlsZQ%3D%3D?line=24'>25</a>\u001b[0m     \u001b[39m'\u001b[39m\u001b[39mcolor\u001b[39m\u001b[39m'\u001b[39m: \u001b[39m'\u001b[39m\u001b[39m#FFFFFF\u001b[39m\u001b[39m'\u001b[39m,  \u001b[39m# White text always\u001b[39;00m\n\u001b[1;32m     <a href='vscode-notebook-cell:/Users/jcarlito/Documents/GitHub/DA-Business-Analytics-2023/Data_analysis_server.ipynb#X12sZmlsZQ%3D%3D?line=25'>26</a>\u001b[0m     \u001b[39m'\u001b[39m\u001b[39mfontFamily\u001b[39m\u001b[39m'\u001b[39m: \u001b[39m'\u001b[39m\u001b[39m\"\u001b[39m\u001b[39mRoboto\u001b[39m\u001b[39m\"\u001b[39m\u001b[39m, sans-serif\u001b[39m\u001b[39m'\u001b[39m,  \u001b[39m# custom font\u001b[39;00m\n\u001b[1;32m     <a href='vscode-notebook-cell:/Users/jcarlito/Documents/GitHub/DA-Business-Analytics-2023/Data_analysis_server.ipynb#X12sZmlsZQ%3D%3D?line=26'>27</a>\u001b[0m     \u001b[39m'\u001b[39m\u001b[39mmargin\u001b[39m\u001b[39m'\u001b[39m: \u001b[39m'\u001b[39m\u001b[39m-8px\u001b[39m\u001b[39m'\u001b[39m,  \n\u001b[1;32m     <a href='vscode-notebook-cell:/Users/jcarlito/Documents/GitHub/DA-Business-Analytics-2023/Data_analysis_server.ipynb#X12sZmlsZQ%3D%3D?line=27'>28</a>\u001b[0m     \u001b[39m'\u001b[39m\u001b[39mminHeight\u001b[39m\u001b[39m'\u001b[39m: \u001b[39m'\u001b[39m\u001b[39m100vh\u001b[39m\u001b[39m'\u001b[39m,  \u001b[39m# Full view height\u001b[39;00m\n\u001b[1;32m     <a href='vscode-notebook-cell:/Users/jcarlito/Documents/GitHub/DA-Business-Analytics-2023/Data_analysis_server.ipynb#X12sZmlsZQ%3D%3D?line=28'>29</a>\u001b[0m     \u001b[39m'\u001b[39m\u001b[39mpadding\u001b[39m\u001b[39m'\u001b[39m: \u001b[39m'\u001b[39m\u001b[39m35px\u001b[39m\u001b[39m'\u001b[39m  \u001b[39m# Padding everywhere\u001b[39;00m\n\u001b[1;32m     <a href='vscode-notebook-cell:/Users/jcarlito/Documents/GitHub/DA-Business-Analytics-2023/Data_analysis_server.ipynb#X12sZmlsZQ%3D%3D?line=29'>30</a>\u001b[0m }, children\u001b[39m=\u001b[39m[\n\u001b[1;32m     <a href='vscode-notebook-cell:/Users/jcarlito/Documents/GitHub/DA-Business-Analytics-2023/Data_analysis_server.ipynb#X12sZmlsZQ%3D%3D?line=30'>31</a>\u001b[0m     html\u001b[39m.\u001b[39mH1(\u001b[39m\"\u001b[39m\u001b[39mPython for Business Analytics - Jean Batista\u001b[39m\u001b[39m\"\u001b[39m, style\u001b[39m=\u001b[39m{\u001b[39m'\u001b[39m\u001b[39mcolor\u001b[39m\u001b[39m'\u001b[39m: \u001b[39m'\u001b[39m\u001b[39m#FFFFFF\u001b[39m\u001b[39m'\u001b[39m,\u001b[39m'\u001b[39m\u001b[39mtextAlign\u001b[39m\u001b[39m'\u001b[39m: \u001b[39m'\u001b[39m\u001b[39mcenter\u001b[39m\u001b[39m'\u001b[39m}), \u001b[39m# center text color white \u001b[39;00m\n\u001b[1;32m     <a href='vscode-notebook-cell:/Users/jcarlito/Documents/GitHub/DA-Business-Analytics-2023/Data_analysis_server.ipynb#X12sZmlsZQ%3D%3D?line=31'>32</a>\u001b[0m     dcc\u001b[39m.\u001b[39mTabs(\u001b[39mid\u001b[39m\u001b[39m=\u001b[39m\u001b[39m\"\u001b[39m\u001b[39mtabs\u001b[39m\u001b[39m\"\u001b[39m, value\u001b[39m=\u001b[39m\u001b[39m'\u001b[39m\u001b[39mtab-1\u001b[39m\u001b[39m'\u001b[39m, children\u001b[39m=\u001b[39m[\n\u001b[1;32m     <a href='vscode-notebook-cell:/Users/jcarlito/Documents/GitHub/DA-Business-Analytics-2023/Data_analysis_server.ipynb#X12sZmlsZQ%3D%3D?line=32'>33</a>\u001b[0m         dcc\u001b[39m.\u001b[39mTab(label\u001b[39m=\u001b[39m\u001b[39m'\u001b[39m\u001b[39mPeak Hours\u001b[39m\u001b[39m'\u001b[39m, value\u001b[39m=\u001b[39m\u001b[39m'\u001b[39m\u001b[39mtab-1\u001b[39m\u001b[39m'\u001b[39m, style\u001b[39m=\u001b[39mtab_style, selected_style\u001b[39m=\u001b[39mtab_selected_style),\n\u001b[1;32m     <a href='vscode-notebook-cell:/Users/jcarlito/Documents/GitHub/DA-Business-Analytics-2023/Data_analysis_server.ipynb#X12sZmlsZQ%3D%3D?line=33'>34</a>\u001b[0m         dcc\u001b[39m.\u001b[39mTab(label\u001b[39m=\u001b[39m\u001b[39m'\u001b[39m\u001b[39mWeather Correlation\u001b[39m\u001b[39m'\u001b[39m, value\u001b[39m=\u001b[39m\u001b[39m'\u001b[39m\u001b[39mtab-2\u001b[39m\u001b[39m'\u001b[39m, style\u001b[39m=\u001b[39mtab_style, selected_style\u001b[39m=\u001b[39mtab_selected_style),\n\u001b[1;32m     <a href='vscode-notebook-cell:/Users/jcarlito/Documents/GitHub/DA-Business-Analytics-2023/Data_analysis_server.ipynb#X12sZmlsZQ%3D%3D?line=34'>35</a>\u001b[0m         dcc\u001b[39m.\u001b[39mTab(label\u001b[39m=\u001b[39m\u001b[39m'\u001b[39m\u001b[39mVariety\u001b[39m\u001b[39m'\u001b[39m, value\u001b[39m=\u001b[39m\u001b[39m'\u001b[39m\u001b[39mtab-3\u001b[39m\u001b[39m'\u001b[39m, style\u001b[39m=\u001b[39mtab_style, selected_style\u001b[39m=\u001b[39mtab_selected_style),\n\u001b[1;32m     <a href='vscode-notebook-cell:/Users/jcarlito/Documents/GitHub/DA-Business-Analytics-2023/Data_analysis_server.ipynb#X12sZmlsZQ%3D%3D?line=35'>36</a>\u001b[0m         dcc\u001b[39m.\u001b[39mTab(label\u001b[39m=\u001b[39m\u001b[39m'\u001b[39m\u001b[39mSizes\u001b[39m\u001b[39m'\u001b[39m, value\u001b[39m=\u001b[39m\u001b[39m'\u001b[39m\u001b[39mtab-4\u001b[39m\u001b[39m'\u001b[39m, style\u001b[39m=\u001b[39mtab_style, selected_style\u001b[39m=\u001b[39mtab_selected_style),\n\u001b[1;32m     <a href='vscode-notebook-cell:/Users/jcarlito/Documents/GitHub/DA-Business-Analytics-2023/Data_analysis_server.ipynb#X12sZmlsZQ%3D%3D?line=36'>37</a>\u001b[0m     ], style\u001b[39m=\u001b[39mtabs_styles),\n\u001b[1;32m     <a href='vscode-notebook-cell:/Users/jcarlito/Documents/GitHub/DA-Business-Analytics-2023/Data_analysis_server.ipynb#X12sZmlsZQ%3D%3D?line=37'>38</a>\u001b[0m     html\u001b[39m.\u001b[39mDiv(\u001b[39mid\u001b[39m\u001b[39m=\u001b[39m\u001b[39m'\u001b[39m\u001b[39mcontent\u001b[39m\u001b[39m'\u001b[39m)\n\u001b[1;32m     <a href='vscode-notebook-cell:/Users/jcarlito/Documents/GitHub/DA-Business-Analytics-2023/Data_analysis_server.ipynb#X12sZmlsZQ%3D%3D?line=38'>39</a>\u001b[0m ])\n",
      "\u001b[0;31mNameError\u001b[0m: name 'app' is not defined"
     ]
    }
   ],
   "source": [
    "# CSS styles\n",
    "tabs_styles = {\n",
    "    'height': '44px',\n",
    "    'alignItems': 'center',\n",
    "    'backgroundColor': '#1E1E1E', # dark grey\n",
    "    'padding': '6px',\n",
    "}\n",
    "\n",
    "tab_style = {\n",
    "    'backgroundColor': '#121212',  # darker grey tab\n",
    "    'color': '#FFFFFF',  # white text always\n",
    "    'padding': '10px',  \n",
    "    'border': 'none'  # Remove borders\n",
    "}\n",
    "\n",
    "tab_selected_style = {\n",
    "    'backgroundColor': '#2D2D2D',  # Selected tab, light grey\n",
    "    'color': '#7FDBFF',  # changes to blue when selected\n",
    "    'padding': '10px',  \n",
    "    'borderRadius': '5px'  # Rounded corners for selected tab\n",
    "}\n",
    "\n",
    "app.layout = html.Div(style={\n",
    "    'backgroundColor': '#303030',  # Dark background always\n",
    "    'color': '#FFFFFF',  # White text always\n",
    "    'fontFamily': '\"Roboto\", sans-serif',  # custom font\n",
    "    'margin': '-8px',  \n",
    "    'minHeight': '100vh',  # Full view height\n",
    "    'padding': '35px'  # Padding everywhere\n",
    "}, children=[\n",
    "    html.H1(\"Python for Business Analytics - Jean Batista\", style={'color': '#FFFFFF','textAlign': 'center'}), # center text color white \n",
    "    dcc.Tabs(id=\"tabs\", value='tab-1', children=[\n",
    "        dcc.Tab(label='Peak Hours', value='tab-1', style=tab_style, selected_style=tab_selected_style),\n",
    "        dcc.Tab(label='Weather Correlation', value='tab-2', style=tab_style, selected_style=tab_selected_style),\n",
    "        dcc.Tab(label='Variety', value='tab-3', style=tab_style, selected_style=tab_selected_style),\n",
    "        dcc.Tab(label='Sizes', value='tab-4', style=tab_style, selected_style=tab_selected_style),\n",
    "    ], style=tabs_styles),\n",
    "    html.Div(id='content')\n",
    "])"
   ]
  },
  {
   "cell_type": "code",
   "execution_count": null,
   "metadata": {},
   "outputs": [
    {
     "ename": "NameError",
     "evalue": "name 'app' is not defined",
     "output_type": "error",
     "traceback": [
      "\u001b[0;31m---------------------------------------------------------------------------\u001b[0m",
      "\u001b[0;31mNameError\u001b[0m                                 Traceback (most recent call last)",
      "\u001b[1;32m/Users/jcarlito/Documents/GitHub/DA-Business-Analytics-2023/Data_analysis_server.ipynb Cell 11\u001b[0m line \u001b[0;36m2\n\u001b[1;32m      <a href='vscode-notebook-cell:/Users/jcarlito/Documents/GitHub/DA-Business-Analytics-2023/Data_analysis_server.ipynb#X60sZmlsZQ%3D%3D?line=0'>1</a>\u001b[0m \u001b[39m# Define the callback to update the content based on the selected tab\u001b[39;00m\n\u001b[0;32m----> <a href='vscode-notebook-cell:/Users/jcarlito/Documents/GitHub/DA-Business-Analytics-2023/Data_analysis_server.ipynb#X60sZmlsZQ%3D%3D?line=1'>2</a>\u001b[0m \u001b[39m@app\u001b[39m\u001b[39m.\u001b[39mcallback(\n\u001b[1;32m      <a href='vscode-notebook-cell:/Users/jcarlito/Documents/GitHub/DA-Business-Analytics-2023/Data_analysis_server.ipynb#X60sZmlsZQ%3D%3D?line=2'>3</a>\u001b[0m     Output(\u001b[39m'\u001b[39m\u001b[39mcontent\u001b[39m\u001b[39m'\u001b[39m, \u001b[39m'\u001b[39m\u001b[39mchildren\u001b[39m\u001b[39m'\u001b[39m),\n\u001b[1;32m      <a href='vscode-notebook-cell:/Users/jcarlito/Documents/GitHub/DA-Business-Analytics-2023/Data_analysis_server.ipynb#X60sZmlsZQ%3D%3D?line=3'>4</a>\u001b[0m     Input(\u001b[39m'\u001b[39m\u001b[39mtabs\u001b[39m\u001b[39m'\u001b[39m, \u001b[39m'\u001b[39m\u001b[39mvalue\u001b[39m\u001b[39m'\u001b[39m)\n\u001b[1;32m      <a href='vscode-notebook-cell:/Users/jcarlito/Documents/GitHub/DA-Business-Analytics-2023/Data_analysis_server.ipynb#X60sZmlsZQ%3D%3D?line=4'>5</a>\u001b[0m )\n\u001b[1;32m      <a href='vscode-notebook-cell:/Users/jcarlito/Documents/GitHub/DA-Business-Analytics-2023/Data_analysis_server.ipynb#X60sZmlsZQ%3D%3D?line=5'>6</a>\u001b[0m \n\u001b[1;32m      <a href='vscode-notebook-cell:/Users/jcarlito/Documents/GitHub/DA-Business-Analytics-2023/Data_analysis_server.ipynb#X60sZmlsZQ%3D%3D?line=6'>7</a>\u001b[0m \u001b[39mdef\u001b[39;00m \u001b[39mrender_content\u001b[39m(tab):\n\u001b[1;32m      <a href='vscode-notebook-cell:/Users/jcarlito/Documents/GitHub/DA-Business-Analytics-2023/Data_analysis_server.ipynb#X60sZmlsZQ%3D%3D?line=7'>8</a>\u001b[0m     \u001b[39mif\u001b[39;00m tab \u001b[39m==\u001b[39m \u001b[39m'\u001b[39m\u001b[39mtab-1\u001b[39m\u001b[39m'\u001b[39m:\n\u001b[1;32m      <a href='vscode-notebook-cell:/Users/jcarlito/Documents/GitHub/DA-Business-Analytics-2023/Data_analysis_server.ipynb#X60sZmlsZQ%3D%3D?line=8'>9</a>\u001b[0m         \u001b[39mreturn\u001b[39;00m html\u001b[39m.\u001b[39mDiv([\n\u001b[1;32m     <a href='vscode-notebook-cell:/Users/jcarlito/Documents/GitHub/DA-Business-Analytics-2023/Data_analysis_server.ipynb#X60sZmlsZQ%3D%3D?line=9'>10</a>\u001b[0m             html\u001b[39m.\u001b[39mH2(\u001b[39m'\u001b[39m\u001b[39mOrders each Hour\u001b[39m\u001b[39m'\u001b[39m, style\u001b[39m=\u001b[39m{\u001b[39m'\u001b[39m\u001b[39mcolor\u001b[39m\u001b[39m'\u001b[39m: \u001b[39m'\u001b[39m\u001b[39m#FFFFFF\u001b[39m\u001b[39m'\u001b[39m}),\n\u001b[1;32m     <a href='vscode-notebook-cell:/Users/jcarlito/Documents/GitHub/DA-Business-Analytics-2023/Data_analysis_server.ipynb#X60sZmlsZQ%3D%3D?line=10'>11</a>\u001b[0m             html\u001b[39m.\u001b[39mDiv(\n\u001b[0;32m   (...)\u001b[0m\n\u001b[1;32m     <a href='vscode-notebook-cell:/Users/jcarlito/Documents/GitHub/DA-Business-Analytics-2023/Data_analysis_server.ipynb#X60sZmlsZQ%3D%3D?line=29'>30</a>\u001b[0m             ]) \n\u001b[1;32m     <a href='vscode-notebook-cell:/Users/jcarlito/Documents/GitHub/DA-Business-Analytics-2023/Data_analysis_server.ipynb#X60sZmlsZQ%3D%3D?line=30'>31</a>\u001b[0m         ])\n",
      "\u001b[0;31mNameError\u001b[0m: name 'app' is not defined"
     ]
    }
   ],
   "source": [
    "# Define the callback to update the content based on the selected tab\n",
    "@app.callback(\n",
    "    Output('content', 'children'),\n",
    "    Input('tabs', 'value')\n",
    ")\n",
    "\n",
    "def render_content(tab):\n",
    "    if tab == 'tab-1':\n",
    "        return html.Div([\n",
    "            html.H2('Orders each Hour', style={'color': '#FFFFFF'}),\n",
    "            html.Div(\n",
    "                'Minimize labor cost by optimizing staffing hours based on peak time intervals for orders. This change reduces staffed hours by 59.6%, cutting expenses by approximately $79,560 per year. (Assuming a wage of $15 per employee, and baseline default of 2-3 employees per hour depending time of day(red dotted line))',\n",
    "                style={\n",
    "                    'fontSize': '17px',  # slighter smaller than top text size\n",
    "                    'marginBottom': '20px',  # Space below the sub-text\n",
    "                    'marginTop': '5px'  # Space above the sub-text\n",
    "                }\n",
    "            ),\n",
    "            dcc.Slider(\n",
    "                id='day-slider',\n",
    "                min=0,\n",
    "                max=6,\n",
    "                marks={i: day for i, day in enumerate(day_order)},\n",
    "                value=0,\n",
    "                step=None,\n",
    "            ),\n",
    "            html.Div([\n",
    "                dcc.Graph(id='heatmap-graph'),\n",
    "                dcc.Graph(id='employee-area-chart')  # New Graph for Employee Count\n",
    "            ]) \n",
    "        ])\n",
    "    elif tab == 'tab-2':\n",
    "        return html.Div([\n",
    "            html.H2('Rainfall and Total Quantity Sold'),\n",
    "            dcc.Graph(\n",
    "                id='subplot-graph',\n",
    "                figure=update_subplot_graph()\n",
    "            )\n",
    "        ])\n",
    "    elif tab == 'tab-3':\n",
    "        return html.Div([\n",
    "            html.H2('Pizza Types'),\n",
    "            html.Label(\"Select a month:\", style={'font-weight': 'bold', 'display': 'block', 'margin-bottom': '5px'}),\n",
    "            dcc.Slider(\n",
    "                id='month-slider',\n",
    "                min=df['month'].min(),\n",
    "                max=df['month'].max(),\n",
    "                value=df['month'].min(),\n",
    "                marks={int(i): {'label': calendar.month_name[i], 'style': {'transform': 'rotate(-45deg)', 'white-space': 'nowrap'}}\n",
    "       for i in df['month'].unique()},\n",
    "                step=None,\n",
    "            ),\n",
    "            html.Div(\n",
    "                id='selected-pizza-stats',\n",
    "                # This will display the selected pizza statistics, add some space below this div\n",
    "                style={'margin-bottom': '20px'}  # Adjust the space as needed\n",
    "            ),\n",
    "            dcc.Graph(\n",
    "                id='scatterplot',\n",
    "                # Call the function with the default slider value\n",
    "                figure=update_scatterplot(df['month'].min()),\n",
    "                style={'margin-top': '20px'}  # Add space above the graph\n",
    "            )\n",
    "        ])\n",
    "    elif tab == 'tab-4':\n",
    "        return html.Div([\n",
    "            html.H2('Pizza Sizes'),\n",
    "            dcc.Graph(\n",
    "                id='bar-chart',\n",
    "                figure=update_bar_chart()\n",
    "            ),\n",
    "            dcc.Graph(\n",
    "                id='pie-chart',\n",
    "                figure=update_pie_chart()\n",
    "            )\n",
    "        ])\n",
    "    "
   ]
  },
  {
   "cell_type": "code",
   "execution_count": null,
   "metadata": {},
   "outputs": [],
   "source": [
    "# Creating function that applies same style to all graphs   \n",
    "def style_graph(graph): \n",
    "    graph.update_layout(\n",
    "        paper_bgcolor='#303030',  # Dark background for the graph area\n",
    "        plot_bgcolor='#303030',  # Dark background inside the graph\n",
    "        font={'color': '#7FDBFF'},  # baby blue\n",
    "        xaxis=dict(\n",
    "            showgrid=False,  # Remove x-axis grid lines\n",
    "            color='#7FDBFF',  # Baby blue always\n",
    "            showline=True, \n",
    "            linewidth=2,  \n",
    "            linecolor='#7FDBFF',  \n",
    "        ),\n",
    "        yaxis=dict(\n",
    "            showgrid=False,  \n",
    "            color='#7FDBFF',  \n",
    "            showline=True,  \n",
    "            linewidth=2,  \n",
    "            linecolor='#7FDBFF',  \n",
    "        ),\n",
    "        yaxis2=dict( # for the second y axis in Weather Correlation\n",
    "            showgrid=False,  \n",
    "            color='#7FDBFF',  \n",
    "            showline=True,  \n",
    "            linewidth=2,  \n",
    "            linecolor='#7FDBFF',  \n",
    "            overlaying='y',  \n",
    "            side='right',  \n",
    "        ),\n",
    "        legend=dict(\n",
    "            bgcolor='rgba(0,0,0,0)',  # Transparent legend background\n",
    "            bordercolor='#7FDBFF',  # Baby blue color text\n",
    "        )\n",
    "    )\n",
    "    return graph\n"
   ]
  },
  {
   "cell_type": "markdown",
   "metadata": {},
   "source": [
    "## Page 1 maximizing based on peak hours"
   ]
  },
  {
   "cell_type": "code",
   "execution_count": null,
   "metadata": {},
   "outputs": [
    {
     "ename": "NameError",
     "evalue": "name 'app' is not defined",
     "output_type": "error",
     "traceback": [
      "\u001b[0;31m---------------------------------------------------------------------------\u001b[0m",
      "\u001b[0;31mNameError\u001b[0m                                 Traceback (most recent call last)",
      "\u001b[1;32m/Users/jcarlito/Documents/GitHub/DA-Business-Analytics-2023/Data_analysis_server.ipynb Cell 14\u001b[0m line \u001b[0;36m2\n\u001b[1;32m      <a href='vscode-notebook-cell:/Users/jcarlito/Documents/GitHub/DA-Business-Analytics-2023/Data_analysis_server.ipynb#X62sZmlsZQ%3D%3D?line=0'>1</a>\u001b[0m \u001b[39m# Slider tab 1 callback\u001b[39;00m\n\u001b[0;32m----> <a href='vscode-notebook-cell:/Users/jcarlito/Documents/GitHub/DA-Business-Analytics-2023/Data_analysis_server.ipynb#X62sZmlsZQ%3D%3D?line=1'>2</a>\u001b[0m \u001b[39m@app\u001b[39m\u001b[39m.\u001b[39mcallback(\n\u001b[1;32m      <a href='vscode-notebook-cell:/Users/jcarlito/Documents/GitHub/DA-Business-Analytics-2023/Data_analysis_server.ipynb#X62sZmlsZQ%3D%3D?line=2'>3</a>\u001b[0m     Output(\u001b[39m'\u001b[39m\u001b[39mheatmap-graph\u001b[39m\u001b[39m'\u001b[39m, \u001b[39m'\u001b[39m\u001b[39mfigure\u001b[39m\u001b[39m'\u001b[39m),\n\u001b[1;32m      <a href='vscode-notebook-cell:/Users/jcarlito/Documents/GitHub/DA-Business-Analytics-2023/Data_analysis_server.ipynb#X62sZmlsZQ%3D%3D?line=3'>4</a>\u001b[0m     Input(\u001b[39m'\u001b[39m\u001b[39mday-slider\u001b[39m\u001b[39m'\u001b[39m, \u001b[39m'\u001b[39m\u001b[39mvalue\u001b[39m\u001b[39m'\u001b[39m)\n\u001b[1;32m      <a href='vscode-notebook-cell:/Users/jcarlito/Documents/GitHub/DA-Business-Analytics-2023/Data_analysis_server.ipynb#X62sZmlsZQ%3D%3D?line=4'>5</a>\u001b[0m )\n\u001b[1;32m      <a href='vscode-notebook-cell:/Users/jcarlito/Documents/GitHub/DA-Business-Analytics-2023/Data_analysis_server.ipynb#X62sZmlsZQ%3D%3D?line=5'>6</a>\u001b[0m \n\u001b[1;32m      <a href='vscode-notebook-cell:/Users/jcarlito/Documents/GitHub/DA-Business-Analytics-2023/Data_analysis_server.ipynb#X62sZmlsZQ%3D%3D?line=6'>7</a>\u001b[0m \u001b[39mdef\u001b[39;00m \u001b[39mupdate_graph\u001b[39m(day_index):\n\u001b[1;32m      <a href='vscode-notebook-cell:/Users/jcarlito/Documents/GitHub/DA-Business-Analytics-2023/Data_analysis_server.ipynb#X62sZmlsZQ%3D%3D?line=7'>8</a>\u001b[0m     day \u001b[39m=\u001b[39m day_order[day_index]\n\u001b[1;32m      <a href='vscode-notebook-cell:/Users/jcarlito/Documents/GitHub/DA-Business-Analytics-2023/Data_analysis_server.ipynb#X62sZmlsZQ%3D%3D?line=8'>9</a>\u001b[0m     \u001b[39mreturn\u001b[39;00m update_heatmap(day)\n",
      "\u001b[0;31mNameError\u001b[0m: name 'app' is not defined"
     ]
    }
   ],
   "source": [
    "# Slider tab 1 callback\n",
    "@app.callback(\n",
    "    Output('heatmap-graph', 'figure'),\n",
    "    Input('day-slider', 'value')\n",
    ")\n",
    "\n",
    "def update_graph(day_index):\n",
    "    day = day_order[day_index]\n",
    "    return update_heatmap(day)\n",
    "\n",
    "def update_heatmap(day):\n",
    "    filtered_df = df[df['day_of_week'] == day]\n",
    "    pizza_type_counts = filtered_df['pizza_flavor'].value_counts()\n",
    "    popular_pizza_types = pizza_type_counts.nlargest(15).index.tolist() # for visibility. \n",
    "    filtered_df = filtered_df[filtered_df['pizza_flavor'].isin(popular_pizza_types)] # 32 pizza flavors were too much\n",
    "    filtered_df['hour'] = pd.to_numeric(filtered_df['hour'])  \n",
    "    filtered_df = filtered_df.sort_values('hour')  \n",
    "    filtered_df['quantity'] = filtered_df['quantity'] / 52 # divide by 52 weeks to get average per week, rather than total per year\n",
    "    heatmap_fig = px.density_heatmap(filtered_df, x='hour', y='pizza_flavor', z='quantity', color_continuous_scale='RdYlGn')\n",
    "    heatmap_fig.update_layout(xaxis={'type': 'category'})  \n",
    "\n",
    "    return style_graph(heatmap_fig)\n",
    "\n",
    "\n",
    "@app.callback(\n",
    "    Output('employee-area-chart', 'figure'),\n",
    "    [Input('day-slider', 'value')]\n",
    ")\n",
    "def update_employee_area_chart(day_index):\n",
    "    day = day_order[day_index]\n",
    "    return generate_employee_area_chart(day)\n",
    "\n",
    "def generate_employee_area_chart(day):\n",
    "    daily_data = df[df['day_of_week'] == day]\n",
    "\n",
    "    # Group by hour and calculate sum of quantity, \n",
    "    # then apply a function that determines the number of employees needed\n",
    "    # based on the sum of quantity\n",
    "    hourly_sum = daily_data.groupby('hour')['quantity'].sum()\n",
    "\n",
    "    # 4 employees if more than (1040 in a year) 20 pizzas sold in an hour\n",
    "    # average price of pizza is $ 20. Suppose margin is 50% = $10. \n",
    "    # profit is 20 * 10 = 200 an hour. Wage for 4 employees is 60 an hour. \n",
    "    # wage over proft ratio = 0.30\n",
    "\n",
    "    # 3 employees if more than (780 in a year) 15 pizzas sold in an hour.\n",
    "    # average price of pizza is $ 20. Suppose margin is 50% = $10. \n",
    "    # profit is 15 * 10 = 150 an hour. Wage for 3 employees is 45 an hour. \n",
    "    # wage over proft ratio = 0.30\n",
    "\n",
    "    # 2 employees if more than (520 in a year) 10 pizzas sold in an hour \n",
    "    # average price of pizza is $ 20. Suppose margin is 50% = $10.\n",
    "    # profit is 10 * 10 = 100 an hour. Wage for 2 employees is 30 an hour.\n",
    "    # wage over proft ratio = 0.30\n",
    "\n",
    "    # 1 employee if more than (195 in a year) 3.75 pizzas sold in an hour\n",
    "    # average price of pizza is $ 20. Suppose margin is 50% = $10.\n",
    "    # profit is 3.75 * 10 = 37.5 an hour. Wage for 1 employee is 15 an hour.\n",
    "    # wage over proft ratio = 0.4\n",
    "\n",
    "    # 0 employees if less than (195 in a year) 3.75 pizzas sold in an hour (don't need to be open, price of wage > profit)\n",
    "    hourly_employee_count = hourly_sum.apply(lambda x: 4 if x > 1040 else 3 if x > 780 else 2 if x > 520 else 1 if x > 195 else 0)\n",
    "\n",
    "    # Calculate default_employee_count dynamically\n",
    "    default_employee_count = hourly_sum.index.to_series().apply(lambda x: 3 if 10 < x < 20 else 2)\n",
    "\n",
    "    # Create area chart\n",
    "    area_chart_fig = go.Figure()\n",
    "    area_chart_fig.add_trace(go.Scatter(\n",
    "        x=hourly_employee_count.index,\n",
    "        y=hourly_employee_count,\n",
    "        fill='tozeroy',\n",
    "        mode='none',  # Remove line markers\n",
    "        name='Optimized Employee Count'\n",
    "    ))\n",
    "\n",
    "    # Add a dynamic line for the calculated default employee count\n",
    "    area_chart_fig.add_trace(go.Scatter(\n",
    "        x=default_employee_count.index,\n",
    "        y=default_employee_count,\n",
    "        mode='lines',\n",
    "        name='Dynamic Default Employee Count',\n",
    "        line=dict(color='red', dash='dash')\n",
    "    ))\n",
    "\n",
    "    # Update layout\n",
    "    area_chart_fig.update_layout(\n",
    "        title=f'Employee Count by Hour for {day} | Optimized employee count is calculated to maintain a wage / profit ratio of .40 for 1 employee, and .30 for 2,3, or 4 employees.',\n",
    "        margin=dict(l=140, r=40, t=40, b=40),\n",
    "        xaxis_title='Hour',\n",
    "        yaxis_title='Employee Count'\n",
    "    )\n",
    "\n",
    "    return style_graph(area_chart_fig)"
   ]
  },
  {
   "cell_type": "markdown",
   "metadata": {},
   "source": [
    "## Page 2 rain correlation"
   ]
  },
  {
   "cell_type": "code",
   "execution_count": null,
   "metadata": {},
   "outputs": [],
   "source": [
    "def update_subplot_graph():\n",
    "    results = df.groupby('month')['order_id'].count()\n",
    "    months = list(range(1, 13))\n",
    "    days_in_month = [calendar.monthrange(2015, month)[1] for month in months]\n",
    "    adjusted_quantity = results / days_in_month \n",
    "    rainfall = rain.groupby('month').sum()\n",
    "\n",
    "    # Create the subplot fig\n",
    "    fig = sp.make_subplots(specs=[[{\"secondary_y\": True}]])\n",
    "    fig.add_trace(go.Scatter(x=months, y=adjusted_quantity, name='Total Quantity Sold', line=dict(color='green')), secondary_y=False)\n",
    "    fig.add_trace(go.Scatter(x=months, y=rainfall['rainfall'], name='Rainfall', line=dict(color='#3076ff')), secondary_y=True)\n",
    "    fig.update_layout(\n",
    "        xaxis=dict(title='Month', dtick=1),\n",
    "        yaxis=dict(\n",
    "            title='Total Quantity Sold',\n",
    "            titlefont=dict(color='#7FDBFF'), # baby blue\n",
    "            tickfont=dict(color='#7FDBFF')\n",
    "        ),\n",
    "        yaxis2=dict(\n",
    "            title='Rainfall in inches',\n",
    "            titlefont=dict(color='#7FDBFF'),# baby blue \n",
    "            tickfont=dict(color='#7FDBFF'), \n",
    "            anchor='x',\n",
    "            overlaying='y',\n",
    "            side='right'\n",
    "        ),\n",
    "        legend=dict(x=0, y=1.2, orientation='h')\n",
    "    )\n",
    "\n",
    "    return style_graph(fig)"
   ]
  },
  {
   "cell_type": "markdown",
   "metadata": {},
   "source": [
    "## Page 3 Category and pizza flavors visualized"
   ]
  },
  {
   "cell_type": "code",
   "execution_count": null,
   "metadata": {},
   "outputs": [
    {
     "ename": "NameError",
     "evalue": "name 'app' is not defined",
     "output_type": "error",
     "traceback": [
      "\u001b[0;31m---------------------------------------------------------------------------\u001b[0m",
      "\u001b[0;31mNameError\u001b[0m                                 Traceback (most recent call last)",
      "\u001b[1;32m/Users/jcarlito/Documents/GitHub/DA-Business-Analytics-2023/Data_analysis_server.ipynb Cell 18\u001b[0m line \u001b[0;36m2\n\u001b[1;32m      <a href='vscode-notebook-cell:/Users/jcarlito/Documents/GitHub/DA-Business-Analytics-2023/Data_analysis_server.ipynb#Y101sZmlsZQ%3D%3D?line=0'>1</a>\u001b[0m \u001b[39m# Slider tab 3 callback\u001b[39;00m\n\u001b[0;32m----> <a href='vscode-notebook-cell:/Users/jcarlito/Documents/GitHub/DA-Business-Analytics-2023/Data_analysis_server.ipynb#Y101sZmlsZQ%3D%3D?line=1'>2</a>\u001b[0m \u001b[39m@app\u001b[39m\u001b[39m.\u001b[39mcallback(\n\u001b[1;32m      <a href='vscode-notebook-cell:/Users/jcarlito/Documents/GitHub/DA-Business-Analytics-2023/Data_analysis_server.ipynb#Y101sZmlsZQ%3D%3D?line=2'>3</a>\u001b[0m     Output(\u001b[39m'\u001b[39m\u001b[39mscatterplot\u001b[39m\u001b[39m'\u001b[39m, \u001b[39m'\u001b[39m\u001b[39mfigure\u001b[39m\u001b[39m'\u001b[39m),\n\u001b[1;32m      <a href='vscode-notebook-cell:/Users/jcarlito/Documents/GitHub/DA-Business-Analytics-2023/Data_analysis_server.ipynb#Y101sZmlsZQ%3D%3D?line=3'>4</a>\u001b[0m     [Input(\u001b[39m'\u001b[39m\u001b[39mmonth-slider\u001b[39m\u001b[39m'\u001b[39m, \u001b[39m'\u001b[39m\u001b[39mvalue\u001b[39m\u001b[39m'\u001b[39m)]\n\u001b[1;32m      <a href='vscode-notebook-cell:/Users/jcarlito/Documents/GitHub/DA-Business-Analytics-2023/Data_analysis_server.ipynb#Y101sZmlsZQ%3D%3D?line=4'>5</a>\u001b[0m )\n\u001b[1;32m      <a href='vscode-notebook-cell:/Users/jcarlito/Documents/GitHub/DA-Business-Analytics-2023/Data_analysis_server.ipynb#Y101sZmlsZQ%3D%3D?line=5'>6</a>\u001b[0m \u001b[39mdef\u001b[39;00m \u001b[39mupdate_scatterplot\u001b[39m(selected_month):\n\u001b[1;32m      <a href='vscode-notebook-cell:/Users/jcarlito/Documents/GitHub/DA-Business-Analytics-2023/Data_analysis_server.ipynb#Y101sZmlsZQ%3D%3D?line=6'>7</a>\u001b[0m     \u001b[39m# Filter DataFrame based on the selected month\u001b[39;00m\n\u001b[1;32m      <a href='vscode-notebook-cell:/Users/jcarlito/Documents/GitHub/DA-Business-Analytics-2023/Data_analysis_server.ipynb#Y101sZmlsZQ%3D%3D?line=7'>8</a>\u001b[0m     monthly_df \u001b[39m=\u001b[39m df[df[\u001b[39m'\u001b[39m\u001b[39mmonth\u001b[39m\u001b[39m'\u001b[39m] \u001b[39m==\u001b[39m selected_month]\n\u001b[1;32m     <a href='vscode-notebook-cell:/Users/jcarlito/Documents/GitHub/DA-Business-Analytics-2023/Data_analysis_server.ipynb#Y101sZmlsZQ%3D%3D?line=9'>10</a>\u001b[0m     \u001b[39m# Aggregate the data to find total quantity and category for each pizza flavor\u001b[39;00m\n",
      "\u001b[0;31mNameError\u001b[0m: name 'app' is not defined"
     ]
    }
   ],
   "source": [
    "# Slider tab 3 callback\n",
    "@app.callback(\n",
    "    Output('scatterplot', 'figure'),\n",
    "    [Input('month-slider', 'value')]\n",
    ")\n",
    "def update_scatterplot(selected_month):\n",
    "    # Filter DataFrame based on the selected month\n",
    "    monthly_df = df[df['month'] == selected_month]\n",
    "\n",
    "    # Aggregate the data to find total quantity and category for each pizza flavor\n",
    "    flavor_popularity = monthly_df.groupby(['pizza_flavor', 'category'])['quantity'].sum().reset_index()\n",
    "\n",
    "    # Create scatter plot, color by 'category'\n",
    "    scatterplot_fig = px.scatter(flavor_popularity, x='pizza_flavor', y='quantity',\n",
    "        color='category',  # Set the color of the circles based on the 'category'\n",
    "        title='Popularity of Pizza Flavors by Category',\n",
    "        labels={'quantity': 'Total Quantity Sold'},\n",
    "        size='quantity',  # Optional: Use the quantity as the size of the scatter plot markers\n",
    "        hover_name='pizza_flavor')  # Optional: Show the pizza flavor name on hover\n",
    "\n",
    "    # Update layout\n",
    "    scatterplot_fig.update_layout(xaxis={'categoryorder': 'total descending'})\n",
    "\n",
    "    return style_graph(scatterplot_fig)"
   ]
  },
  {
   "cell_type": "markdown",
   "metadata": {},
   "source": [
    "# Page 4 Sizes "
   ]
  },
  {
   "cell_type": "code",
   "execution_count": null,
   "metadata": {},
   "outputs": [],
   "source": [
    "# I have the pie chart to evaluate if XL and XXL are viable options\n",
    "def update_pie_chart():\n",
    "    sizes = df.groupby('size')['quantity'].sum().reset_index()\n",
    "    size_order = ['S', 'M', 'L', 'XL', 'XXL']\n",
    "    sizes['size'] = sizes['size'].astype('category')\n",
    "    sizes['size'] = sizes['size'].cat.set_categories(size_order)\n",
    "    sizes.sort_values(\"size\", inplace=True)\n",
    "\n",
    "    pie_color_pallete = ['rgb(210,242,212)', 'rgb(123,227,130)','rgb(38,204,0)','rgb(34,182,0)','rgb(0, 156, 26)']\n",
    "    pie_chart_fig = go.Figure(data=go.Pie(labels=sizes['size'], values=sizes['quantity'], marker=dict(colors=pie_color_pallete), hole=0.9, sort=False))\n",
    "    pie_chart_fig.update_layout(title='Pizza Sizes Distribution', showlegend=True)\n",
    "\n",
    "    return style_graph(pie_chart_fig)\n",
    "\n",
    "# I've removed the greek, brie carre, big meats, and five cheese because they would represent outlier\n",
    "# Because of their size options\n",
    "def update_bar_chart():\n",
    "    filtered_df_pie = df[df['pizza_flavor'] == 'the_greek']\n",
    "    filtered_df_bar = df.copy()\n",
    "\n",
    "    excluded_sizes = ['XL', 'XXL']\n",
    "    filtered_df_bar = filtered_df_bar[~filtered_df_bar['size'].isin(excluded_sizes)]\n",
    "\n",
    "    excluded_pizza_types = ['big_meat', 'brie_carre', 'five_cheese']\n",
    "    filtered_df_bar = filtered_df_bar[~filtered_df_bar['pizza_flavor'].isin(excluded_pizza_types)]\n",
    "\n",
    "    size_quantity_bar = filtered_df_bar.groupby('size')['quantity'].sum().reset_index().sort_values('quantity')\n",
    "\n",
    "    bar_chart_fig = go.Figure(data=go.Bar(x=size_quantity_bar['size'], y=size_quantity_bar['quantity']))\n",
    "\n",
    "    bar_chart_fig.update_layout(title='Orders by Size',\n",
    "                                xaxis_title='Size',\n",
    "                                yaxis_title='Total Quantity Sold')\n",
    "\n",
    "    return style_graph(bar_chart_fig)"
   ]
  },
  {
   "cell_type": "code",
   "execution_count": 29,
   "metadata": {},
   "outputs": [
    {
     "data": {
      "application/vnd.plotly.v1+json": {
       "config": {
        "plotlyServerURL": "https://plot.ly"
       },
       "data": [
        {
         "hole": 0.9,
         "labels": [
          "S",
          "M",
          "L",
          "XL",
          "XXL"
         ],
         "marker": {
          "colors": [
           "rgb(210,242,212)",
           "rgb(123,227,130)",
           "rgb(38,204,0)",
           "rgb(34,182,0)",
           "rgb(0, 156, 26)"
          ]
         },
         "sort": false,
         "type": "pie",
         "values": [
          14403,
          15635,
          18956,
          552,
          28
         ]
        }
       ],
       "layout": {
        "showlegend": true,
        "template": {
         "data": {
          "bar": [
           {
            "error_x": {
             "color": "#2a3f5f"
            },
            "error_y": {
             "color": "#2a3f5f"
            },
            "marker": {
             "line": {
              "color": "#E5ECF6",
              "width": 0.5
             },
             "pattern": {
              "fillmode": "overlay",
              "size": 10,
              "solidity": 0.2
             }
            },
            "type": "bar"
           }
          ],
          "barpolar": [
           {
            "marker": {
             "line": {
              "color": "#E5ECF6",
              "width": 0.5
             },
             "pattern": {
              "fillmode": "overlay",
              "size": 10,
              "solidity": 0.2
             }
            },
            "type": "barpolar"
           }
          ],
          "carpet": [
           {
            "aaxis": {
             "endlinecolor": "#2a3f5f",
             "gridcolor": "white",
             "linecolor": "white",
             "minorgridcolor": "white",
             "startlinecolor": "#2a3f5f"
            },
            "baxis": {
             "endlinecolor": "#2a3f5f",
             "gridcolor": "white",
             "linecolor": "white",
             "minorgridcolor": "white",
             "startlinecolor": "#2a3f5f"
            },
            "type": "carpet"
           }
          ],
          "choropleth": [
           {
            "colorbar": {
             "outlinewidth": 0,
             "ticks": ""
            },
            "type": "choropleth"
           }
          ],
          "contour": [
           {
            "colorbar": {
             "outlinewidth": 0,
             "ticks": ""
            },
            "colorscale": [
             [
              0,
              "#0d0887"
             ],
             [
              0.1111111111111111,
              "#46039f"
             ],
             [
              0.2222222222222222,
              "#7201a8"
             ],
             [
              0.3333333333333333,
              "#9c179e"
             ],
             [
              0.4444444444444444,
              "#bd3786"
             ],
             [
              0.5555555555555556,
              "#d8576b"
             ],
             [
              0.6666666666666666,
              "#ed7953"
             ],
             [
              0.7777777777777778,
              "#fb9f3a"
             ],
             [
              0.8888888888888888,
              "#fdca26"
             ],
             [
              1,
              "#f0f921"
             ]
            ],
            "type": "contour"
           }
          ],
          "contourcarpet": [
           {
            "colorbar": {
             "outlinewidth": 0,
             "ticks": ""
            },
            "type": "contourcarpet"
           }
          ],
          "heatmap": [
           {
            "colorbar": {
             "outlinewidth": 0,
             "ticks": ""
            },
            "colorscale": [
             [
              0,
              "#0d0887"
             ],
             [
              0.1111111111111111,
              "#46039f"
             ],
             [
              0.2222222222222222,
              "#7201a8"
             ],
             [
              0.3333333333333333,
              "#9c179e"
             ],
             [
              0.4444444444444444,
              "#bd3786"
             ],
             [
              0.5555555555555556,
              "#d8576b"
             ],
             [
              0.6666666666666666,
              "#ed7953"
             ],
             [
              0.7777777777777778,
              "#fb9f3a"
             ],
             [
              0.8888888888888888,
              "#fdca26"
             ],
             [
              1,
              "#f0f921"
             ]
            ],
            "type": "heatmap"
           }
          ],
          "heatmapgl": [
           {
            "colorbar": {
             "outlinewidth": 0,
             "ticks": ""
            },
            "colorscale": [
             [
              0,
              "#0d0887"
             ],
             [
              0.1111111111111111,
              "#46039f"
             ],
             [
              0.2222222222222222,
              "#7201a8"
             ],
             [
              0.3333333333333333,
              "#9c179e"
             ],
             [
              0.4444444444444444,
              "#bd3786"
             ],
             [
              0.5555555555555556,
              "#d8576b"
             ],
             [
              0.6666666666666666,
              "#ed7953"
             ],
             [
              0.7777777777777778,
              "#fb9f3a"
             ],
             [
              0.8888888888888888,
              "#fdca26"
             ],
             [
              1,
              "#f0f921"
             ]
            ],
            "type": "heatmapgl"
           }
          ],
          "histogram": [
           {
            "marker": {
             "pattern": {
              "fillmode": "overlay",
              "size": 10,
              "solidity": 0.2
             }
            },
            "type": "histogram"
           }
          ],
          "histogram2d": [
           {
            "colorbar": {
             "outlinewidth": 0,
             "ticks": ""
            },
            "colorscale": [
             [
              0,
              "#0d0887"
             ],
             [
              0.1111111111111111,
              "#46039f"
             ],
             [
              0.2222222222222222,
              "#7201a8"
             ],
             [
              0.3333333333333333,
              "#9c179e"
             ],
             [
              0.4444444444444444,
              "#bd3786"
             ],
             [
              0.5555555555555556,
              "#d8576b"
             ],
             [
              0.6666666666666666,
              "#ed7953"
             ],
             [
              0.7777777777777778,
              "#fb9f3a"
             ],
             [
              0.8888888888888888,
              "#fdca26"
             ],
             [
              1,
              "#f0f921"
             ]
            ],
            "type": "histogram2d"
           }
          ],
          "histogram2dcontour": [
           {
            "colorbar": {
             "outlinewidth": 0,
             "ticks": ""
            },
            "colorscale": [
             [
              0,
              "#0d0887"
             ],
             [
              0.1111111111111111,
              "#46039f"
             ],
             [
              0.2222222222222222,
              "#7201a8"
             ],
             [
              0.3333333333333333,
              "#9c179e"
             ],
             [
              0.4444444444444444,
              "#bd3786"
             ],
             [
              0.5555555555555556,
              "#d8576b"
             ],
             [
              0.6666666666666666,
              "#ed7953"
             ],
             [
              0.7777777777777778,
              "#fb9f3a"
             ],
             [
              0.8888888888888888,
              "#fdca26"
             ],
             [
              1,
              "#f0f921"
             ]
            ],
            "type": "histogram2dcontour"
           }
          ],
          "mesh3d": [
           {
            "colorbar": {
             "outlinewidth": 0,
             "ticks": ""
            },
            "type": "mesh3d"
           }
          ],
          "parcoords": [
           {
            "line": {
             "colorbar": {
              "outlinewidth": 0,
              "ticks": ""
             }
            },
            "type": "parcoords"
           }
          ],
          "pie": [
           {
            "automargin": true,
            "type": "pie"
           }
          ],
          "scatter": [
           {
            "fillpattern": {
             "fillmode": "overlay",
             "size": 10,
             "solidity": 0.2
            },
            "type": "scatter"
           }
          ],
          "scatter3d": [
           {
            "line": {
             "colorbar": {
              "outlinewidth": 0,
              "ticks": ""
             }
            },
            "marker": {
             "colorbar": {
              "outlinewidth": 0,
              "ticks": ""
             }
            },
            "type": "scatter3d"
           }
          ],
          "scattercarpet": [
           {
            "marker": {
             "colorbar": {
              "outlinewidth": 0,
              "ticks": ""
             }
            },
            "type": "scattercarpet"
           }
          ],
          "scattergeo": [
           {
            "marker": {
             "colorbar": {
              "outlinewidth": 0,
              "ticks": ""
             }
            },
            "type": "scattergeo"
           }
          ],
          "scattergl": [
           {
            "marker": {
             "colorbar": {
              "outlinewidth": 0,
              "ticks": ""
             }
            },
            "type": "scattergl"
           }
          ],
          "scattermapbox": [
           {
            "marker": {
             "colorbar": {
              "outlinewidth": 0,
              "ticks": ""
             }
            },
            "type": "scattermapbox"
           }
          ],
          "scatterpolar": [
           {
            "marker": {
             "colorbar": {
              "outlinewidth": 0,
              "ticks": ""
             }
            },
            "type": "scatterpolar"
           }
          ],
          "scatterpolargl": [
           {
            "marker": {
             "colorbar": {
              "outlinewidth": 0,
              "ticks": ""
             }
            },
            "type": "scatterpolargl"
           }
          ],
          "scatterternary": [
           {
            "marker": {
             "colorbar": {
              "outlinewidth": 0,
              "ticks": ""
             }
            },
            "type": "scatterternary"
           }
          ],
          "surface": [
           {
            "colorbar": {
             "outlinewidth": 0,
             "ticks": ""
            },
            "colorscale": [
             [
              0,
              "#0d0887"
             ],
             [
              0.1111111111111111,
              "#46039f"
             ],
             [
              0.2222222222222222,
              "#7201a8"
             ],
             [
              0.3333333333333333,
              "#9c179e"
             ],
             [
              0.4444444444444444,
              "#bd3786"
             ],
             [
              0.5555555555555556,
              "#d8576b"
             ],
             [
              0.6666666666666666,
              "#ed7953"
             ],
             [
              0.7777777777777778,
              "#fb9f3a"
             ],
             [
              0.8888888888888888,
              "#fdca26"
             ],
             [
              1,
              "#f0f921"
             ]
            ],
            "type": "surface"
           }
          ],
          "table": [
           {
            "cells": {
             "fill": {
              "color": "#EBF0F8"
             },
             "line": {
              "color": "white"
             }
            },
            "header": {
             "fill": {
              "color": "#C8D4E3"
             },
             "line": {
              "color": "white"
             }
            },
            "type": "table"
           }
          ]
         },
         "layout": {
          "annotationdefaults": {
           "arrowcolor": "#2a3f5f",
           "arrowhead": 0,
           "arrowwidth": 1
          },
          "autotypenumbers": "strict",
          "coloraxis": {
           "colorbar": {
            "outlinewidth": 0,
            "ticks": ""
           }
          },
          "colorscale": {
           "diverging": [
            [
             0,
             "#8e0152"
            ],
            [
             0.1,
             "#c51b7d"
            ],
            [
             0.2,
             "#de77ae"
            ],
            [
             0.3,
             "#f1b6da"
            ],
            [
             0.4,
             "#fde0ef"
            ],
            [
             0.5,
             "#f7f7f7"
            ],
            [
             0.6,
             "#e6f5d0"
            ],
            [
             0.7,
             "#b8e186"
            ],
            [
             0.8,
             "#7fbc41"
            ],
            [
             0.9,
             "#4d9221"
            ],
            [
             1,
             "#276419"
            ]
           ],
           "sequential": [
            [
             0,
             "#0d0887"
            ],
            [
             0.1111111111111111,
             "#46039f"
            ],
            [
             0.2222222222222222,
             "#7201a8"
            ],
            [
             0.3333333333333333,
             "#9c179e"
            ],
            [
             0.4444444444444444,
             "#bd3786"
            ],
            [
             0.5555555555555556,
             "#d8576b"
            ],
            [
             0.6666666666666666,
             "#ed7953"
            ],
            [
             0.7777777777777778,
             "#fb9f3a"
            ],
            [
             0.8888888888888888,
             "#fdca26"
            ],
            [
             1,
             "#f0f921"
            ]
           ],
           "sequentialminus": [
            [
             0,
             "#0d0887"
            ],
            [
             0.1111111111111111,
             "#46039f"
            ],
            [
             0.2222222222222222,
             "#7201a8"
            ],
            [
             0.3333333333333333,
             "#9c179e"
            ],
            [
             0.4444444444444444,
             "#bd3786"
            ],
            [
             0.5555555555555556,
             "#d8576b"
            ],
            [
             0.6666666666666666,
             "#ed7953"
            ],
            [
             0.7777777777777778,
             "#fb9f3a"
            ],
            [
             0.8888888888888888,
             "#fdca26"
            ],
            [
             1,
             "#f0f921"
            ]
           ]
          },
          "colorway": [
           "#636efa",
           "#EF553B",
           "#00cc96",
           "#ab63fa",
           "#FFA15A",
           "#19d3f3",
           "#FF6692",
           "#B6E880",
           "#FF97FF",
           "#FECB52"
          ],
          "font": {
           "color": "#2a3f5f"
          },
          "geo": {
           "bgcolor": "white",
           "lakecolor": "white",
           "landcolor": "#E5ECF6",
           "showlakes": true,
           "showland": true,
           "subunitcolor": "white"
          },
          "hoverlabel": {
           "align": "left"
          },
          "hovermode": "closest",
          "mapbox": {
           "style": "light"
          },
          "paper_bgcolor": "white",
          "plot_bgcolor": "#E5ECF6",
          "polar": {
           "angularaxis": {
            "gridcolor": "white",
            "linecolor": "white",
            "ticks": ""
           },
           "bgcolor": "#E5ECF6",
           "radialaxis": {
            "gridcolor": "white",
            "linecolor": "white",
            "ticks": ""
           }
          },
          "scene": {
           "xaxis": {
            "backgroundcolor": "#E5ECF6",
            "gridcolor": "white",
            "gridwidth": 2,
            "linecolor": "white",
            "showbackground": true,
            "ticks": "",
            "zerolinecolor": "white"
           },
           "yaxis": {
            "backgroundcolor": "#E5ECF6",
            "gridcolor": "white",
            "gridwidth": 2,
            "linecolor": "white",
            "showbackground": true,
            "ticks": "",
            "zerolinecolor": "white"
           },
           "zaxis": {
            "backgroundcolor": "#E5ECF6",
            "gridcolor": "white",
            "gridwidth": 2,
            "linecolor": "white",
            "showbackground": true,
            "ticks": "",
            "zerolinecolor": "white"
           }
          },
          "shapedefaults": {
           "line": {
            "color": "#2a3f5f"
           }
          },
          "ternary": {
           "aaxis": {
            "gridcolor": "white",
            "linecolor": "white",
            "ticks": ""
           },
           "baxis": {
            "gridcolor": "white",
            "linecolor": "white",
            "ticks": ""
           },
           "bgcolor": "#E5ECF6",
           "caxis": {
            "gridcolor": "white",
            "linecolor": "white",
            "ticks": ""
           }
          },
          "title": {
           "x": 0.05
          },
          "xaxis": {
           "automargin": true,
           "gridcolor": "white",
           "linecolor": "white",
           "ticks": "",
           "title": {
            "standoff": 15
           },
           "zerolinecolor": "white",
           "zerolinewidth": 2
          },
          "yaxis": {
           "automargin": true,
           "gridcolor": "white",
           "linecolor": "white",
           "ticks": "",
           "title": {
            "standoff": 15
           },
           "zerolinecolor": "white",
           "zerolinewidth": 2
          }
         }
        },
        "title": {
         "text": "Pizza Sizes Distribution"
        }
       }
      }
     },
     "metadata": {},
     "output_type": "display_data"
    }
   ],
   "source": [
    "\n",
    "sizes = df.groupby('size')['quantity'].sum().reset_index()\n",
    "size_order = ['S', 'M', 'L', 'XL', 'XXL']\n",
    "sizes['size'] = sizes['size'].astype('category')\n",
    "sizes['size'] = sizes['size'].cat.set_categories(size_order)\n",
    "sizes.sort_values(\"size\", inplace=True)\n",
    "\n",
    "pie_color_pallete = ['rgb(210,242,212)', 'rgb(123,227,130)','rgb(38,204,0)','rgb(34,182,0)','rgb(0, 156, 26)']\n",
    "pie_chart_fig = go.Figure(data=go.Pie(labels=sizes['size'], values=sizes['quantity'], marker=dict(colors=pie_color_pallete), hole=0.9, sort=False))\n",
    "pie_chart_fig.update_layout(title='Pizza Sizes Distribution', showlegend=True)\n",
    "\n",
    "pie_chart_fig\n",
    "\n",
    "\n",
    "\n"
   ]
  },
  {
   "cell_type": "code",
   "execution_count": 48,
   "metadata": {},
   "outputs": [
    {
     "data": {
      "text/html": [
       "<div>\n",
       "<style scoped>\n",
       "    .dataframe tbody tr th:only-of-type {\n",
       "        vertical-align: middle;\n",
       "    }\n",
       "\n",
       "    .dataframe tbody tr th {\n",
       "        vertical-align: top;\n",
       "    }\n",
       "\n",
       "    .dataframe thead th {\n",
       "        text-align: right;\n",
       "    }\n",
       "</style>\n",
       "<table border=\"1\" class=\"dataframe\">\n",
       "  <thead>\n",
       "    <tr style=\"text-align: right;\">\n",
       "      <th></th>\n",
       "      <th>quantity</th>\n",
       "      <th>date</th>\n",
       "      <th>time</th>\n",
       "      <th>size</th>\n",
       "      <th>pizza_flavor</th>\n",
       "      <th>price</th>\n",
       "      <th>category</th>\n",
       "      <th>month</th>\n",
       "      <th>day</th>\n",
       "      <th>day_of_week</th>\n",
       "      <th>hour</th>\n",
       "      <th>order_id</th>\n",
       "      <th>multiple_orders</th>\n",
       "      <th>Alfredo Sauce</th>\n",
       "      <th>Anchovies</th>\n",
       "      <th>Artichoke</th>\n",
       "      <th>Artichokes</th>\n",
       "      <th>Arugula</th>\n",
       "      <th>Asiago Cheese</th>\n",
       "      <th>Bacon</th>\n",
       "      <th>Barbecue Sauce</th>\n",
       "      <th>Barbecued Chicken</th>\n",
       "      <th>Beef Chuck Roast</th>\n",
       "      <th>Blue Cheese</th>\n",
       "      <th>Brie Carre Cheese</th>\n",
       "      <th>Calabrese Salami</th>\n",
       "      <th>Capocollo</th>\n",
       "      <th>Caramelized Onions</th>\n",
       "      <th>Chicken</th>\n",
       "      <th>Chipotle Sauce</th>\n",
       "      <th>Chorizo Sausage</th>\n",
       "      <th>Cilantro</th>\n",
       "      <th>Coarse Sicilian Salami</th>\n",
       "      <th>Corn</th>\n",
       "      <th>Eggplant</th>\n",
       "      <th>Feta Cheese</th>\n",
       "      <th>Fontina Cheese</th>\n",
       "      <th>Friggitello Peppers</th>\n",
       "      <th>Garlic</th>\n",
       "      <th>Genoa Salami</th>\n",
       "      <th>Goat Cheese</th>\n",
       "      <th>Gorgonzola Piccante Cheese</th>\n",
       "      <th>Gouda Cheese</th>\n",
       "      <th>Green Olives</th>\n",
       "      <th>Green Peppers</th>\n",
       "      <th>Italian Sausage</th>\n",
       "      <th>Jalapeno Peppers</th>\n",
       "      <th>Kalamata Olives</th>\n",
       "      <th>Luganega Sausage</th>\n",
       "      <th>Mozzarella Cheese</th>\n",
       "      <th>Mushrooms</th>\n",
       "      <th>Onions</th>\n",
       "      <th>Oregano</th>\n",
       "      <th>Pancetta</th>\n",
       "      <th>Parmigiano Reggiano Cheese</th>\n",
       "      <th>Pears</th>\n",
       "      <th>Peperoncini verdi</th>\n",
       "      <th>Pepperoni</th>\n",
       "      <th>Pesto Sauce</th>\n",
       "      <th>Pineapple</th>\n",
       "      <th>Plum Tomatoes</th>\n",
       "      <th>Prosciutto</th>\n",
       "      <th>Prosciutto di San Daniele</th>\n",
       "      <th>Provolone Cheese</th>\n",
       "      <th>Red Onions</th>\n",
       "      <th>Red Peppers</th>\n",
       "      <th>Ricotta Cheese</th>\n",
       "      <th>Romano Cheese</th>\n",
       "      <th>Sliced Ham</th>\n",
       "      <th>Smoked Gouda Cheese</th>\n",
       "      <th>Soppressata Salami</th>\n",
       "      <th>Spinach</th>\n",
       "      <th>Sun-dried Tomatoes</th>\n",
       "      <th>Thai Sweet Chilli Sauce</th>\n",
       "      <th>Thyme</th>\n",
       "      <th>Tomatoes</th>\n",
       "      <th>Zucchini</th>\n",
       "      <th>�Nduja Salami</th>\n",
       "    </tr>\n",
       "  </thead>\n",
       "  <tbody>\n",
       "    <tr>\n",
       "      <th>31</th>\n",
       "      <td>1</td>\n",
       "      <td>2015-01-03</td>\n",
       "      <td>16:51:22</td>\n",
       "      <td>S</td>\n",
       "      <td>big_meat</td>\n",
       "      <td>12.00</td>\n",
       "      <td>Classic</td>\n",
       "      <td>1</td>\n",
       "      <td>3</td>\n",
       "      <td>Saturday</td>\n",
       "      <td>16</td>\n",
       "      <td>010316:51:22</td>\n",
       "      <td>0</td>\n",
       "      <td>0</td>\n",
       "      <td>0</td>\n",
       "      <td>0</td>\n",
       "      <td>0</td>\n",
       "      <td>0</td>\n",
       "      <td>0</td>\n",
       "      <td>1</td>\n",
       "      <td>0</td>\n",
       "      <td>0</td>\n",
       "      <td>0</td>\n",
       "      <td>0</td>\n",
       "      <td>0</td>\n",
       "      <td>0</td>\n",
       "      <td>0</td>\n",
       "      <td>0</td>\n",
       "      <td>0</td>\n",
       "      <td>0</td>\n",
       "      <td>1</td>\n",
       "      <td>0</td>\n",
       "      <td>0</td>\n",
       "      <td>0</td>\n",
       "      <td>0</td>\n",
       "      <td>0</td>\n",
       "      <td>0</td>\n",
       "      <td>0</td>\n",
       "      <td>0</td>\n",
       "      <td>0</td>\n",
       "      <td>0</td>\n",
       "      <td>0</td>\n",
       "      <td>0</td>\n",
       "      <td>0</td>\n",
       "      <td>0</td>\n",
       "      <td>1</td>\n",
       "      <td>0</td>\n",
       "      <td>0</td>\n",
       "      <td>0</td>\n",
       "      <td>0</td>\n",
       "      <td>0</td>\n",
       "      <td>0</td>\n",
       "      <td>0</td>\n",
       "      <td>0</td>\n",
       "      <td>0</td>\n",
       "      <td>0</td>\n",
       "      <td>0</td>\n",
       "      <td>1</td>\n",
       "      <td>0</td>\n",
       "      <td>0</td>\n",
       "      <td>0</td>\n",
       "      <td>0</td>\n",
       "      <td>0</td>\n",
       "      <td>0</td>\n",
       "      <td>0</td>\n",
       "      <td>0</td>\n",
       "      <td>0</td>\n",
       "      <td>0</td>\n",
       "      <td>0</td>\n",
       "      <td>0</td>\n",
       "      <td>0</td>\n",
       "      <td>0</td>\n",
       "      <td>0</td>\n",
       "      <td>0</td>\n",
       "      <td>0</td>\n",
       "      <td>0</td>\n",
       "      <td>0</td>\n",
       "      <td>0</td>\n",
       "    </tr>\n",
       "    <tr>\n",
       "      <th>42</th>\n",
       "      <td>1</td>\n",
       "      <td>2015-01-03</td>\n",
       "      <td>17:02:27</td>\n",
       "      <td>S</td>\n",
       "      <td>big_meat</td>\n",
       "      <td>12.00</td>\n",
       "      <td>Classic</td>\n",
       "      <td>1</td>\n",
       "      <td>3</td>\n",
       "      <td>Saturday</td>\n",
       "      <td>17</td>\n",
       "      <td>010317:02:27</td>\n",
       "      <td>0</td>\n",
       "      <td>0</td>\n",
       "      <td>0</td>\n",
       "      <td>0</td>\n",
       "      <td>0</td>\n",
       "      <td>0</td>\n",
       "      <td>0</td>\n",
       "      <td>1</td>\n",
       "      <td>0</td>\n",
       "      <td>0</td>\n",
       "      <td>0</td>\n",
       "      <td>0</td>\n",
       "      <td>0</td>\n",
       "      <td>0</td>\n",
       "      <td>0</td>\n",
       "      <td>0</td>\n",
       "      <td>0</td>\n",
       "      <td>0</td>\n",
       "      <td>1</td>\n",
       "      <td>0</td>\n",
       "      <td>0</td>\n",
       "      <td>0</td>\n",
       "      <td>0</td>\n",
       "      <td>0</td>\n",
       "      <td>0</td>\n",
       "      <td>0</td>\n",
       "      <td>0</td>\n",
       "      <td>0</td>\n",
       "      <td>0</td>\n",
       "      <td>0</td>\n",
       "      <td>0</td>\n",
       "      <td>0</td>\n",
       "      <td>0</td>\n",
       "      <td>1</td>\n",
       "      <td>0</td>\n",
       "      <td>0</td>\n",
       "      <td>0</td>\n",
       "      <td>0</td>\n",
       "      <td>0</td>\n",
       "      <td>0</td>\n",
       "      <td>0</td>\n",
       "      <td>0</td>\n",
       "      <td>0</td>\n",
       "      <td>0</td>\n",
       "      <td>0</td>\n",
       "      <td>1</td>\n",
       "      <td>0</td>\n",
       "      <td>0</td>\n",
       "      <td>0</td>\n",
       "      <td>0</td>\n",
       "      <td>0</td>\n",
       "      <td>0</td>\n",
       "      <td>0</td>\n",
       "      <td>0</td>\n",
       "      <td>0</td>\n",
       "      <td>0</td>\n",
       "      <td>0</td>\n",
       "      <td>0</td>\n",
       "      <td>0</td>\n",
       "      <td>0</td>\n",
       "      <td>0</td>\n",
       "      <td>0</td>\n",
       "      <td>0</td>\n",
       "      <td>0</td>\n",
       "      <td>0</td>\n",
       "      <td>0</td>\n",
       "    </tr>\n",
       "    <tr>\n",
       "      <th>55</th>\n",
       "      <td>1</td>\n",
       "      <td>2015-01-03</td>\n",
       "      <td>17:37:49</td>\n",
       "      <td>S</td>\n",
       "      <td>big_meat</td>\n",
       "      <td>12.00</td>\n",
       "      <td>Classic</td>\n",
       "      <td>1</td>\n",
       "      <td>3</td>\n",
       "      <td>Saturday</td>\n",
       "      <td>17</td>\n",
       "      <td>010317:37:49</td>\n",
       "      <td>0</td>\n",
       "      <td>0</td>\n",
       "      <td>0</td>\n",
       "      <td>0</td>\n",
       "      <td>0</td>\n",
       "      <td>0</td>\n",
       "      <td>0</td>\n",
       "      <td>1</td>\n",
       "      <td>0</td>\n",
       "      <td>0</td>\n",
       "      <td>0</td>\n",
       "      <td>0</td>\n",
       "      <td>0</td>\n",
       "      <td>0</td>\n",
       "      <td>0</td>\n",
       "      <td>0</td>\n",
       "      <td>0</td>\n",
       "      <td>0</td>\n",
       "      <td>1</td>\n",
       "      <td>0</td>\n",
       "      <td>0</td>\n",
       "      <td>0</td>\n",
       "      <td>0</td>\n",
       "      <td>0</td>\n",
       "      <td>0</td>\n",
       "      <td>0</td>\n",
       "      <td>0</td>\n",
       "      <td>0</td>\n",
       "      <td>0</td>\n",
       "      <td>0</td>\n",
       "      <td>0</td>\n",
       "      <td>0</td>\n",
       "      <td>0</td>\n",
       "      <td>1</td>\n",
       "      <td>0</td>\n",
       "      <td>0</td>\n",
       "      <td>0</td>\n",
       "      <td>0</td>\n",
       "      <td>0</td>\n",
       "      <td>0</td>\n",
       "      <td>0</td>\n",
       "      <td>0</td>\n",
       "      <td>0</td>\n",
       "      <td>0</td>\n",
       "      <td>0</td>\n",
       "      <td>1</td>\n",
       "      <td>0</td>\n",
       "      <td>0</td>\n",
       "      <td>0</td>\n",
       "      <td>0</td>\n",
       "      <td>0</td>\n",
       "      <td>0</td>\n",
       "      <td>0</td>\n",
       "      <td>0</td>\n",
       "      <td>0</td>\n",
       "      <td>0</td>\n",
       "      <td>0</td>\n",
       "      <td>0</td>\n",
       "      <td>0</td>\n",
       "      <td>0</td>\n",
       "      <td>0</td>\n",
       "      <td>0</td>\n",
       "      <td>0</td>\n",
       "      <td>0</td>\n",
       "      <td>0</td>\n",
       "      <td>0</td>\n",
       "    </tr>\n",
       "    <tr>\n",
       "      <th>71</th>\n",
       "      <td>1</td>\n",
       "      <td>2015-01-03</td>\n",
       "      <td>18:50:10</td>\n",
       "      <td>S</td>\n",
       "      <td>brie_carre</td>\n",
       "      <td>23.65</td>\n",
       "      <td>Supreme</td>\n",
       "      <td>1</td>\n",
       "      <td>3</td>\n",
       "      <td>Saturday</td>\n",
       "      <td>18</td>\n",
       "      <td>010318:50:10</td>\n",
       "      <td>0</td>\n",
       "      <td>0</td>\n",
       "      <td>0</td>\n",
       "      <td>0</td>\n",
       "      <td>0</td>\n",
       "      <td>0</td>\n",
       "      <td>0</td>\n",
       "      <td>0</td>\n",
       "      <td>0</td>\n",
       "      <td>0</td>\n",
       "      <td>0</td>\n",
       "      <td>0</td>\n",
       "      <td>1</td>\n",
       "      <td>0</td>\n",
       "      <td>0</td>\n",
       "      <td>1</td>\n",
       "      <td>0</td>\n",
       "      <td>0</td>\n",
       "      <td>0</td>\n",
       "      <td>0</td>\n",
       "      <td>0</td>\n",
       "      <td>0</td>\n",
       "      <td>0</td>\n",
       "      <td>0</td>\n",
       "      <td>0</td>\n",
       "      <td>0</td>\n",
       "      <td>1</td>\n",
       "      <td>0</td>\n",
       "      <td>0</td>\n",
       "      <td>0</td>\n",
       "      <td>0</td>\n",
       "      <td>0</td>\n",
       "      <td>0</td>\n",
       "      <td>0</td>\n",
       "      <td>0</td>\n",
       "      <td>0</td>\n",
       "      <td>0</td>\n",
       "      <td>0</td>\n",
       "      <td>0</td>\n",
       "      <td>0</td>\n",
       "      <td>0</td>\n",
       "      <td>0</td>\n",
       "      <td>0</td>\n",
       "      <td>1</td>\n",
       "      <td>0</td>\n",
       "      <td>0</td>\n",
       "      <td>0</td>\n",
       "      <td>0</td>\n",
       "      <td>0</td>\n",
       "      <td>1</td>\n",
       "      <td>0</td>\n",
       "      <td>0</td>\n",
       "      <td>0</td>\n",
       "      <td>0</td>\n",
       "      <td>0</td>\n",
       "      <td>0</td>\n",
       "      <td>0</td>\n",
       "      <td>0</td>\n",
       "      <td>0</td>\n",
       "      <td>0</td>\n",
       "      <td>0</td>\n",
       "      <td>0</td>\n",
       "      <td>1</td>\n",
       "      <td>0</td>\n",
       "      <td>0</td>\n",
       "      <td>0</td>\n",
       "    </tr>\n",
       "    <tr>\n",
       "      <th>83</th>\n",
       "      <td>1</td>\n",
       "      <td>2015-01-03</td>\n",
       "      <td>19:37:12</td>\n",
       "      <td>L</td>\n",
       "      <td>five_cheese</td>\n",
       "      <td>18.50</td>\n",
       "      <td>Veggie</td>\n",
       "      <td>1</td>\n",
       "      <td>3</td>\n",
       "      <td>Saturday</td>\n",
       "      <td>19</td>\n",
       "      <td>010319:37:12</td>\n",
       "      <td>0</td>\n",
       "      <td>0</td>\n",
       "      <td>0</td>\n",
       "      <td>0</td>\n",
       "      <td>0</td>\n",
       "      <td>0</td>\n",
       "      <td>0</td>\n",
       "      <td>0</td>\n",
       "      <td>0</td>\n",
       "      <td>0</td>\n",
       "      <td>0</td>\n",
       "      <td>1</td>\n",
       "      <td>0</td>\n",
       "      <td>0</td>\n",
       "      <td>0</td>\n",
       "      <td>0</td>\n",
       "      <td>0</td>\n",
       "      <td>0</td>\n",
       "      <td>0</td>\n",
       "      <td>0</td>\n",
       "      <td>0</td>\n",
       "      <td>0</td>\n",
       "      <td>0</td>\n",
       "      <td>0</td>\n",
       "      <td>0</td>\n",
       "      <td>0</td>\n",
       "      <td>1</td>\n",
       "      <td>0</td>\n",
       "      <td>0</td>\n",
       "      <td>0</td>\n",
       "      <td>0</td>\n",
       "      <td>0</td>\n",
       "      <td>0</td>\n",
       "      <td>0</td>\n",
       "      <td>0</td>\n",
       "      <td>0</td>\n",
       "      <td>0</td>\n",
       "      <td>1</td>\n",
       "      <td>0</td>\n",
       "      <td>0</td>\n",
       "      <td>0</td>\n",
       "      <td>0</td>\n",
       "      <td>0</td>\n",
       "      <td>0</td>\n",
       "      <td>0</td>\n",
       "      <td>0</td>\n",
       "      <td>0</td>\n",
       "      <td>0</td>\n",
       "      <td>0</td>\n",
       "      <td>0</td>\n",
       "      <td>0</td>\n",
       "      <td>1</td>\n",
       "      <td>0</td>\n",
       "      <td>0</td>\n",
       "      <td>0</td>\n",
       "      <td>1</td>\n",
       "      <td>0</td>\n",
       "      <td>1</td>\n",
       "      <td>0</td>\n",
       "      <td>0</td>\n",
       "      <td>0</td>\n",
       "      <td>0</td>\n",
       "      <td>0</td>\n",
       "      <td>0</td>\n",
       "      <td>0</td>\n",
       "      <td>0</td>\n",
       "    </tr>\n",
       "    <tr>\n",
       "      <th>...</th>\n",
       "      <td>...</td>\n",
       "      <td>...</td>\n",
       "      <td>...</td>\n",
       "      <td>...</td>\n",
       "      <td>...</td>\n",
       "      <td>...</td>\n",
       "      <td>...</td>\n",
       "      <td>...</td>\n",
       "      <td>...</td>\n",
       "      <td>...</td>\n",
       "      <td>...</td>\n",
       "      <td>...</td>\n",
       "      <td>...</td>\n",
       "      <td>...</td>\n",
       "      <td>...</td>\n",
       "      <td>...</td>\n",
       "      <td>...</td>\n",
       "      <td>...</td>\n",
       "      <td>...</td>\n",
       "      <td>...</td>\n",
       "      <td>...</td>\n",
       "      <td>...</td>\n",
       "      <td>...</td>\n",
       "      <td>...</td>\n",
       "      <td>...</td>\n",
       "      <td>...</td>\n",
       "      <td>...</td>\n",
       "      <td>...</td>\n",
       "      <td>...</td>\n",
       "      <td>...</td>\n",
       "      <td>...</td>\n",
       "      <td>...</td>\n",
       "      <td>...</td>\n",
       "      <td>...</td>\n",
       "      <td>...</td>\n",
       "      <td>...</td>\n",
       "      <td>...</td>\n",
       "      <td>...</td>\n",
       "      <td>...</td>\n",
       "      <td>...</td>\n",
       "      <td>...</td>\n",
       "      <td>...</td>\n",
       "      <td>...</td>\n",
       "      <td>...</td>\n",
       "      <td>...</td>\n",
       "      <td>...</td>\n",
       "      <td>...</td>\n",
       "      <td>...</td>\n",
       "      <td>...</td>\n",
       "      <td>...</td>\n",
       "      <td>...</td>\n",
       "      <td>...</td>\n",
       "      <td>...</td>\n",
       "      <td>...</td>\n",
       "      <td>...</td>\n",
       "      <td>...</td>\n",
       "      <td>...</td>\n",
       "      <td>...</td>\n",
       "      <td>...</td>\n",
       "      <td>...</td>\n",
       "      <td>...</td>\n",
       "      <td>...</td>\n",
       "      <td>...</td>\n",
       "      <td>...</td>\n",
       "      <td>...</td>\n",
       "      <td>...</td>\n",
       "      <td>...</td>\n",
       "      <td>...</td>\n",
       "      <td>...</td>\n",
       "      <td>...</td>\n",
       "      <td>...</td>\n",
       "      <td>...</td>\n",
       "      <td>...</td>\n",
       "      <td>...</td>\n",
       "      <td>...</td>\n",
       "      <td>...</td>\n",
       "      <td>...</td>\n",
       "      <td>...</td>\n",
       "    </tr>\n",
       "    <tr>\n",
       "      <th>48587</th>\n",
       "      <td>1</td>\n",
       "      <td>2015-12-31</td>\n",
       "      <td>12:09:59</td>\n",
       "      <td>S</td>\n",
       "      <td>brie_carre</td>\n",
       "      <td>23.65</td>\n",
       "      <td>Supreme</td>\n",
       "      <td>12</td>\n",
       "      <td>31</td>\n",
       "      <td>Thursday</td>\n",
       "      <td>12</td>\n",
       "      <td>123112:09:59</td>\n",
       "      <td>0</td>\n",
       "      <td>0</td>\n",
       "      <td>0</td>\n",
       "      <td>0</td>\n",
       "      <td>0</td>\n",
       "      <td>0</td>\n",
       "      <td>0</td>\n",
       "      <td>0</td>\n",
       "      <td>0</td>\n",
       "      <td>0</td>\n",
       "      <td>0</td>\n",
       "      <td>0</td>\n",
       "      <td>1</td>\n",
       "      <td>0</td>\n",
       "      <td>0</td>\n",
       "      <td>1</td>\n",
       "      <td>0</td>\n",
       "      <td>0</td>\n",
       "      <td>0</td>\n",
       "      <td>0</td>\n",
       "      <td>0</td>\n",
       "      <td>0</td>\n",
       "      <td>0</td>\n",
       "      <td>0</td>\n",
       "      <td>0</td>\n",
       "      <td>0</td>\n",
       "      <td>1</td>\n",
       "      <td>0</td>\n",
       "      <td>0</td>\n",
       "      <td>0</td>\n",
       "      <td>0</td>\n",
       "      <td>0</td>\n",
       "      <td>0</td>\n",
       "      <td>0</td>\n",
       "      <td>0</td>\n",
       "      <td>0</td>\n",
       "      <td>0</td>\n",
       "      <td>0</td>\n",
       "      <td>0</td>\n",
       "      <td>0</td>\n",
       "      <td>0</td>\n",
       "      <td>0</td>\n",
       "      <td>0</td>\n",
       "      <td>1</td>\n",
       "      <td>0</td>\n",
       "      <td>0</td>\n",
       "      <td>0</td>\n",
       "      <td>0</td>\n",
       "      <td>0</td>\n",
       "      <td>1</td>\n",
       "      <td>0</td>\n",
       "      <td>0</td>\n",
       "      <td>0</td>\n",
       "      <td>0</td>\n",
       "      <td>0</td>\n",
       "      <td>0</td>\n",
       "      <td>0</td>\n",
       "      <td>0</td>\n",
       "      <td>0</td>\n",
       "      <td>0</td>\n",
       "      <td>0</td>\n",
       "      <td>0</td>\n",
       "      <td>1</td>\n",
       "      <td>0</td>\n",
       "      <td>0</td>\n",
       "      <td>0</td>\n",
       "    </tr>\n",
       "    <tr>\n",
       "      <th>48594</th>\n",
       "      <td>1</td>\n",
       "      <td>2015-12-31</td>\n",
       "      <td>12:44:37</td>\n",
       "      <td>L</td>\n",
       "      <td>five_cheese</td>\n",
       "      <td>18.50</td>\n",
       "      <td>Veggie</td>\n",
       "      <td>12</td>\n",
       "      <td>31</td>\n",
       "      <td>Thursday</td>\n",
       "      <td>12</td>\n",
       "      <td>123112:44:37</td>\n",
       "      <td>0</td>\n",
       "      <td>0</td>\n",
       "      <td>0</td>\n",
       "      <td>0</td>\n",
       "      <td>0</td>\n",
       "      <td>0</td>\n",
       "      <td>0</td>\n",
       "      <td>0</td>\n",
       "      <td>0</td>\n",
       "      <td>0</td>\n",
       "      <td>0</td>\n",
       "      <td>1</td>\n",
       "      <td>0</td>\n",
       "      <td>0</td>\n",
       "      <td>0</td>\n",
       "      <td>0</td>\n",
       "      <td>0</td>\n",
       "      <td>0</td>\n",
       "      <td>0</td>\n",
       "      <td>0</td>\n",
       "      <td>0</td>\n",
       "      <td>0</td>\n",
       "      <td>0</td>\n",
       "      <td>0</td>\n",
       "      <td>0</td>\n",
       "      <td>0</td>\n",
       "      <td>1</td>\n",
       "      <td>0</td>\n",
       "      <td>0</td>\n",
       "      <td>0</td>\n",
       "      <td>0</td>\n",
       "      <td>0</td>\n",
       "      <td>0</td>\n",
       "      <td>0</td>\n",
       "      <td>0</td>\n",
       "      <td>0</td>\n",
       "      <td>0</td>\n",
       "      <td>1</td>\n",
       "      <td>0</td>\n",
       "      <td>0</td>\n",
       "      <td>0</td>\n",
       "      <td>0</td>\n",
       "      <td>0</td>\n",
       "      <td>0</td>\n",
       "      <td>0</td>\n",
       "      <td>0</td>\n",
       "      <td>0</td>\n",
       "      <td>0</td>\n",
       "      <td>0</td>\n",
       "      <td>0</td>\n",
       "      <td>0</td>\n",
       "      <td>1</td>\n",
       "      <td>0</td>\n",
       "      <td>0</td>\n",
       "      <td>0</td>\n",
       "      <td>1</td>\n",
       "      <td>0</td>\n",
       "      <td>1</td>\n",
       "      <td>0</td>\n",
       "      <td>0</td>\n",
       "      <td>0</td>\n",
       "      <td>0</td>\n",
       "      <td>0</td>\n",
       "      <td>0</td>\n",
       "      <td>0</td>\n",
       "      <td>0</td>\n",
       "    </tr>\n",
       "    <tr>\n",
       "      <th>48596</th>\n",
       "      <td>1</td>\n",
       "      <td>2015-12-31</td>\n",
       "      <td>12:48:36</td>\n",
       "      <td>S</td>\n",
       "      <td>big_meat</td>\n",
       "      <td>12.00</td>\n",
       "      <td>Classic</td>\n",
       "      <td>12</td>\n",
       "      <td>31</td>\n",
       "      <td>Thursday</td>\n",
       "      <td>12</td>\n",
       "      <td>123112:48:36</td>\n",
       "      <td>0</td>\n",
       "      <td>0</td>\n",
       "      <td>0</td>\n",
       "      <td>0</td>\n",
       "      <td>0</td>\n",
       "      <td>0</td>\n",
       "      <td>0</td>\n",
       "      <td>1</td>\n",
       "      <td>0</td>\n",
       "      <td>0</td>\n",
       "      <td>0</td>\n",
       "      <td>0</td>\n",
       "      <td>0</td>\n",
       "      <td>0</td>\n",
       "      <td>0</td>\n",
       "      <td>0</td>\n",
       "      <td>0</td>\n",
       "      <td>0</td>\n",
       "      <td>1</td>\n",
       "      <td>0</td>\n",
       "      <td>0</td>\n",
       "      <td>0</td>\n",
       "      <td>0</td>\n",
       "      <td>0</td>\n",
       "      <td>0</td>\n",
       "      <td>0</td>\n",
       "      <td>0</td>\n",
       "      <td>0</td>\n",
       "      <td>0</td>\n",
       "      <td>0</td>\n",
       "      <td>0</td>\n",
       "      <td>0</td>\n",
       "      <td>0</td>\n",
       "      <td>1</td>\n",
       "      <td>0</td>\n",
       "      <td>0</td>\n",
       "      <td>0</td>\n",
       "      <td>0</td>\n",
       "      <td>0</td>\n",
       "      <td>0</td>\n",
       "      <td>0</td>\n",
       "      <td>0</td>\n",
       "      <td>0</td>\n",
       "      <td>0</td>\n",
       "      <td>0</td>\n",
       "      <td>1</td>\n",
       "      <td>0</td>\n",
       "      <td>0</td>\n",
       "      <td>0</td>\n",
       "      <td>0</td>\n",
       "      <td>0</td>\n",
       "      <td>0</td>\n",
       "      <td>0</td>\n",
       "      <td>0</td>\n",
       "      <td>0</td>\n",
       "      <td>0</td>\n",
       "      <td>0</td>\n",
       "      <td>0</td>\n",
       "      <td>0</td>\n",
       "      <td>0</td>\n",
       "      <td>0</td>\n",
       "      <td>0</td>\n",
       "      <td>0</td>\n",
       "      <td>0</td>\n",
       "      <td>0</td>\n",
       "      <td>0</td>\n",
       "    </tr>\n",
       "    <tr>\n",
       "      <th>48599</th>\n",
       "      <td>1</td>\n",
       "      <td>2015-12-31</td>\n",
       "      <td>13:04:18</td>\n",
       "      <td>L</td>\n",
       "      <td>five_cheese</td>\n",
       "      <td>18.50</td>\n",
       "      <td>Veggie</td>\n",
       "      <td>12</td>\n",
       "      <td>31</td>\n",
       "      <td>Thursday</td>\n",
       "      <td>13</td>\n",
       "      <td>123113:04:18</td>\n",
       "      <td>1</td>\n",
       "      <td>0</td>\n",
       "      <td>0</td>\n",
       "      <td>0</td>\n",
       "      <td>0</td>\n",
       "      <td>0</td>\n",
       "      <td>0</td>\n",
       "      <td>0</td>\n",
       "      <td>0</td>\n",
       "      <td>0</td>\n",
       "      <td>0</td>\n",
       "      <td>1</td>\n",
       "      <td>0</td>\n",
       "      <td>0</td>\n",
       "      <td>0</td>\n",
       "      <td>0</td>\n",
       "      <td>0</td>\n",
       "      <td>0</td>\n",
       "      <td>0</td>\n",
       "      <td>0</td>\n",
       "      <td>0</td>\n",
       "      <td>0</td>\n",
       "      <td>0</td>\n",
       "      <td>0</td>\n",
       "      <td>0</td>\n",
       "      <td>0</td>\n",
       "      <td>1</td>\n",
       "      <td>0</td>\n",
       "      <td>0</td>\n",
       "      <td>0</td>\n",
       "      <td>0</td>\n",
       "      <td>0</td>\n",
       "      <td>0</td>\n",
       "      <td>0</td>\n",
       "      <td>0</td>\n",
       "      <td>0</td>\n",
       "      <td>0</td>\n",
       "      <td>1</td>\n",
       "      <td>0</td>\n",
       "      <td>0</td>\n",
       "      <td>0</td>\n",
       "      <td>0</td>\n",
       "      <td>0</td>\n",
       "      <td>0</td>\n",
       "      <td>0</td>\n",
       "      <td>0</td>\n",
       "      <td>0</td>\n",
       "      <td>0</td>\n",
       "      <td>0</td>\n",
       "      <td>0</td>\n",
       "      <td>0</td>\n",
       "      <td>1</td>\n",
       "      <td>0</td>\n",
       "      <td>0</td>\n",
       "      <td>0</td>\n",
       "      <td>1</td>\n",
       "      <td>0</td>\n",
       "      <td>1</td>\n",
       "      <td>0</td>\n",
       "      <td>0</td>\n",
       "      <td>0</td>\n",
       "      <td>0</td>\n",
       "      <td>0</td>\n",
       "      <td>0</td>\n",
       "      <td>0</td>\n",
       "      <td>0</td>\n",
       "    </tr>\n",
       "    <tr>\n",
       "      <th>48608</th>\n",
       "      <td>1</td>\n",
       "      <td>2015-12-31</td>\n",
       "      <td>13:07:42</td>\n",
       "      <td>S</td>\n",
       "      <td>big_meat</td>\n",
       "      <td>12.00</td>\n",
       "      <td>Classic</td>\n",
       "      <td>12</td>\n",
       "      <td>31</td>\n",
       "      <td>Thursday</td>\n",
       "      <td>13</td>\n",
       "      <td>123113:07:42</td>\n",
       "      <td>0</td>\n",
       "      <td>0</td>\n",
       "      <td>0</td>\n",
       "      <td>0</td>\n",
       "      <td>0</td>\n",
       "      <td>0</td>\n",
       "      <td>0</td>\n",
       "      <td>1</td>\n",
       "      <td>0</td>\n",
       "      <td>0</td>\n",
       "      <td>0</td>\n",
       "      <td>0</td>\n",
       "      <td>0</td>\n",
       "      <td>0</td>\n",
       "      <td>0</td>\n",
       "      <td>0</td>\n",
       "      <td>0</td>\n",
       "      <td>0</td>\n",
       "      <td>1</td>\n",
       "      <td>0</td>\n",
       "      <td>0</td>\n",
       "      <td>0</td>\n",
       "      <td>0</td>\n",
       "      <td>0</td>\n",
       "      <td>0</td>\n",
       "      <td>0</td>\n",
       "      <td>0</td>\n",
       "      <td>0</td>\n",
       "      <td>0</td>\n",
       "      <td>0</td>\n",
       "      <td>0</td>\n",
       "      <td>0</td>\n",
       "      <td>0</td>\n",
       "      <td>1</td>\n",
       "      <td>0</td>\n",
       "      <td>0</td>\n",
       "      <td>0</td>\n",
       "      <td>0</td>\n",
       "      <td>0</td>\n",
       "      <td>0</td>\n",
       "      <td>0</td>\n",
       "      <td>0</td>\n",
       "      <td>0</td>\n",
       "      <td>0</td>\n",
       "      <td>0</td>\n",
       "      <td>1</td>\n",
       "      <td>0</td>\n",
       "      <td>0</td>\n",
       "      <td>0</td>\n",
       "      <td>0</td>\n",
       "      <td>0</td>\n",
       "      <td>0</td>\n",
       "      <td>0</td>\n",
       "      <td>0</td>\n",
       "      <td>0</td>\n",
       "      <td>0</td>\n",
       "      <td>0</td>\n",
       "      <td>0</td>\n",
       "      <td>0</td>\n",
       "      <td>0</td>\n",
       "      <td>0</td>\n",
       "      <td>0</td>\n",
       "      <td>0</td>\n",
       "      <td>0</td>\n",
       "      <td>0</td>\n",
       "      <td>0</td>\n",
       "    </tr>\n",
       "  </tbody>\n",
       "</table>\n",
       "<p>3650 rows × 78 columns</p>\n",
       "</div>"
      ],
      "text/plain": [
       "       quantity       date      time size pizza_flavor  price category  month  \\\n",
       "31            1 2015-01-03  16:51:22    S     big_meat  12.00  Classic      1   \n",
       "42            1 2015-01-03  17:02:27    S     big_meat  12.00  Classic      1   \n",
       "55            1 2015-01-03  17:37:49    S     big_meat  12.00  Classic      1   \n",
       "71            1 2015-01-03  18:50:10    S   brie_carre  23.65  Supreme      1   \n",
       "83            1 2015-01-03  19:37:12    L  five_cheese  18.50   Veggie      1   \n",
       "...         ...        ...       ...  ...          ...    ...      ...    ...   \n",
       "48587         1 2015-12-31  12:09:59    S   brie_carre  23.65  Supreme     12   \n",
       "48594         1 2015-12-31  12:44:37    L  five_cheese  18.50   Veggie     12   \n",
       "48596         1 2015-12-31  12:48:36    S     big_meat  12.00  Classic     12   \n",
       "48599         1 2015-12-31  13:04:18    L  five_cheese  18.50   Veggie     12   \n",
       "48608         1 2015-12-31  13:07:42    S     big_meat  12.00  Classic     12   \n",
       "\n",
       "       day day_of_week  hour      order_id  multiple_orders  Alfredo Sauce  \\\n",
       "31       3    Saturday    16  010316:51:22                0              0   \n",
       "42       3    Saturday    17  010317:02:27                0              0   \n",
       "55       3    Saturday    17  010317:37:49                0              0   \n",
       "71       3    Saturday    18  010318:50:10                0              0   \n",
       "83       3    Saturday    19  010319:37:12                0              0   \n",
       "...    ...         ...   ...           ...              ...            ...   \n",
       "48587   31    Thursday    12  123112:09:59                0              0   \n",
       "48594   31    Thursday    12  123112:44:37                0              0   \n",
       "48596   31    Thursday    12  123112:48:36                0              0   \n",
       "48599   31    Thursday    13  123113:04:18                1              0   \n",
       "48608   31    Thursday    13  123113:07:42                0              0   \n",
       "\n",
       "       Anchovies  Artichoke  Artichokes  Arugula  Asiago Cheese  Bacon  \\\n",
       "31             0          0           0        0              0      1   \n",
       "42             0          0           0        0              0      1   \n",
       "55             0          0           0        0              0      1   \n",
       "71             0          0           0        0              0      0   \n",
       "83             0          0           0        0              0      0   \n",
       "...          ...        ...         ...      ...            ...    ...   \n",
       "48587          0          0           0        0              0      0   \n",
       "48594          0          0           0        0              0      0   \n",
       "48596          0          0           0        0              0      1   \n",
       "48599          0          0           0        0              0      0   \n",
       "48608          0          0           0        0              0      1   \n",
       "\n",
       "       Barbecue Sauce  Barbecued Chicken  Beef Chuck Roast  Blue Cheese  \\\n",
       "31                  0                  0                 0            0   \n",
       "42                  0                  0                 0            0   \n",
       "55                  0                  0                 0            0   \n",
       "71                  0                  0                 0            0   \n",
       "83                  0                  0                 0            1   \n",
       "...               ...                ...               ...          ...   \n",
       "48587               0                  0                 0            0   \n",
       "48594               0                  0                 0            1   \n",
       "48596               0                  0                 0            0   \n",
       "48599               0                  0                 0            1   \n",
       "48608               0                  0                 0            0   \n",
       "\n",
       "       Brie Carre Cheese  Calabrese Salami  Capocollo  Caramelized Onions  \\\n",
       "31                     0                 0          0                   0   \n",
       "42                     0                 0          0                   0   \n",
       "55                     0                 0          0                   0   \n",
       "71                     1                 0          0                   1   \n",
       "83                     0                 0          0                   0   \n",
       "...                  ...               ...        ...                 ...   \n",
       "48587                  1                 0          0                   1   \n",
       "48594                  0                 0          0                   0   \n",
       "48596                  0                 0          0                   0   \n",
       "48599                  0                 0          0                   0   \n",
       "48608                  0                 0          0                   0   \n",
       "\n",
       "       Chicken  Chipotle Sauce  Chorizo Sausage  Cilantro  \\\n",
       "31           0               0                1         0   \n",
       "42           0               0                1         0   \n",
       "55           0               0                1         0   \n",
       "71           0               0                0         0   \n",
       "83           0               0                0         0   \n",
       "...        ...             ...              ...       ...   \n",
       "48587        0               0                0         0   \n",
       "48594        0               0                0         0   \n",
       "48596        0               0                1         0   \n",
       "48599        0               0                0         0   \n",
       "48608        0               0                1         0   \n",
       "\n",
       "       Coarse Sicilian Salami  Corn  Eggplant  Feta Cheese  Fontina Cheese  \\\n",
       "31                          0     0         0            0               0   \n",
       "42                          0     0         0            0               0   \n",
       "55                          0     0         0            0               0   \n",
       "71                          0     0         0            0               0   \n",
       "83                          0     0         0            0               0   \n",
       "...                       ...   ...       ...          ...             ...   \n",
       "48587                       0     0         0            0               0   \n",
       "48594                       0     0         0            0               0   \n",
       "48596                       0     0         0            0               0   \n",
       "48599                       0     0         0            0               0   \n",
       "48608                       0     0         0            0               0   \n",
       "\n",
       "       Friggitello Peppers  Garlic  Genoa Salami  Goat Cheese  \\\n",
       "31                       0       0             0            0   \n",
       "42                       0       0             0            0   \n",
       "55                       0       0             0            0   \n",
       "71                       0       1             0            0   \n",
       "83                       0       1             0            0   \n",
       "...                    ...     ...           ...          ...   \n",
       "48587                    0       1             0            0   \n",
       "48594                    0       1             0            0   \n",
       "48596                    0       0             0            0   \n",
       "48599                    0       1             0            0   \n",
       "48608                    0       0             0            0   \n",
       "\n",
       "       Gorgonzola Piccante Cheese  Gouda Cheese  Green Olives  Green Peppers  \\\n",
       "31                              0             0             0              0   \n",
       "42                              0             0             0              0   \n",
       "55                              0             0             0              0   \n",
       "71                              0             0             0              0   \n",
       "83                              0             0             0              0   \n",
       "...                           ...           ...           ...            ...   \n",
       "48587                           0             0             0              0   \n",
       "48594                           0             0             0              0   \n",
       "48596                           0             0             0              0   \n",
       "48599                           0             0             0              0   \n",
       "48608                           0             0             0              0   \n",
       "\n",
       "       Italian Sausage  Jalapeno Peppers  Kalamata Olives  Luganega Sausage  \\\n",
       "31                   1                 0                0                 0   \n",
       "42                   1                 0                0                 0   \n",
       "55                   1                 0                0                 0   \n",
       "71                   0                 0                0                 0   \n",
       "83                   0                 0                0                 0   \n",
       "...                ...               ...              ...               ...   \n",
       "48587                0                 0                0                 0   \n",
       "48594                0                 0                0                 0   \n",
       "48596                1                 0                0                 0   \n",
       "48599                0                 0                0                 0   \n",
       "48608                1                 0                0                 0   \n",
       "\n",
       "       Mozzarella Cheese  Mushrooms  Onions  Oregano  Pancetta  \\\n",
       "31                     0          0       0        0         0   \n",
       "42                     0          0       0        0         0   \n",
       "55                     0          0       0        0         0   \n",
       "71                     0          0       0        0         0   \n",
       "83                     1          0       0        0         0   \n",
       "...                  ...        ...     ...      ...       ...   \n",
       "48587                  0          0       0        0         0   \n",
       "48594                  1          0       0        0         0   \n",
       "48596                  0          0       0        0         0   \n",
       "48599                  1          0       0        0         0   \n",
       "48608                  0          0       0        0         0   \n",
       "\n",
       "       Parmigiano Reggiano Cheese  Pears  Peperoncini verdi  Pepperoni  \\\n",
       "31                              0      0                  0          1   \n",
       "42                              0      0                  0          1   \n",
       "55                              0      0                  0          1   \n",
       "71                              0      1                  0          0   \n",
       "83                              0      0                  0          0   \n",
       "...                           ...    ...                ...        ...   \n",
       "48587                           0      1                  0          0   \n",
       "48594                           0      0                  0          0   \n",
       "48596                           0      0                  0          1   \n",
       "48599                           0      0                  0          0   \n",
       "48608                           0      0                  0          1   \n",
       "\n",
       "       Pesto Sauce  Pineapple  Plum Tomatoes  Prosciutto  \\\n",
       "31               0          0              0           0   \n",
       "42               0          0              0           0   \n",
       "55               0          0              0           0   \n",
       "71               0          0              0           1   \n",
       "83               0          0              0           0   \n",
       "...            ...        ...            ...         ...   \n",
       "48587            0          0              0           1   \n",
       "48594            0          0              0           0   \n",
       "48596            0          0              0           0   \n",
       "48599            0          0              0           0   \n",
       "48608            0          0              0           0   \n",
       "\n",
       "       Prosciutto di San Daniele  Provolone Cheese  Red Onions  Red Peppers  \\\n",
       "31                             0                 0           0            0   \n",
       "42                             0                 0           0            0   \n",
       "55                             0                 0           0            0   \n",
       "71                             0                 0           0            0   \n",
       "83                             0                 1           0            0   \n",
       "...                          ...               ...         ...          ...   \n",
       "48587                          0                 0           0            0   \n",
       "48594                          0                 1           0            0   \n",
       "48596                          0                 0           0            0   \n",
       "48599                          0                 1           0            0   \n",
       "48608                          0                 0           0            0   \n",
       "\n",
       "       Ricotta Cheese  Romano Cheese  Sliced Ham  Smoked Gouda Cheese  \\\n",
       "31                  0              0           0                    0   \n",
       "42                  0              0           0                    0   \n",
       "55                  0              0           0                    0   \n",
       "71                  0              0           0                    0   \n",
       "83                  0              1           0                    1   \n",
       "...               ...            ...         ...                  ...   \n",
       "48587               0              0           0                    0   \n",
       "48594               0              1           0                    1   \n",
       "48596               0              0           0                    0   \n",
       "48599               0              1           0                    1   \n",
       "48608               0              0           0                    0   \n",
       "\n",
       "       Soppressata Salami  Spinach  Sun-dried Tomatoes  \\\n",
       "31                      0        0                   0   \n",
       "42                      0        0                   0   \n",
       "55                      0        0                   0   \n",
       "71                      0        0                   0   \n",
       "83                      0        0                   0   \n",
       "...                   ...      ...                 ...   \n",
       "48587                   0        0                   0   \n",
       "48594                   0        0                   0   \n",
       "48596                   0        0                   0   \n",
       "48599                   0        0                   0   \n",
       "48608                   0        0                   0   \n",
       "\n",
       "       Thai Sweet Chilli Sauce  Thyme  Tomatoes  Zucchini  �Nduja Salami  \n",
       "31                           0      0         0         0              0  \n",
       "42                           0      0         0         0              0  \n",
       "55                           0      0         0         0              0  \n",
       "71                           0      1         0         0              0  \n",
       "83                           0      0         0         0              0  \n",
       "...                        ...    ...       ...       ...            ...  \n",
       "48587                        0      1         0         0              0  \n",
       "48594                        0      0         0         0              0  \n",
       "48596                        0      0         0         0              0  \n",
       "48599                        0      0         0         0              0  \n",
       "48608                        0      0         0         0              0  \n",
       "\n",
       "[3650 rows x 78 columns]"
      ]
     },
     "execution_count": 48,
     "metadata": {},
     "output_type": "execute_result"
    }
   ],
   "source": [
    "unique_sizes = df.groupby('pizza_flavor')['size'].nunique()\n",
    "\n",
    "# Pizzas that come in only one unique size\n",
    "unique_size_pizzas = unique_sizes[unique_sizes == 1]\n",
    "unique_size_pizzas_df = df[df['pizza_flavor'].isin(unique_size_pizzas.index)]\n",
    "unique_size_pizzas_df"
   ]
  },
  {
   "cell_type": "code",
   "execution_count": 53,
   "metadata": {},
   "outputs": [
    {
     "data": {
      "application/vnd.plotly.v1+json": {
       "config": {
        "plotlyServerURL": "https://plot.ly"
       },
       "data": [
        {
         "hovertemplate": "<b>%{hovertext}</b><br><br>size=S<br>pizza_flavor=%{x}<br>Sales=%{marker.size}<extra></extra>",
         "hovertext": [
          "big_meat",
          "brie_carre"
         ],
         "legendgroup": "S",
         "marker": {
          "color": "#636efa",
          "size": [
           1914,
           490
          ],
          "sizemode": "area",
          "sizeref": 4.785,
          "symbol": "circle"
         },
         "mode": "markers",
         "name": "S",
         "orientation": "v",
         "showlegend": true,
         "type": "scatter",
         "x": [
          "big_meat",
          "brie_carre"
         ],
         "xaxis": "x",
         "y": [
          1914,
          490
         ],
         "yaxis": "y"
        },
        {
         "hovertemplate": "<b>%{hovertext}</b><br><br>size=L<br>pizza_flavor=%{x}<br>Sales=%{marker.size}<extra></extra>",
         "hovertext": [
          "five_cheese"
         ],
         "legendgroup": "L",
         "marker": {
          "color": "#EF553B",
          "size": [
           1409
          ],
          "sizemode": "area",
          "sizeref": 4.785,
          "symbol": "circle"
         },
         "mode": "markers",
         "name": "L",
         "orientation": "v",
         "showlegend": true,
         "type": "scatter",
         "x": [
          "five_cheese"
         ],
         "xaxis": "x",
         "y": [
          1409
         ],
         "yaxis": "y"
        }
       ],
       "layout": {
        "legend": {
         "itemsizing": "constant",
         "title": {
          "text": "size"
         },
         "tracegroupgap": 0
        },
        "template": {
         "data": {
          "bar": [
           {
            "error_x": {
             "color": "#2a3f5f"
            },
            "error_y": {
             "color": "#2a3f5f"
            },
            "marker": {
             "line": {
              "color": "#E5ECF6",
              "width": 0.5
             },
             "pattern": {
              "fillmode": "overlay",
              "size": 10,
              "solidity": 0.2
             }
            },
            "type": "bar"
           }
          ],
          "barpolar": [
           {
            "marker": {
             "line": {
              "color": "#E5ECF6",
              "width": 0.5
             },
             "pattern": {
              "fillmode": "overlay",
              "size": 10,
              "solidity": 0.2
             }
            },
            "type": "barpolar"
           }
          ],
          "carpet": [
           {
            "aaxis": {
             "endlinecolor": "#2a3f5f",
             "gridcolor": "white",
             "linecolor": "white",
             "minorgridcolor": "white",
             "startlinecolor": "#2a3f5f"
            },
            "baxis": {
             "endlinecolor": "#2a3f5f",
             "gridcolor": "white",
             "linecolor": "white",
             "minorgridcolor": "white",
             "startlinecolor": "#2a3f5f"
            },
            "type": "carpet"
           }
          ],
          "choropleth": [
           {
            "colorbar": {
             "outlinewidth": 0,
             "ticks": ""
            },
            "type": "choropleth"
           }
          ],
          "contour": [
           {
            "colorbar": {
             "outlinewidth": 0,
             "ticks": ""
            },
            "colorscale": [
             [
              0,
              "#0d0887"
             ],
             [
              0.1111111111111111,
              "#46039f"
             ],
             [
              0.2222222222222222,
              "#7201a8"
             ],
             [
              0.3333333333333333,
              "#9c179e"
             ],
             [
              0.4444444444444444,
              "#bd3786"
             ],
             [
              0.5555555555555556,
              "#d8576b"
             ],
             [
              0.6666666666666666,
              "#ed7953"
             ],
             [
              0.7777777777777778,
              "#fb9f3a"
             ],
             [
              0.8888888888888888,
              "#fdca26"
             ],
             [
              1,
              "#f0f921"
             ]
            ],
            "type": "contour"
           }
          ],
          "contourcarpet": [
           {
            "colorbar": {
             "outlinewidth": 0,
             "ticks": ""
            },
            "type": "contourcarpet"
           }
          ],
          "heatmap": [
           {
            "colorbar": {
             "outlinewidth": 0,
             "ticks": ""
            },
            "colorscale": [
             [
              0,
              "#0d0887"
             ],
             [
              0.1111111111111111,
              "#46039f"
             ],
             [
              0.2222222222222222,
              "#7201a8"
             ],
             [
              0.3333333333333333,
              "#9c179e"
             ],
             [
              0.4444444444444444,
              "#bd3786"
             ],
             [
              0.5555555555555556,
              "#d8576b"
             ],
             [
              0.6666666666666666,
              "#ed7953"
             ],
             [
              0.7777777777777778,
              "#fb9f3a"
             ],
             [
              0.8888888888888888,
              "#fdca26"
             ],
             [
              1,
              "#f0f921"
             ]
            ],
            "type": "heatmap"
           }
          ],
          "heatmapgl": [
           {
            "colorbar": {
             "outlinewidth": 0,
             "ticks": ""
            },
            "colorscale": [
             [
              0,
              "#0d0887"
             ],
             [
              0.1111111111111111,
              "#46039f"
             ],
             [
              0.2222222222222222,
              "#7201a8"
             ],
             [
              0.3333333333333333,
              "#9c179e"
             ],
             [
              0.4444444444444444,
              "#bd3786"
             ],
             [
              0.5555555555555556,
              "#d8576b"
             ],
             [
              0.6666666666666666,
              "#ed7953"
             ],
             [
              0.7777777777777778,
              "#fb9f3a"
             ],
             [
              0.8888888888888888,
              "#fdca26"
             ],
             [
              1,
              "#f0f921"
             ]
            ],
            "type": "heatmapgl"
           }
          ],
          "histogram": [
           {
            "marker": {
             "pattern": {
              "fillmode": "overlay",
              "size": 10,
              "solidity": 0.2
             }
            },
            "type": "histogram"
           }
          ],
          "histogram2d": [
           {
            "colorbar": {
             "outlinewidth": 0,
             "ticks": ""
            },
            "colorscale": [
             [
              0,
              "#0d0887"
             ],
             [
              0.1111111111111111,
              "#46039f"
             ],
             [
              0.2222222222222222,
              "#7201a8"
             ],
             [
              0.3333333333333333,
              "#9c179e"
             ],
             [
              0.4444444444444444,
              "#bd3786"
             ],
             [
              0.5555555555555556,
              "#d8576b"
             ],
             [
              0.6666666666666666,
              "#ed7953"
             ],
             [
              0.7777777777777778,
              "#fb9f3a"
             ],
             [
              0.8888888888888888,
              "#fdca26"
             ],
             [
              1,
              "#f0f921"
             ]
            ],
            "type": "histogram2d"
           }
          ],
          "histogram2dcontour": [
           {
            "colorbar": {
             "outlinewidth": 0,
             "ticks": ""
            },
            "colorscale": [
             [
              0,
              "#0d0887"
             ],
             [
              0.1111111111111111,
              "#46039f"
             ],
             [
              0.2222222222222222,
              "#7201a8"
             ],
             [
              0.3333333333333333,
              "#9c179e"
             ],
             [
              0.4444444444444444,
              "#bd3786"
             ],
             [
              0.5555555555555556,
              "#d8576b"
             ],
             [
              0.6666666666666666,
              "#ed7953"
             ],
             [
              0.7777777777777778,
              "#fb9f3a"
             ],
             [
              0.8888888888888888,
              "#fdca26"
             ],
             [
              1,
              "#f0f921"
             ]
            ],
            "type": "histogram2dcontour"
           }
          ],
          "mesh3d": [
           {
            "colorbar": {
             "outlinewidth": 0,
             "ticks": ""
            },
            "type": "mesh3d"
           }
          ],
          "parcoords": [
           {
            "line": {
             "colorbar": {
              "outlinewidth": 0,
              "ticks": ""
             }
            },
            "type": "parcoords"
           }
          ],
          "pie": [
           {
            "automargin": true,
            "type": "pie"
           }
          ],
          "scatter": [
           {
            "fillpattern": {
             "fillmode": "overlay",
             "size": 10,
             "solidity": 0.2
            },
            "type": "scatter"
           }
          ],
          "scatter3d": [
           {
            "line": {
             "colorbar": {
              "outlinewidth": 0,
              "ticks": ""
             }
            },
            "marker": {
             "colorbar": {
              "outlinewidth": 0,
              "ticks": ""
             }
            },
            "type": "scatter3d"
           }
          ],
          "scattercarpet": [
           {
            "marker": {
             "colorbar": {
              "outlinewidth": 0,
              "ticks": ""
             }
            },
            "type": "scattercarpet"
           }
          ],
          "scattergeo": [
           {
            "marker": {
             "colorbar": {
              "outlinewidth": 0,
              "ticks": ""
             }
            },
            "type": "scattergeo"
           }
          ],
          "scattergl": [
           {
            "marker": {
             "colorbar": {
              "outlinewidth": 0,
              "ticks": ""
             }
            },
            "type": "scattergl"
           }
          ],
          "scattermapbox": [
           {
            "marker": {
             "colorbar": {
              "outlinewidth": 0,
              "ticks": ""
             }
            },
            "type": "scattermapbox"
           }
          ],
          "scatterpolar": [
           {
            "marker": {
             "colorbar": {
              "outlinewidth": 0,
              "ticks": ""
             }
            },
            "type": "scatterpolar"
           }
          ],
          "scatterpolargl": [
           {
            "marker": {
             "colorbar": {
              "outlinewidth": 0,
              "ticks": ""
             }
            },
            "type": "scatterpolargl"
           }
          ],
          "scatterternary": [
           {
            "marker": {
             "colorbar": {
              "outlinewidth": 0,
              "ticks": ""
             }
            },
            "type": "scatterternary"
           }
          ],
          "surface": [
           {
            "colorbar": {
             "outlinewidth": 0,
             "ticks": ""
            },
            "colorscale": [
             [
              0,
              "#0d0887"
             ],
             [
              0.1111111111111111,
              "#46039f"
             ],
             [
              0.2222222222222222,
              "#7201a8"
             ],
             [
              0.3333333333333333,
              "#9c179e"
             ],
             [
              0.4444444444444444,
              "#bd3786"
             ],
             [
              0.5555555555555556,
              "#d8576b"
             ],
             [
              0.6666666666666666,
              "#ed7953"
             ],
             [
              0.7777777777777778,
              "#fb9f3a"
             ],
             [
              0.8888888888888888,
              "#fdca26"
             ],
             [
              1,
              "#f0f921"
             ]
            ],
            "type": "surface"
           }
          ],
          "table": [
           {
            "cells": {
             "fill": {
              "color": "#EBF0F8"
             },
             "line": {
              "color": "white"
             }
            },
            "header": {
             "fill": {
              "color": "#C8D4E3"
             },
             "line": {
              "color": "white"
             }
            },
            "type": "table"
           }
          ]
         },
         "layout": {
          "annotationdefaults": {
           "arrowcolor": "#2a3f5f",
           "arrowhead": 0,
           "arrowwidth": 1
          },
          "autotypenumbers": "strict",
          "coloraxis": {
           "colorbar": {
            "outlinewidth": 0,
            "ticks": ""
           }
          },
          "colorscale": {
           "diverging": [
            [
             0,
             "#8e0152"
            ],
            [
             0.1,
             "#c51b7d"
            ],
            [
             0.2,
             "#de77ae"
            ],
            [
             0.3,
             "#f1b6da"
            ],
            [
             0.4,
             "#fde0ef"
            ],
            [
             0.5,
             "#f7f7f7"
            ],
            [
             0.6,
             "#e6f5d0"
            ],
            [
             0.7,
             "#b8e186"
            ],
            [
             0.8,
             "#7fbc41"
            ],
            [
             0.9,
             "#4d9221"
            ],
            [
             1,
             "#276419"
            ]
           ],
           "sequential": [
            [
             0,
             "#0d0887"
            ],
            [
             0.1111111111111111,
             "#46039f"
            ],
            [
             0.2222222222222222,
             "#7201a8"
            ],
            [
             0.3333333333333333,
             "#9c179e"
            ],
            [
             0.4444444444444444,
             "#bd3786"
            ],
            [
             0.5555555555555556,
             "#d8576b"
            ],
            [
             0.6666666666666666,
             "#ed7953"
            ],
            [
             0.7777777777777778,
             "#fb9f3a"
            ],
            [
             0.8888888888888888,
             "#fdca26"
            ],
            [
             1,
             "#f0f921"
            ]
           ],
           "sequentialminus": [
            [
             0,
             "#0d0887"
            ],
            [
             0.1111111111111111,
             "#46039f"
            ],
            [
             0.2222222222222222,
             "#7201a8"
            ],
            [
             0.3333333333333333,
             "#9c179e"
            ],
            [
             0.4444444444444444,
             "#bd3786"
            ],
            [
             0.5555555555555556,
             "#d8576b"
            ],
            [
             0.6666666666666666,
             "#ed7953"
            ],
            [
             0.7777777777777778,
             "#fb9f3a"
            ],
            [
             0.8888888888888888,
             "#fdca26"
            ],
            [
             1,
             "#f0f921"
            ]
           ]
          },
          "colorway": [
           "#636efa",
           "#EF553B",
           "#00cc96",
           "#ab63fa",
           "#FFA15A",
           "#19d3f3",
           "#FF6692",
           "#B6E880",
           "#FF97FF",
           "#FECB52"
          ],
          "font": {
           "color": "#2a3f5f"
          },
          "geo": {
           "bgcolor": "white",
           "lakecolor": "white",
           "landcolor": "#E5ECF6",
           "showlakes": true,
           "showland": true,
           "subunitcolor": "white"
          },
          "hoverlabel": {
           "align": "left"
          },
          "hovermode": "closest",
          "mapbox": {
           "style": "light"
          },
          "paper_bgcolor": "white",
          "plot_bgcolor": "#E5ECF6",
          "polar": {
           "angularaxis": {
            "gridcolor": "white",
            "linecolor": "white",
            "ticks": ""
           },
           "bgcolor": "#E5ECF6",
           "radialaxis": {
            "gridcolor": "white",
            "linecolor": "white",
            "ticks": ""
           }
          },
          "scene": {
           "xaxis": {
            "backgroundcolor": "#E5ECF6",
            "gridcolor": "white",
            "gridwidth": 2,
            "linecolor": "white",
            "showbackground": true,
            "ticks": "",
            "zerolinecolor": "white"
           },
           "yaxis": {
            "backgroundcolor": "#E5ECF6",
            "gridcolor": "white",
            "gridwidth": 2,
            "linecolor": "white",
            "showbackground": true,
            "ticks": "",
            "zerolinecolor": "white"
           },
           "zaxis": {
            "backgroundcolor": "#E5ECF6",
            "gridcolor": "white",
            "gridwidth": 2,
            "linecolor": "white",
            "showbackground": true,
            "ticks": "",
            "zerolinecolor": "white"
           }
          },
          "shapedefaults": {
           "line": {
            "color": "#2a3f5f"
           }
          },
          "ternary": {
           "aaxis": {
            "gridcolor": "white",
            "linecolor": "white",
            "ticks": ""
           },
           "baxis": {
            "gridcolor": "white",
            "linecolor": "white",
            "ticks": ""
           },
           "bgcolor": "#E5ECF6",
           "caxis": {
            "gridcolor": "white",
            "linecolor": "white",
            "ticks": ""
           }
          },
          "title": {
           "x": 0.05
          },
          "xaxis": {
           "automargin": true,
           "gridcolor": "white",
           "linecolor": "white",
           "ticks": "",
           "title": {
            "standoff": 15
           },
           "zerolinecolor": "white",
           "zerolinewidth": 2
          },
          "yaxis": {
           "automargin": true,
           "gridcolor": "white",
           "linecolor": "white",
           "ticks": "",
           "title": {
            "standoff": 15
           },
           "zerolinecolor": "white",
           "zerolinewidth": 2
          }
         }
        },
        "title": {
         "text": "Unique Pizza Flavors"
        },
        "xaxis": {
         "anchor": "y",
         "categoryorder": "total descending",
         "domain": [
          0,
          1
         ],
         "title": {
          "text": "pizza_flavor"
         }
        },
        "yaxis": {
         "anchor": "x",
         "domain": [
          0,
          1
         ],
         "title": {
          "text": "Sales"
         }
        }
       }
      }
     },
     "metadata": {},
     "output_type": "display_data"
    }
   ],
   "source": [
    "\n",
    "flavor_popularity = unique_size_pizzas_df.groupby(['pizza_flavor', 'size'])['quantity'].sum().reset_index()\n",
    "flavor_popularity\n",
    "# Create scatter plot, color by 'category'\n",
    "scatterplot_fig = px.scatter(flavor_popularity, x='pizza_flavor', y='quantity',\n",
    "    color='size',  # Set the color of the circles based on the 'category'\n",
    "    title='Unique Pizza Flavors',\n",
    "    labels={'quantity': 'Sales', 'pizza_flavor': 'Pizza Flavor'},\n",
    "    size='quantity',  # Optional: Use the quantity as the size of the scatter plot markers\n",
    "    hover_name='pizza_flavor')  # Optional: Show the pizza flavor name on hover\n",
    "\n",
    "# Update layout\n",
    "scatterplot_fig.update_layout(xaxis={'categoryorder': 'total descending'})\n",
    "scatterplot_fig"
   ]
  },
  {
   "cell_type": "code",
   "execution_count": 64,
   "metadata": {},
   "outputs": [
    {
     "data": {
      "application/vnd.plotly.v1+json": {
       "config": {
        "plotlyServerURL": "https://plot.ly"
       },
       "data": [
        {
         "hovertext": [
          "big_meat",
          "brie_carre",
          "five_cheese"
         ],
         "mode": "markers",
         "name": "Only comes in one size",
         "type": "scatter",
         "x": [
          "big_meat",
          "brie_carre",
          "five_cheese"
         ],
         "y": [
          1914,
          490,
          1409
         ]
        },
        {
         "hovertext": [
          "ital_cpcllo",
          "napolitana",
          "peppr_salami",
          "prsc_argla",
          "spinach_fet"
         ],
         "mode": "markers",
         "name": "Small, Medium, or Large",
         "type": "scatter",
         "x": [
          "ital_cpcllo",
          "napolitana",
          "peppr_salami",
          "prsc_argla",
          "spinach_fet"
         ],
         "y": [
          1438,
          1464,
          1446,
          1457,
          1446
         ]
        }
       ],
       "layout": {
        "template": {
         "data": {
          "bar": [
           {
            "error_x": {
             "color": "#2a3f5f"
            },
            "error_y": {
             "color": "#2a3f5f"
            },
            "marker": {
             "line": {
              "color": "#E5ECF6",
              "width": 0.5
             },
             "pattern": {
              "fillmode": "overlay",
              "size": 10,
              "solidity": 0.2
             }
            },
            "type": "bar"
           }
          ],
          "barpolar": [
           {
            "marker": {
             "line": {
              "color": "#E5ECF6",
              "width": 0.5
             },
             "pattern": {
              "fillmode": "overlay",
              "size": 10,
              "solidity": 0.2
             }
            },
            "type": "barpolar"
           }
          ],
          "carpet": [
           {
            "aaxis": {
             "endlinecolor": "#2a3f5f",
             "gridcolor": "white",
             "linecolor": "white",
             "minorgridcolor": "white",
             "startlinecolor": "#2a3f5f"
            },
            "baxis": {
             "endlinecolor": "#2a3f5f",
             "gridcolor": "white",
             "linecolor": "white",
             "minorgridcolor": "white",
             "startlinecolor": "#2a3f5f"
            },
            "type": "carpet"
           }
          ],
          "choropleth": [
           {
            "colorbar": {
             "outlinewidth": 0,
             "ticks": ""
            },
            "type": "choropleth"
           }
          ],
          "contour": [
           {
            "colorbar": {
             "outlinewidth": 0,
             "ticks": ""
            },
            "colorscale": [
             [
              0,
              "#0d0887"
             ],
             [
              0.1111111111111111,
              "#46039f"
             ],
             [
              0.2222222222222222,
              "#7201a8"
             ],
             [
              0.3333333333333333,
              "#9c179e"
             ],
             [
              0.4444444444444444,
              "#bd3786"
             ],
             [
              0.5555555555555556,
              "#d8576b"
             ],
             [
              0.6666666666666666,
              "#ed7953"
             ],
             [
              0.7777777777777778,
              "#fb9f3a"
             ],
             [
              0.8888888888888888,
              "#fdca26"
             ],
             [
              1,
              "#f0f921"
             ]
            ],
            "type": "contour"
           }
          ],
          "contourcarpet": [
           {
            "colorbar": {
             "outlinewidth": 0,
             "ticks": ""
            },
            "type": "contourcarpet"
           }
          ],
          "heatmap": [
           {
            "colorbar": {
             "outlinewidth": 0,
             "ticks": ""
            },
            "colorscale": [
             [
              0,
              "#0d0887"
             ],
             [
              0.1111111111111111,
              "#46039f"
             ],
             [
              0.2222222222222222,
              "#7201a8"
             ],
             [
              0.3333333333333333,
              "#9c179e"
             ],
             [
              0.4444444444444444,
              "#bd3786"
             ],
             [
              0.5555555555555556,
              "#d8576b"
             ],
             [
              0.6666666666666666,
              "#ed7953"
             ],
             [
              0.7777777777777778,
              "#fb9f3a"
             ],
             [
              0.8888888888888888,
              "#fdca26"
             ],
             [
              1,
              "#f0f921"
             ]
            ],
            "type": "heatmap"
           }
          ],
          "heatmapgl": [
           {
            "colorbar": {
             "outlinewidth": 0,
             "ticks": ""
            },
            "colorscale": [
             [
              0,
              "#0d0887"
             ],
             [
              0.1111111111111111,
              "#46039f"
             ],
             [
              0.2222222222222222,
              "#7201a8"
             ],
             [
              0.3333333333333333,
              "#9c179e"
             ],
             [
              0.4444444444444444,
              "#bd3786"
             ],
             [
              0.5555555555555556,
              "#d8576b"
             ],
             [
              0.6666666666666666,
              "#ed7953"
             ],
             [
              0.7777777777777778,
              "#fb9f3a"
             ],
             [
              0.8888888888888888,
              "#fdca26"
             ],
             [
              1,
              "#f0f921"
             ]
            ],
            "type": "heatmapgl"
           }
          ],
          "histogram": [
           {
            "marker": {
             "pattern": {
              "fillmode": "overlay",
              "size": 10,
              "solidity": 0.2
             }
            },
            "type": "histogram"
           }
          ],
          "histogram2d": [
           {
            "colorbar": {
             "outlinewidth": 0,
             "ticks": ""
            },
            "colorscale": [
             [
              0,
              "#0d0887"
             ],
             [
              0.1111111111111111,
              "#46039f"
             ],
             [
              0.2222222222222222,
              "#7201a8"
             ],
             [
              0.3333333333333333,
              "#9c179e"
             ],
             [
              0.4444444444444444,
              "#bd3786"
             ],
             [
              0.5555555555555556,
              "#d8576b"
             ],
             [
              0.6666666666666666,
              "#ed7953"
             ],
             [
              0.7777777777777778,
              "#fb9f3a"
             ],
             [
              0.8888888888888888,
              "#fdca26"
             ],
             [
              1,
              "#f0f921"
             ]
            ],
            "type": "histogram2d"
           }
          ],
          "histogram2dcontour": [
           {
            "colorbar": {
             "outlinewidth": 0,
             "ticks": ""
            },
            "colorscale": [
             [
              0,
              "#0d0887"
             ],
             [
              0.1111111111111111,
              "#46039f"
             ],
             [
              0.2222222222222222,
              "#7201a8"
             ],
             [
              0.3333333333333333,
              "#9c179e"
             ],
             [
              0.4444444444444444,
              "#bd3786"
             ],
             [
              0.5555555555555556,
              "#d8576b"
             ],
             [
              0.6666666666666666,
              "#ed7953"
             ],
             [
              0.7777777777777778,
              "#fb9f3a"
             ],
             [
              0.8888888888888888,
              "#fdca26"
             ],
             [
              1,
              "#f0f921"
             ]
            ],
            "type": "histogram2dcontour"
           }
          ],
          "mesh3d": [
           {
            "colorbar": {
             "outlinewidth": 0,
             "ticks": ""
            },
            "type": "mesh3d"
           }
          ],
          "parcoords": [
           {
            "line": {
             "colorbar": {
              "outlinewidth": 0,
              "ticks": ""
             }
            },
            "type": "parcoords"
           }
          ],
          "pie": [
           {
            "automargin": true,
            "type": "pie"
           }
          ],
          "scatter": [
           {
            "fillpattern": {
             "fillmode": "overlay",
             "size": 10,
             "solidity": 0.2
            },
            "type": "scatter"
           }
          ],
          "scatter3d": [
           {
            "line": {
             "colorbar": {
              "outlinewidth": 0,
              "ticks": ""
             }
            },
            "marker": {
             "colorbar": {
              "outlinewidth": 0,
              "ticks": ""
             }
            },
            "type": "scatter3d"
           }
          ],
          "scattercarpet": [
           {
            "marker": {
             "colorbar": {
              "outlinewidth": 0,
              "ticks": ""
             }
            },
            "type": "scattercarpet"
           }
          ],
          "scattergeo": [
           {
            "marker": {
             "colorbar": {
              "outlinewidth": 0,
              "ticks": ""
             }
            },
            "type": "scattergeo"
           }
          ],
          "scattergl": [
           {
            "marker": {
             "colorbar": {
              "outlinewidth": 0,
              "ticks": ""
             }
            },
            "type": "scattergl"
           }
          ],
          "scattermapbox": [
           {
            "marker": {
             "colorbar": {
              "outlinewidth": 0,
              "ticks": ""
             }
            },
            "type": "scattermapbox"
           }
          ],
          "scatterpolar": [
           {
            "marker": {
             "colorbar": {
              "outlinewidth": 0,
              "ticks": ""
             }
            },
            "type": "scatterpolar"
           }
          ],
          "scatterpolargl": [
           {
            "marker": {
             "colorbar": {
              "outlinewidth": 0,
              "ticks": ""
             }
            },
            "type": "scatterpolargl"
           }
          ],
          "scatterternary": [
           {
            "marker": {
             "colorbar": {
              "outlinewidth": 0,
              "ticks": ""
             }
            },
            "type": "scatterternary"
           }
          ],
          "surface": [
           {
            "colorbar": {
             "outlinewidth": 0,
             "ticks": ""
            },
            "colorscale": [
             [
              0,
              "#0d0887"
             ],
             [
              0.1111111111111111,
              "#46039f"
             ],
             [
              0.2222222222222222,
              "#7201a8"
             ],
             [
              0.3333333333333333,
              "#9c179e"
             ],
             [
              0.4444444444444444,
              "#bd3786"
             ],
             [
              0.5555555555555556,
              "#d8576b"
             ],
             [
              0.6666666666666666,
              "#ed7953"
             ],
             [
              0.7777777777777778,
              "#fb9f3a"
             ],
             [
              0.8888888888888888,
              "#fdca26"
             ],
             [
              1,
              "#f0f921"
             ]
            ],
            "type": "surface"
           }
          ],
          "table": [
           {
            "cells": {
             "fill": {
              "color": "#EBF0F8"
             },
             "line": {
              "color": "white"
             }
            },
            "header": {
             "fill": {
              "color": "#C8D4E3"
             },
             "line": {
              "color": "white"
             }
            },
            "type": "table"
           }
          ]
         },
         "layout": {
          "annotationdefaults": {
           "arrowcolor": "#2a3f5f",
           "arrowhead": 0,
           "arrowwidth": 1
          },
          "autotypenumbers": "strict",
          "coloraxis": {
           "colorbar": {
            "outlinewidth": 0,
            "ticks": ""
           }
          },
          "colorscale": {
           "diverging": [
            [
             0,
             "#8e0152"
            ],
            [
             0.1,
             "#c51b7d"
            ],
            [
             0.2,
             "#de77ae"
            ],
            [
             0.3,
             "#f1b6da"
            ],
            [
             0.4,
             "#fde0ef"
            ],
            [
             0.5,
             "#f7f7f7"
            ],
            [
             0.6,
             "#e6f5d0"
            ],
            [
             0.7,
             "#b8e186"
            ],
            [
             0.8,
             "#7fbc41"
            ],
            [
             0.9,
             "#4d9221"
            ],
            [
             1,
             "#276419"
            ]
           ],
           "sequential": [
            [
             0,
             "#0d0887"
            ],
            [
             0.1111111111111111,
             "#46039f"
            ],
            [
             0.2222222222222222,
             "#7201a8"
            ],
            [
             0.3333333333333333,
             "#9c179e"
            ],
            [
             0.4444444444444444,
             "#bd3786"
            ],
            [
             0.5555555555555556,
             "#d8576b"
            ],
            [
             0.6666666666666666,
             "#ed7953"
            ],
            [
             0.7777777777777778,
             "#fb9f3a"
            ],
            [
             0.8888888888888888,
             "#fdca26"
            ],
            [
             1,
             "#f0f921"
            ]
           ],
           "sequentialminus": [
            [
             0,
             "#0d0887"
            ],
            [
             0.1111111111111111,
             "#46039f"
            ],
            [
             0.2222222222222222,
             "#7201a8"
            ],
            [
             0.3333333333333333,
             "#9c179e"
            ],
            [
             0.4444444444444444,
             "#bd3786"
            ],
            [
             0.5555555555555556,
             "#d8576b"
            ],
            [
             0.6666666666666666,
             "#ed7953"
            ],
            [
             0.7777777777777778,
             "#fb9f3a"
            ],
            [
             0.8888888888888888,
             "#fdca26"
            ],
            [
             1,
             "#f0f921"
            ]
           ]
          },
          "colorway": [
           "#636efa",
           "#EF553B",
           "#00cc96",
           "#ab63fa",
           "#FFA15A",
           "#19d3f3",
           "#FF6692",
           "#B6E880",
           "#FF97FF",
           "#FECB52"
          ],
          "font": {
           "color": "#2a3f5f"
          },
          "geo": {
           "bgcolor": "white",
           "lakecolor": "white",
           "landcolor": "#E5ECF6",
           "showlakes": true,
           "showland": true,
           "subunitcolor": "white"
          },
          "hoverlabel": {
           "align": "left"
          },
          "hovermode": "closest",
          "mapbox": {
           "style": "light"
          },
          "paper_bgcolor": "white",
          "plot_bgcolor": "#E5ECF6",
          "polar": {
           "angularaxis": {
            "gridcolor": "white",
            "linecolor": "white",
            "ticks": ""
           },
           "bgcolor": "#E5ECF6",
           "radialaxis": {
            "gridcolor": "white",
            "linecolor": "white",
            "ticks": ""
           }
          },
          "scene": {
           "xaxis": {
            "backgroundcolor": "#E5ECF6",
            "gridcolor": "white",
            "gridwidth": 2,
            "linecolor": "white",
            "showbackground": true,
            "ticks": "",
            "zerolinecolor": "white"
           },
           "yaxis": {
            "backgroundcolor": "#E5ECF6",
            "gridcolor": "white",
            "gridwidth": 2,
            "linecolor": "white",
            "showbackground": true,
            "ticks": "",
            "zerolinecolor": "white"
           },
           "zaxis": {
            "backgroundcolor": "#E5ECF6",
            "gridcolor": "white",
            "gridwidth": 2,
            "linecolor": "white",
            "showbackground": true,
            "ticks": "",
            "zerolinecolor": "white"
           }
          },
          "shapedefaults": {
           "line": {
            "color": "#2a3f5f"
           }
          },
          "ternary": {
           "aaxis": {
            "gridcolor": "white",
            "linecolor": "white",
            "ticks": ""
           },
           "baxis": {
            "gridcolor": "white",
            "linecolor": "white",
            "ticks": ""
           },
           "bgcolor": "#E5ECF6",
           "caxis": {
            "gridcolor": "white",
            "linecolor": "white",
            "ticks": ""
           }
          },
          "title": {
           "x": 0.05
          },
          "xaxis": {
           "automargin": true,
           "gridcolor": "white",
           "linecolor": "white",
           "ticks": "",
           "title": {
            "standoff": 15
           },
           "zerolinecolor": "white",
           "zerolinewidth": 2
          },
          "yaxis": {
           "automargin": true,
           "gridcolor": "white",
           "linecolor": "white",
           "ticks": "",
           "title": {
            "standoff": 15
           },
           "zerolinecolor": "white",
           "zerolinewidth": 2
          }
         }
        },
        "title": {
         "text": "Unique Pizza Flavors"
        },
        "xaxis": {
         "categoryorder": "total descending",
         "title": {
          "text": "Pizza Flavor"
         }
        },
        "yaxis": {
         "title": {
          "text": "Sales"
         }
        }
       }
      }
     },
     "metadata": {},
     "output_type": "display_data"
    }
   ],
   "source": [
    "unique_size_pizzas = unique_sizes[unique_sizes == 1]\n",
    "unique_size_pizzas_df = df[df['pizza_flavor'].isin(unique_size_pizzas.index)]\n",
    "median_orders = df.groupby('pizza_flavor')['quantity'].sum().median()\n",
    "diff_from_median = abs(df.groupby('pizza_flavor')['quantity'].sum() - median_orders)\n",
    "balanced_flavors = diff_from_median.nsmallest(5).index\n",
    "balanced_flavors_df = df[df['pizza_flavor'].isin(balanced_flavors)]\n",
    "combined_df = pd.concat([unique_size_pizzas_df, balanced_flavors_df])\n",
    "combined_df['unique'] = np.where(combined_df['pizza_flavor'].isin(unique_size_pizzas.index), 'Only comes in one size', 'Small, Medium, or Large')\n",
    "combined_flavor_popularity = combined_df.groupby(['pizza_flavor', 'unique'])['quantity'].sum().reset_index()\n",
    "scatterplot_fig = go.Figure()\n",
    "for color, group in combined_flavor_popularity.groupby('unique'):\n",
    "    scatterplot_fig.add_trace(go.Scatter(\n",
    "        x=group['pizza_flavor'], \n",
    "        y=group['quantity'],\n",
    "        mode='markers',\n",
    "        name=color,\n",
    "        hovertext=group['pizza_flavor']  # Show the pizza flavor name on hover\n",
    "    ))\n",
    "\n",
    "scatterplot_fig.update_layout(\n",
    "    title='Unique Pizza Flavors',\n",
    "    xaxis={'categoryorder': 'total descending', 'title': 'Pizza Flavor'},\n",
    "    yaxis={'title': 'Sales'}\n",
    ")\n",
    "\n",
    "scatterplot_fig"
   ]
  },
  {
   "cell_type": "code",
   "execution_count": 77,
   "metadata": {},
   "outputs": [
    {
     "data": {
      "application/vnd.plotly.v1+json": {
       "config": {
        "plotlyServerURL": "https://plot.ly"
       },
       "data": [
        {
         "hole": 0.9,
         "labels": [
          "S",
          "M",
          "L",
          "XL",
          "XXL"
         ],
         "marker": {
          "colors": [
           "rgb(210,242,212)",
           "rgb(130,210,130)",
           "rgb(73,170,0)",
           "rgb(42,126,0)",
           "rgb(0, 80, 26)"
          ]
         },
         "sort": false,
         "type": "pie",
         "values": [
          304,
          281,
          255,
          552,
          28
         ]
        }
       ],
       "layout": {
        "showlegend": true,
        "template": {
         "data": {
          "bar": [
           {
            "error_x": {
             "color": "#2a3f5f"
            },
            "error_y": {
             "color": "#2a3f5f"
            },
            "marker": {
             "line": {
              "color": "#E5ECF6",
              "width": 0.5
             },
             "pattern": {
              "fillmode": "overlay",
              "size": 10,
              "solidity": 0.2
             }
            },
            "type": "bar"
           }
          ],
          "barpolar": [
           {
            "marker": {
             "line": {
              "color": "#E5ECF6",
              "width": 0.5
             },
             "pattern": {
              "fillmode": "overlay",
              "size": 10,
              "solidity": 0.2
             }
            },
            "type": "barpolar"
           }
          ],
          "carpet": [
           {
            "aaxis": {
             "endlinecolor": "#2a3f5f",
             "gridcolor": "white",
             "linecolor": "white",
             "minorgridcolor": "white",
             "startlinecolor": "#2a3f5f"
            },
            "baxis": {
             "endlinecolor": "#2a3f5f",
             "gridcolor": "white",
             "linecolor": "white",
             "minorgridcolor": "white",
             "startlinecolor": "#2a3f5f"
            },
            "type": "carpet"
           }
          ],
          "choropleth": [
           {
            "colorbar": {
             "outlinewidth": 0,
             "ticks": ""
            },
            "type": "choropleth"
           }
          ],
          "contour": [
           {
            "colorbar": {
             "outlinewidth": 0,
             "ticks": ""
            },
            "colorscale": [
             [
              0,
              "#0d0887"
             ],
             [
              0.1111111111111111,
              "#46039f"
             ],
             [
              0.2222222222222222,
              "#7201a8"
             ],
             [
              0.3333333333333333,
              "#9c179e"
             ],
             [
              0.4444444444444444,
              "#bd3786"
             ],
             [
              0.5555555555555556,
              "#d8576b"
             ],
             [
              0.6666666666666666,
              "#ed7953"
             ],
             [
              0.7777777777777778,
              "#fb9f3a"
             ],
             [
              0.8888888888888888,
              "#fdca26"
             ],
             [
              1,
              "#f0f921"
             ]
            ],
            "type": "contour"
           }
          ],
          "contourcarpet": [
           {
            "colorbar": {
             "outlinewidth": 0,
             "ticks": ""
            },
            "type": "contourcarpet"
           }
          ],
          "heatmap": [
           {
            "colorbar": {
             "outlinewidth": 0,
             "ticks": ""
            },
            "colorscale": [
             [
              0,
              "#0d0887"
             ],
             [
              0.1111111111111111,
              "#46039f"
             ],
             [
              0.2222222222222222,
              "#7201a8"
             ],
             [
              0.3333333333333333,
              "#9c179e"
             ],
             [
              0.4444444444444444,
              "#bd3786"
             ],
             [
              0.5555555555555556,
              "#d8576b"
             ],
             [
              0.6666666666666666,
              "#ed7953"
             ],
             [
              0.7777777777777778,
              "#fb9f3a"
             ],
             [
              0.8888888888888888,
              "#fdca26"
             ],
             [
              1,
              "#f0f921"
             ]
            ],
            "type": "heatmap"
           }
          ],
          "heatmapgl": [
           {
            "colorbar": {
             "outlinewidth": 0,
             "ticks": ""
            },
            "colorscale": [
             [
              0,
              "#0d0887"
             ],
             [
              0.1111111111111111,
              "#46039f"
             ],
             [
              0.2222222222222222,
              "#7201a8"
             ],
             [
              0.3333333333333333,
              "#9c179e"
             ],
             [
              0.4444444444444444,
              "#bd3786"
             ],
             [
              0.5555555555555556,
              "#d8576b"
             ],
             [
              0.6666666666666666,
              "#ed7953"
             ],
             [
              0.7777777777777778,
              "#fb9f3a"
             ],
             [
              0.8888888888888888,
              "#fdca26"
             ],
             [
              1,
              "#f0f921"
             ]
            ],
            "type": "heatmapgl"
           }
          ],
          "histogram": [
           {
            "marker": {
             "pattern": {
              "fillmode": "overlay",
              "size": 10,
              "solidity": 0.2
             }
            },
            "type": "histogram"
           }
          ],
          "histogram2d": [
           {
            "colorbar": {
             "outlinewidth": 0,
             "ticks": ""
            },
            "colorscale": [
             [
              0,
              "#0d0887"
             ],
             [
              0.1111111111111111,
              "#46039f"
             ],
             [
              0.2222222222222222,
              "#7201a8"
             ],
             [
              0.3333333333333333,
              "#9c179e"
             ],
             [
              0.4444444444444444,
              "#bd3786"
             ],
             [
              0.5555555555555556,
              "#d8576b"
             ],
             [
              0.6666666666666666,
              "#ed7953"
             ],
             [
              0.7777777777777778,
              "#fb9f3a"
             ],
             [
              0.8888888888888888,
              "#fdca26"
             ],
             [
              1,
              "#f0f921"
             ]
            ],
            "type": "histogram2d"
           }
          ],
          "histogram2dcontour": [
           {
            "colorbar": {
             "outlinewidth": 0,
             "ticks": ""
            },
            "colorscale": [
             [
              0,
              "#0d0887"
             ],
             [
              0.1111111111111111,
              "#46039f"
             ],
             [
              0.2222222222222222,
              "#7201a8"
             ],
             [
              0.3333333333333333,
              "#9c179e"
             ],
             [
              0.4444444444444444,
              "#bd3786"
             ],
             [
              0.5555555555555556,
              "#d8576b"
             ],
             [
              0.6666666666666666,
              "#ed7953"
             ],
             [
              0.7777777777777778,
              "#fb9f3a"
             ],
             [
              0.8888888888888888,
              "#fdca26"
             ],
             [
              1,
              "#f0f921"
             ]
            ],
            "type": "histogram2dcontour"
           }
          ],
          "mesh3d": [
           {
            "colorbar": {
             "outlinewidth": 0,
             "ticks": ""
            },
            "type": "mesh3d"
           }
          ],
          "parcoords": [
           {
            "line": {
             "colorbar": {
              "outlinewidth": 0,
              "ticks": ""
             }
            },
            "type": "parcoords"
           }
          ],
          "pie": [
           {
            "automargin": true,
            "type": "pie"
           }
          ],
          "scatter": [
           {
            "fillpattern": {
             "fillmode": "overlay",
             "size": 10,
             "solidity": 0.2
            },
            "type": "scatter"
           }
          ],
          "scatter3d": [
           {
            "line": {
             "colorbar": {
              "outlinewidth": 0,
              "ticks": ""
             }
            },
            "marker": {
             "colorbar": {
              "outlinewidth": 0,
              "ticks": ""
             }
            },
            "type": "scatter3d"
           }
          ],
          "scattercarpet": [
           {
            "marker": {
             "colorbar": {
              "outlinewidth": 0,
              "ticks": ""
             }
            },
            "type": "scattercarpet"
           }
          ],
          "scattergeo": [
           {
            "marker": {
             "colorbar": {
              "outlinewidth": 0,
              "ticks": ""
             }
            },
            "type": "scattergeo"
           }
          ],
          "scattergl": [
           {
            "marker": {
             "colorbar": {
              "outlinewidth": 0,
              "ticks": ""
             }
            },
            "type": "scattergl"
           }
          ],
          "scattermapbox": [
           {
            "marker": {
             "colorbar": {
              "outlinewidth": 0,
              "ticks": ""
             }
            },
            "type": "scattermapbox"
           }
          ],
          "scatterpolar": [
           {
            "marker": {
             "colorbar": {
              "outlinewidth": 0,
              "ticks": ""
             }
            },
            "type": "scatterpolar"
           }
          ],
          "scatterpolargl": [
           {
            "marker": {
             "colorbar": {
              "outlinewidth": 0,
              "ticks": ""
             }
            },
            "type": "scatterpolargl"
           }
          ],
          "scatterternary": [
           {
            "marker": {
             "colorbar": {
              "outlinewidth": 0,
              "ticks": ""
             }
            },
            "type": "scatterternary"
           }
          ],
          "surface": [
           {
            "colorbar": {
             "outlinewidth": 0,
             "ticks": ""
            },
            "colorscale": [
             [
              0,
              "#0d0887"
             ],
             [
              0.1111111111111111,
              "#46039f"
             ],
             [
              0.2222222222222222,
              "#7201a8"
             ],
             [
              0.3333333333333333,
              "#9c179e"
             ],
             [
              0.4444444444444444,
              "#bd3786"
             ],
             [
              0.5555555555555556,
              "#d8576b"
             ],
             [
              0.6666666666666666,
              "#ed7953"
             ],
             [
              0.7777777777777778,
              "#fb9f3a"
             ],
             [
              0.8888888888888888,
              "#fdca26"
             ],
             [
              1,
              "#f0f921"
             ]
            ],
            "type": "surface"
           }
          ],
          "table": [
           {
            "cells": {
             "fill": {
              "color": "#EBF0F8"
             },
             "line": {
              "color": "white"
             }
            },
            "header": {
             "fill": {
              "color": "#C8D4E3"
             },
             "line": {
              "color": "white"
             }
            },
            "type": "table"
           }
          ]
         },
         "layout": {
          "annotationdefaults": {
           "arrowcolor": "#2a3f5f",
           "arrowhead": 0,
           "arrowwidth": 1
          },
          "autotypenumbers": "strict",
          "coloraxis": {
           "colorbar": {
            "outlinewidth": 0,
            "ticks": ""
           }
          },
          "colorscale": {
           "diverging": [
            [
             0,
             "#8e0152"
            ],
            [
             0.1,
             "#c51b7d"
            ],
            [
             0.2,
             "#de77ae"
            ],
            [
             0.3,
             "#f1b6da"
            ],
            [
             0.4,
             "#fde0ef"
            ],
            [
             0.5,
             "#f7f7f7"
            ],
            [
             0.6,
             "#e6f5d0"
            ],
            [
             0.7,
             "#b8e186"
            ],
            [
             0.8,
             "#7fbc41"
            ],
            [
             0.9,
             "#4d9221"
            ],
            [
             1,
             "#276419"
            ]
           ],
           "sequential": [
            [
             0,
             "#0d0887"
            ],
            [
             0.1111111111111111,
             "#46039f"
            ],
            [
             0.2222222222222222,
             "#7201a8"
            ],
            [
             0.3333333333333333,
             "#9c179e"
            ],
            [
             0.4444444444444444,
             "#bd3786"
            ],
            [
             0.5555555555555556,
             "#d8576b"
            ],
            [
             0.6666666666666666,
             "#ed7953"
            ],
            [
             0.7777777777777778,
             "#fb9f3a"
            ],
            [
             0.8888888888888888,
             "#fdca26"
            ],
            [
             1,
             "#f0f921"
            ]
           ],
           "sequentialminus": [
            [
             0,
             "#0d0887"
            ],
            [
             0.1111111111111111,
             "#46039f"
            ],
            [
             0.2222222222222222,
             "#7201a8"
            ],
            [
             0.3333333333333333,
             "#9c179e"
            ],
            [
             0.4444444444444444,
             "#bd3786"
            ],
            [
             0.5555555555555556,
             "#d8576b"
            ],
            [
             0.6666666666666666,
             "#ed7953"
            ],
            [
             0.7777777777777778,
             "#fb9f3a"
            ],
            [
             0.8888888888888888,
             "#fdca26"
            ],
            [
             1,
             "#f0f921"
            ]
           ]
          },
          "colorway": [
           "#636efa",
           "#EF553B",
           "#00cc96",
           "#ab63fa",
           "#FFA15A",
           "#19d3f3",
           "#FF6692",
           "#B6E880",
           "#FF97FF",
           "#FECB52"
          ],
          "font": {
           "color": "#2a3f5f"
          },
          "geo": {
           "bgcolor": "white",
           "lakecolor": "white",
           "landcolor": "#E5ECF6",
           "showlakes": true,
           "showland": true,
           "subunitcolor": "white"
          },
          "hoverlabel": {
           "align": "left"
          },
          "hovermode": "closest",
          "mapbox": {
           "style": "light"
          },
          "paper_bgcolor": "white",
          "plot_bgcolor": "#E5ECF6",
          "polar": {
           "angularaxis": {
            "gridcolor": "white",
            "linecolor": "white",
            "ticks": ""
           },
           "bgcolor": "#E5ECF6",
           "radialaxis": {
            "gridcolor": "white",
            "linecolor": "white",
            "ticks": ""
           }
          },
          "scene": {
           "xaxis": {
            "backgroundcolor": "#E5ECF6",
            "gridcolor": "white",
            "gridwidth": 2,
            "linecolor": "white",
            "showbackground": true,
            "ticks": "",
            "zerolinecolor": "white"
           },
           "yaxis": {
            "backgroundcolor": "#E5ECF6",
            "gridcolor": "white",
            "gridwidth": 2,
            "linecolor": "white",
            "showbackground": true,
            "ticks": "",
            "zerolinecolor": "white"
           },
           "zaxis": {
            "backgroundcolor": "#E5ECF6",
            "gridcolor": "white",
            "gridwidth": 2,
            "linecolor": "white",
            "showbackground": true,
            "ticks": "",
            "zerolinecolor": "white"
           }
          },
          "shapedefaults": {
           "line": {
            "color": "#2a3f5f"
           }
          },
          "ternary": {
           "aaxis": {
            "gridcolor": "white",
            "linecolor": "white",
            "ticks": ""
           },
           "baxis": {
            "gridcolor": "white",
            "linecolor": "white",
            "ticks": ""
           },
           "bgcolor": "#E5ECF6",
           "caxis": {
            "gridcolor": "white",
            "linecolor": "white",
            "ticks": ""
           }
          },
          "title": {
           "x": 0.05
          },
          "xaxis": {
           "automargin": true,
           "gridcolor": "white",
           "linecolor": "white",
           "ticks": "",
           "title": {
            "standoff": 15
           },
           "zerolinecolor": "white",
           "zerolinewidth": 2
          },
          "yaxis": {
           "automargin": true,
           "gridcolor": "white",
           "linecolor": "white",
           "ticks": "",
           "title": {
            "standoff": 15
           },
           "zerolinecolor": "white",
           "zerolinewidth": 2
          }
         }
        },
        "title": {
         "text": "Pizza Sizes Distribution for \"The Greek\""
        }
       }
      }
     },
     "metadata": {},
     "output_type": "display_data"
    }
   ],
   "source": [
    "\n",
    "greek_df = df[df['pizza_flavor'] == 'the_greek']\n",
    "greek_group = greek_df.groupby('size')['quantity'].sum().reset_index()\n",
    "size_order = ['S', 'M', 'L', 'XL', 'XXL']\n",
    "greek_group['size'] = greek_group['size'].astype('category')\n",
    "greek_group['size'] = greek_group['size'].cat.set_categories(size_order)\n",
    "greek_group.sort_values(\"size\", inplace=True)\n",
    "pie_color_pallete = ['rgb(210,242,212)', 'rgb(130,210,130)','rgb(73,170,0)','rgb(42,126,0)','rgb(0, 80, 26)']\n",
    "\n",
    "greek_chart_fig = go.Figure(data=go.Pie(labels=greek_group['size'], values=greek_group['quantity'],marker=dict(colors=pie_color_pallete), sort= False, hole=0.9))\n",
    "\n",
    "greek_chart_fig.update_layout(title='Pizza Sizes Distribution for \"The Greek\"',\n",
    "                                showlegend=True)\n",
    "\n",
    "\n",
    "greek_chart_fig"
   ]
  },
  {
   "cell_type": "markdown",
   "metadata": {},
   "source": [
    "## Other stuff"
   ]
  },
  {
   "cell_type": "code",
   "execution_count": null,
   "metadata": {},
   "outputs": [
    {
     "ename": "NameError",
     "evalue": "name 'app' is not defined",
     "output_type": "error",
     "traceback": [
      "\u001b[0;31m---------------------------------------------------------------------------\u001b[0m",
      "\u001b[0;31mNameError\u001b[0m                                 Traceback (most recent call last)",
      "\u001b[1;32m/Users/jcarlito/Documents/GitHub/DA-Business-Analytics-2023/Data_analysis_server.ipynb Cell 22\u001b[0m line \u001b[0;36m2\n\u001b[1;32m      <a href='vscode-notebook-cell:/Users/jcarlito/Documents/GitHub/DA-Business-Analytics-2023/Data_analysis_server.ipynb#X64sZmlsZQ%3D%3D?line=0'>1</a>\u001b[0m \u001b[39mif\u001b[39;00m \u001b[39m__name__\u001b[39m \u001b[39m==\u001b[39m \u001b[39m'\u001b[39m\u001b[39m__main__\u001b[39m\u001b[39m'\u001b[39m:\n\u001b[0;32m----> <a href='vscode-notebook-cell:/Users/jcarlito/Documents/GitHub/DA-Business-Analytics-2023/Data_analysis_server.ipynb#X64sZmlsZQ%3D%3D?line=1'>2</a>\u001b[0m     app\u001b[39m.\u001b[39mrun_server()\n",
      "\u001b[0;31mNameError\u001b[0m: name 'app' is not defined"
     ]
    }
   ],
   "source": [
    "if __name__ == '__main__':\n",
    "    app.run_server()"
   ]
  },
  {
   "cell_type": "code",
   "execution_count": null,
   "metadata": {},
   "outputs": [],
   "source": []
  }
 ],
 "metadata": {
  "kernelspec": {
   "display_name": "Python 3 (ipykernel)",
   "language": "python",
   "name": "python3"
  },
  "language_info": {
   "codemirror_mode": {
    "name": "ipython",
    "version": 3
   },
   "file_extension": ".py",
   "mimetype": "text/x-python",
   "name": "python",
   "nbconvert_exporter": "python",
   "pygments_lexer": "ipython3",
   "version": "3.12.0"
  }
 },
 "nbformat": 4,
 "nbformat_minor": 5
}
