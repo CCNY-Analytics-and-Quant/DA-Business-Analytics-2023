{
 "cells": [
  {
   "cell_type": "markdown",
   "id": "8a2dbe4d",
   "metadata": {},
   "source": [
    "# WEBSITE LINK : https://jeansfirstapp0806-c00b1f941514.herokuapp.com/"
   ]
  },
  {
   "cell_type": "markdown",
   "id": "ef91d3e3",
   "metadata": {},
   "source": [
    "# Importing libraries"
   ]
  },
  {
   "cell_type": "code",
   "execution_count": null,
   "id": "18d15220",
   "metadata": {},
   "outputs": [],
   "source": [
    "import pathlib\n",
    "import pandas as pd\n",
    "import dash\n",
    "import calendar\n",
    "from dash.dependencies import Input, Output\n",
    "import dash_bootstrap_components as dbc\n",
    "import plotly.express as px\n",
    "import plotly.subplots as sp\n",
    "import plotly.graph_objects as go\n",
    "from dash import Dash, html, dcc\n",
    "import requests\n",
    "from io import StringIO\n"
   ]
  },
  {
   "cell_type": "markdown",
   "id": "323cdac5",
   "metadata": {},
   "source": [
    "# Creating file paths; reading data with pandas"
   ]
  },
  {
   "cell_type": "code",
   "execution_count": null,
   "id": "1c07aedc",
   "metadata": {},
   "outputs": [],
   "source": [
    "\n",
    "PATH = pathlib.Path(__file__).parent\n",
    "DATA_PATH = PATH.joinpath(\"data\").resolve()\n",
    "\n",
    "# Pizza tables from SQL, Rain from Excel\n",
    "df = pd.read_csv(DATA_PATH.joinpath('pizzatables1.csv'))\n",
    "rain = pd.read_csv(DATA_PATH.joinpath('RAIN_FALL_2015_-_Sheet1.csv'))"
   ]
  },
  {
   "cell_type": "markdown",
   "id": "d60b37b0",
   "metadata": {},
   "source": [
    "# Using Dash to create web layout"
   ]
  },
  {
   "cell_type": "code",
   "execution_count": null,
   "id": "be7fde7d",
   "metadata": {},
   "outputs": [],
   "source": [
    "# Define the desired order of the days\n",
    "day_order = ['Sunday', 'Monday', 'Tuesday', 'Wednesday', 'Thursday', 'Friday', 'Saturday']"
   ]
  },
  {
   "cell_type": "code",
   "execution_count": null,
   "id": "fcfba8f3",
   "metadata": {},
   "outputs": [],
   "source": [
    "# Define the app layout\n",
    "app = Dash(__name__)\n",
    "server= app.server\n",
    "app.layout = html.Div([\n",
    "    html.H1(\"Mamma Mia Pizza Data\"),\n",
    "    dcc.Tabs(id=\"tabs\", value='tab-1', children=[\n",
    "        dcc.Tab(label='Peak hours.', value='tab-1'),\n",
    "        dcc.Tab(label='How rain affects orders.', value='tab-2'),\n",
    "        dcc.Tab(label='What pizza types sell most.', value='tab-3'),\n",
    "        dcc.Tab(label='How much ingredients are being used.', value='tab-4'),\n",
    "        dcc.Tab(label='Analyzing size issues.', value='tab-5')\n",
    "    ]),\n",
    "    html.Div(id='content')\n",
    "])\n",
    "\n",
    "\n",
    "# Define the callback to update the content based on the selected tab\n",
    "@app.callback(\n",
    "    Output('content', 'children'),\n",
    "    Input('tabs', 'value')\n",
    ")"
   ]
  },
  {
   "cell_type": "markdown",
   "id": "838e082c",
   "metadata": {},
   "source": [
    "# Each tab displays correct graph on web"
   ]
  },
  {
   "cell_type": "code",
   "execution_count": null,
   "id": "66bd9e40",
   "metadata": {},
   "outputs": [],
   "source": [
    "def render_content(tab):\n",
    "    if tab == 'tab-1':\n",
    "        return html.Div([\n",
    "            html.H2('Order amounts by hour'),\n",
    "            dcc.Dropdown(\n",
    "                id='day-dropdown',\n",
    "                options=[{'label': day, 'value': day} for day in day_order],\n",
    "                value='Sunday',\n",
    "                style={'margin-bottom': '10px'}  # Add margin at the bottom of the dropdown\n",
    "            ),\n",
    "            html.Div([\n",
    "                dcc.Graph(\n",
    "                    id='heatmap-graph',\n",
    "                    figure=update_heatmap('Sunday'),  # Default day is Sunday\n",
    "                    style={'margin-bottom': '120px'}  # Add margin at the bottom of the heatmap\n",
    "                ),\n",
    "                html.Hr(style={'border-top': '6px solid rgba(0, 0, 0, 0.5)', 'margin': '10px 0'})  # Add black line with margin\n",
    "            ], style={'margin-bottom': '120px'}),  # Add margin between line and treemap\n",
    "            html.H2('Best days and hours'),\n",
    "            dcc.Graph(\n",
    "                id='treemap-graph',\n",
    "                figure=update_treemap(),\n",
    "                style={'margin-bottom': '250px'}  # Add margin at the bottom of the treemap\n",
    "            )\n",
    "        ])\n",
    "    elif tab == 'tab-2':\n",
    "        return html.Div([\n",
    "            html.H2('Rainfall and Orders'),\n",
    "            dcc.Graph(\n",
    "                id='subplot-graph',\n",
    "                figure=update_subplot_graph()\n",
    "            )\n",
    "        ])\n",
    "    elif tab == 'tab-3':\n",
    "        return html.Div([\n",
    "            html.H2('Pizza Types'),\n",
    "            dcc.Graph(\n",
    "                id='histogram',\n",
    "                figure=update_histogram()\n",
    "            )\n",
    "        ])\n",
    "    elif tab == 'tab-4':\n",
    "        return html.Div([\n",
    "            html.H2('Ingredients'),\n",
    "            dcc.Graph(\n",
    "                id='ingredient-histogram',\n",
    "                figure=update_ingredient_histogram()\n",
    "            )\n",
    "        ])\n",
    "    elif tab == 'tab-5':\n",
    "        return html.Div([\n",
    "            html.H2('Pizza Sizes'),\n",
    "            dcc.Graph(\n",
    "                id='pie-chart',\n",
    "                figure=update_pie_chart()\n",
    "            ),\n",
    "            dcc.Graph(\n",
    "                id='bar-chart',\n",
    "                figure=update_bar_chart()\n",
    "            )\n",
    "        ])"
   ]
  },
  {
   "cell_type": "markdown",
   "id": "08430b55",
   "metadata": {},
   "source": [
    "# Connect dash components with figures and return visual"
   ]
  },
  {
   "cell_type": "markdown",
   "id": "eab8b169",
   "metadata": {},
   "source": [
    "# Heatmap"
   ]
  },
  {
   "cell_type": "code",
   "execution_count": null,
   "id": "f5c274a4",
   "metadata": {},
   "outputs": [],
   "source": [
    "\n",
    "@app.callback(\n",
    "    Output('heatmap-graph', 'figure'),\n",
    "    Input('day-dropdown', 'value')\n",
    ")\n",
    "def update_heatmap(day):\n",
    "    filtered_df = df[df['day'] == day]\n",
    "    pizza_type_counts = filtered_df['pizza_type_id'].value_counts()\n",
    "    popular_pizza_types = pizza_type_counts.nlargest(15).index.tolist()\n",
    "    filtered_df = filtered_df[filtered_df['pizza_type_id'].isin(popular_pizza_types)]\n",
    "    filtered_df['hour'] = pd.to_numeric(filtered_df['hour'])  # Convert hour column to numeric\n",
    "    filtered_df = filtered_df.sort_values('hour')  # Sort DataFrame by hour column\n",
    "    heatmap_fig = px.density_heatmap(filtered_df, x='hour', y='pizza_type_id', z='quantity', color_continuous_scale='RdYlGn')\n",
    "    heatmap_fig.update_layout(xaxis={'type': 'category'})  \n",
    "\n",
    "    return heatmap_fig"
   ]
  },
  {
   "cell_type": "markdown",
   "id": "389fedf5",
   "metadata": {},
   "source": [
    "# Treemap"
   ]
  },
  {
   "cell_type": "code",
   "execution_count": null,
   "id": "130686bc",
   "metadata": {},
   "outputs": [],
   "source": [
    "def update_treemap():\n",
    "    grouped_df = df.groupby(['day', 'hour']).sum(numeric_only=True).reset_index()\n",
    "    grouped_df['day'] = pd.Categorical(grouped_df['day'])\n",
    "    grouped_df = grouped_df.sort_values(['day', 'hour'])\n",
    "    \n",
    "    treemap_fig = px.treemap(grouped_df, path=['day', 'hour'], values='quantity',color= 'quantity', color_continuous_scale='RdYlGn')\n",
    "    treemap_fig.update_traces(\n",
    "        selector=dict(type='treemap')\n",
    "    )\n",
    "    treemap_fig.update_layout(\n",
    "        margin=dict(l=10, r=10, t=40, b=10),\n",
    "        coloraxis_showscale=False\n",
    "    )\n",
    "    \n",
    "    return treemap_fig"
   ]
  },
  {
   "cell_type": "markdown",
   "id": "fd82e93c",
   "metadata": {},
   "source": [
    "# Rainfall"
   ]
  },
  {
   "cell_type": "code",
   "execution_count": null,
   "id": "3e7b4300",
   "metadata": {},
   "outputs": [],
   "source": [
    "def update_subplot_graph():\n",
    "    results = df.groupby('month').sum()\n",
    "    months = list(range(1, 13))\n",
    "    days_in_month = [calendar.monthrange(2023, month)[1] for month in months]\n",
    "    adjusted_quantity = results['quantity'] / days_in_month * 30\n",
    "    rainfall = rain.groupby('month').sum()\n",
    "\n",
    "    # Create the subplot fig\n",
    "    fig = sp.make_subplots(specs=[[{\"secondary_y\": True}]])\n",
    "    fig.add_trace(go.Scatter(x=months, y=adjusted_quantity, name='Orders', line=dict(color='green')), secondary_y=False)\n",
    "    fig.add_trace(go.Scatter(x=months, y=rainfall['rainfall'], name='Rainfall', line=dict(color='blue')), secondary_y=True)\n",
    "    fig.update_layout(\n",
    "        xaxis=dict(title='Month', dtick=1),\n",
    "        yaxis=dict(\n",
    "            title='Orders',\n",
    "            titlefont=dict(color='black'),\n",
    "            tickfont=dict(color='green')\n",
    "        ),\n",
    "        yaxis2=dict(\n",
    "            title='Rainfall in inches',\n",
    "            titlefont=dict(color='black'),\n",
    "            tickfont=dict(color='blue'),\n",
    "            anchor='x',\n",
    "            overlaying='y',\n",
    "            side='right'\n",
    "        ),\n",
    "        legend=dict(x=0, y=1.2, orientation='h')\n",
    "    )\n",
    "\n",
    "    return fig"
   ]
  },
  {
   "cell_type": "markdown",
   "id": "4fed64b7",
   "metadata": {},
   "source": [
    "# Pizza Types Histogram"
   ]
  },
  {
   "cell_type": "code",
   "execution_count": null,
   "id": "93d180c2",
   "metadata": {},
   "outputs": [],
   "source": [
    "def update_histogram():\n",
    "    sorted_df = df.sort_values('quantity', ascending=False)\n",
    "    histogram_fig = px.histogram(sorted_df, x='pizza_type_id', y='quantity', color='category', barmode='group')\n",
    "    \n",
    "    return histogram_fig"
   ]
  },
  {
   "cell_type": "markdown",
   "id": "0ea39267",
   "metadata": {},
   "source": [
    "# Ingredients"
   ]
  },
  {
   "cell_type": "code",
   "execution_count": null,
   "id": "c85b1fed",
   "metadata": {},
   "outputs": [],
   "source": [
    "# Needed to split ingredients by , and remove white space to make each ingredient be seperate.\n",
    "# Use to evaluate inventory management\n",
    "def update_ingredient_histogram():\n",
    "    ingredient_df = df.copy()\n",
    "    ingredient_df['individual_ingredients'] = ingredient_df['ingredients'].str.split(',')\n",
    "    ingredient_df['individual_ingredients'] = ingredient_df['individual_ingredients'].apply(lambda x: [ingredient.strip() for ingredient in x])\n",
    "    ingredient_df = ingredient_df.explode('individual_ingredients')\n",
    "    ingredient_sums = ingredient_df.groupby(['pizza_type_id', 'individual_ingredients'])['quantity'].sum().reset_index()\n",
    "    ingredient_sums = ingredient_sums.sort_values(by='quantity', ascending=False)\n",
    "\n",
    "    unique_ingredients = ingredient_sums.groupby('individual_ingredients')['pizza_type_id'].nunique().reset_index()\n",
    "    unique_ingredients = unique_ingredients[unique_ingredients['pizza_type_id'] == 1]\n",
    "\n",
    "    ingredient_sums['unique_ingredient'] = ingredient_sums['individual_ingredients'].isin(unique_ingredients['individual_ingredients'])\n",
    "\n",
    "    ingredient_sums_unique = ingredient_sums[~ingredient_sums['unique_ingredient']]\n",
    "    ingredient_sums_unique = ingredient_sums_unique.sort_values(by='quantity', ascending=False)\n",
    "\n",
    "    histogram_ingredient_fig = px.bar(\n",
    "        ingredient_sums,\n",
    "        x='individual_ingredients',\n",
    "        y='quantity',\n",
    "        color='unique_ingredient',\n",
    "        labels={'individual_ingredients': 'Ingredient', 'quantity': 'Summed Quantity'},\n",
    "    )\n",
    "\n",
    "    histogram_ingredient_fig.update_traces(marker=dict(line=dict(color='white', width=0.5)))\n",
    "\n",
    "    histogram_ingredient_fig.update_layout(coloraxis=dict(colorscale=[[0, '#999999'], [1, '#FF0000']]))\n",
    "\n",
    "    histogram_ingredient_fig.update_xaxes(categoryorder='array', categoryarray=ingredient_sums_unique['individual_ingredients'])\n",
    "\n",
    "    histogram_ingredient_fig.update_layout(height=500)\n",
    "\n",
    "    return histogram_ingredient_fig"
   ]
  },
  {
   "cell_type": "markdown",
   "id": "27883384",
   "metadata": {},
   "source": [
    "# The Greek pie chart"
   ]
  },
  {
   "cell_type": "code",
   "execution_count": null,
   "id": "04d90216",
   "metadata": {},
   "outputs": [],
   "source": [
    "# I have the pie chart to evaluate if XL and XXL are viable options\n",
    "def update_pie_chart():\n",
    "    filtered_df = df[df['pizza_type_id'] == 'the_greek']\n",
    "    size_quantity = filtered_df.groupby('size')['quantity'].sum().reset_index()\n",
    "\n",
    "    pie_chart_fig = go.Figure(data=go.Pie(labels=size_quantity['size'], values=size_quantity['quantity']))\n",
    "\n",
    "    pie_chart_fig.update_layout(title='Pizza Sizes Distribution for \"The Greek\"',\n",
    "                                showlegend=True)\n",
    "\n",
    "    return pie_chart_fig"
   ]
  },
  {
   "cell_type": "markdown",
   "id": "bd93b99c",
   "metadata": {},
   "source": [
    "# Sizes Bar chart"
   ]
  },
  {
   "cell_type": "code",
   "execution_count": null,
   "id": "e039d197",
   "metadata": {},
   "outputs": [],
   "source": [
    "# I've removed the greek, brie carre, big meats, and five cheese because they would represent outlier\n",
    "# Because of their size options\n",
    "def update_bar_chart():\n",
    "    filtered_df_pie = df[df['pizza_type_id'] == 'the_greek']\n",
    "    filtered_df_bar = df.copy()\n",
    "\n",
    "    excluded_sizes = ['XL', 'XXL']\n",
    "    filtered_df_bar = filtered_df_bar[~filtered_df_bar['size'].isin(excluded_sizes)]\n",
    "\n",
    "    excluded_pizza_types = ['big_meat', 'brie_carre', 'five_cheese']\n",
    "    filtered_df_bar = filtered_df_bar[~filtered_df_bar['pizza_type_id'].isin(excluded_pizza_types)]\n",
    "\n",
    "    size_quantity_bar = filtered_df_bar.groupby('size')['quantity'].sum().reset_index().sort_values('quantity')\n",
    "\n",
    "    bar_chart_fig = go.Figure(data=go.Bar(x=size_quantity_bar['size'], y=size_quantity_bar['quantity']))\n",
    "\n",
    "    bar_chart_fig.update_layout(title='Summed Quantity for Each Pizza Size (Excluding XL, XXL, and Specific Types)',\n",
    "                                xaxis_title='Size',\n",
    "                                yaxis_title='Summed Quantity')\n",
    "\n",
    "    return bar_chart_fig\n",
    "\n",
    "\n"
   ]
  },
  {
   "cell_type": "markdown",
   "id": "ce8a7428",
   "metadata": {},
   "source": [
    "# Run"
   ]
  },
  {
   "cell_type": "code",
   "execution_count": null,
   "id": "2deecc56",
   "metadata": {},
   "outputs": [],
   "source": [
    "\n",
    "if __name__ == '__main__':\n",
    "    app.run_server()"
   ]
  },
  {
   "cell_type": "code",
   "execution_count": null,
   "id": "a5356925",
   "metadata": {},
   "outputs": [],
   "source": []
  }
 ],
 "metadata": {
  "kernelspec": {
   "display_name": "Python 3 (ipykernel)",
   "language": "python",
   "name": "python3"
  },
  "language_info": {
   "codemirror_mode": {
    "name": "ipython",
    "version": 3
   },
   "file_extension": ".py",
   "mimetype": "text/x-python",
   "name": "python",
   "nbconvert_exporter": "python",
   "pygments_lexer": "ipython3",
   "version": "3.10.9"
  }
 },
 "nbformat": 4,
 "nbformat_minor": 5
}
