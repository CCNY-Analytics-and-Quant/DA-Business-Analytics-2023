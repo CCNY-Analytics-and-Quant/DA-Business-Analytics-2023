{
 "cells": [
  {
   "cell_type": "code",
   "execution_count": 1,
   "metadata": {},
   "outputs": [
    {
     "name": "stdout",
     "output_type": "stream",
     "text": [
      "46\n",
      "2070288.25\n"
     ]
    }
   ],
   "source": [
    "my_savings = 5000\n",
    "my_age = 21\n",
    "interest = 0.1\n",
    "annual_investment = 20500\n",
    "\n",
    "while my_savings < 2000000:\n",
    "    my_savings = my_savings + (my_savings * interest) + annual_investment\n",
    "    my_age = my_age + 1 \n",
    "\n",
    "print(my_age)\n",
    "print(round(my_savings,2))"
   ]
  },
  {
   "cell_type": "code",
   "execution_count": 2,
   "metadata": {},
   "outputs": [
    {
     "name": "stdout",
     "output_type": "stream",
     "text": [
      "67\n",
      "16632701.73\n"
     ]
    }
   ],
   "source": [
    "my_savings = 5000\n",
    "my_age = 21\n",
    "interest = 0.1\n",
    "annual_investment = 20500\n",
    "\n",
    "while my_age < 67:\n",
    "    my_savings = my_savings + (my_savings * interest) + annual_investment\n",
    "    my_age = my_age + 1\n",
    "\n",
    "print(my_age)\n",
    "print(round(my_savings,2))\n"
   ]
  }
 ],
 "metadata": {
  "kernelspec": {
   "display_name": "Python 3",
   "language": "python",
   "name": "python3"
  },
  "language_info": {
   "codemirror_mode": {
    "name": "ipython",
    "version": 3
   },
   "file_extension": ".py",
   "mimetype": "text/x-python",
   "name": "python",
   "nbconvert_exporter": "python",
   "pygments_lexer": "ipython3",
   "version": "3.9.6"
  },
  "orig_nbformat": 4
 },
 "nbformat": 4,
 "nbformat_minor": 2
}
