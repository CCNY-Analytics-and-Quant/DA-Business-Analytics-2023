{
 "cells": [
  {
   "cell_type": "code",
   "execution_count": 78,
   "id": "49cb4beb-5cd6-489b-91da-0b03712bcead",
   "metadata": {},
   "outputs": [],
   "source": [
    "# merging sql data with pandas"
   ]
  },
  {
   "cell_type": "code",
   "execution_count": 141,
   "id": "54feb6c1-94c4-4c82-b843-09e7f64676ed",
   "metadata": {
    "tags": []
   },
   "outputs": [
    {
     "data": {
      "text/html": [
       "<div>\n",
       "<style scoped>\n",
       "    .dataframe tbody tr th:only-of-type {\n",
       "        vertical-align: middle;\n",
       "    }\n",
       "\n",
       "    .dataframe tbody tr th {\n",
       "        vertical-align: top;\n",
       "    }\n",
       "\n",
       "    .dataframe thead th {\n",
       "        text-align: right;\n",
       "    }\n",
       "</style>\n",
       "<table border=\"1\" class=\"dataframe\">\n",
       "  <thead>\n",
       "    <tr style=\"text-align: right;\">\n",
       "      <th></th>\n",
       "      <th>pizza_id</th>\n",
       "      <th>quantity</th>\n",
       "      <th>date</th>\n",
       "      <th>time</th>\n",
       "      <th>size</th>\n",
       "      <th>price</th>\n",
       "      <th>category</th>\n",
       "    </tr>\n",
       "  </thead>\n",
       "  <tbody>\n",
       "    <tr>\n",
       "      <th>0</th>\n",
       "      <td>hawaiian_m</td>\n",
       "      <td>1</td>\n",
       "      <td>2015-01-03</td>\n",
       "      <td>14:22:10</td>\n",
       "      <td>M</td>\n",
       "      <td>13.25</td>\n",
       "      <td>Classic</td>\n",
       "    </tr>\n",
       "    <tr>\n",
       "      <th>1</th>\n",
       "      <td>the_greek_xl</td>\n",
       "      <td>1</td>\n",
       "      <td>2015-01-03</td>\n",
       "      <td>14:32:51</td>\n",
       "      <td>XL</td>\n",
       "      <td>25.50</td>\n",
       "      <td>Classic</td>\n",
       "    </tr>\n",
       "    <tr>\n",
       "      <th>2</th>\n",
       "      <td>mediterraneo_s</td>\n",
       "      <td>1</td>\n",
       "      <td>2015-01-03</td>\n",
       "      <td>14:40:42</td>\n",
       "      <td>S</td>\n",
       "      <td>12.00</td>\n",
       "      <td>Veggie</td>\n",
       "    </tr>\n",
       "    <tr>\n",
       "      <th>3</th>\n",
       "      <td>spinach_fet_m</td>\n",
       "      <td>1</td>\n",
       "      <td>2015-01-03</td>\n",
       "      <td>14:48:45</td>\n",
       "      <td>M</td>\n",
       "      <td>16.00</td>\n",
       "      <td>Veggie</td>\n",
       "    </tr>\n",
       "    <tr>\n",
       "      <th>4</th>\n",
       "      <td>pepperoni_m</td>\n",
       "      <td>1</td>\n",
       "      <td>2015-01-03</td>\n",
       "      <td>14:49:58</td>\n",
       "      <td>M</td>\n",
       "      <td>12.50</td>\n",
       "      <td>Classic</td>\n",
       "    </tr>\n",
       "    <tr>\n",
       "      <th>...</th>\n",
       "      <td>...</td>\n",
       "      <td>...</td>\n",
       "      <td>...</td>\n",
       "      <td>...</td>\n",
       "      <td>...</td>\n",
       "      <td>...</td>\n",
       "      <td>...</td>\n",
       "    </tr>\n",
       "    <tr>\n",
       "      <th>48615</th>\n",
       "      <td>southw_ckn_l</td>\n",
       "      <td>1</td>\n",
       "      <td>2015-12-31</td>\n",
       "      <td>14:40:24</td>\n",
       "      <td>L</td>\n",
       "      <td>20.75</td>\n",
       "      <td>Chicken</td>\n",
       "    </tr>\n",
       "    <tr>\n",
       "      <th>48616</th>\n",
       "      <td>southw_ckn_m</td>\n",
       "      <td>1</td>\n",
       "      <td>2015-12-31</td>\n",
       "      <td>14:40:24</td>\n",
       "      <td>M</td>\n",
       "      <td>16.75</td>\n",
       "      <td>Chicken</td>\n",
       "    </tr>\n",
       "    <tr>\n",
       "      <th>48617</th>\n",
       "      <td>spicy_ital_s</td>\n",
       "      <td>1</td>\n",
       "      <td>2015-12-31</td>\n",
       "      <td>14:40:24</td>\n",
       "      <td>S</td>\n",
       "      <td>12.50</td>\n",
       "      <td>Supreme</td>\n",
       "    </tr>\n",
       "    <tr>\n",
       "      <th>48618</th>\n",
       "      <td>napolitana_l</td>\n",
       "      <td>1</td>\n",
       "      <td>2015-12-31</td>\n",
       "      <td>14:43:46</td>\n",
       "      <td>L</td>\n",
       "      <td>20.50</td>\n",
       "      <td>Classic</td>\n",
       "    </tr>\n",
       "    <tr>\n",
       "      <th>48619</th>\n",
       "      <td>classic_dlx_l</td>\n",
       "      <td>1</td>\n",
       "      <td>2015-12-31</td>\n",
       "      <td>14:52:25</td>\n",
       "      <td>L</td>\n",
       "      <td>20.50</td>\n",
       "      <td>Classic</td>\n",
       "    </tr>\n",
       "  </tbody>\n",
       "</table>\n",
       "<p>48620 rows × 7 columns</p>\n",
       "</div>"
      ],
      "text/plain": [
       "             pizza_id  quantity        date      time size  price category\n",
       "0          hawaiian_m         1  2015-01-03  14:22:10    M  13.25  Classic\n",
       "1        the_greek_xl         1  2015-01-03  14:32:51   XL  25.50  Classic\n",
       "2      mediterraneo_s         1  2015-01-03  14:40:42    S  12.00   Veggie\n",
       "3       spinach_fet_m         1  2015-01-03  14:48:45    M  16.00   Veggie\n",
       "4         pepperoni_m         1  2015-01-03  14:49:58    M  12.50  Classic\n",
       "...               ...       ...         ...       ...  ...    ...      ...\n",
       "48615    southw_ckn_l         1  2015-12-31  14:40:24    L  20.75  Chicken\n",
       "48616    southw_ckn_m         1  2015-12-31  14:40:24    M  16.75  Chicken\n",
       "48617    spicy_ital_s         1  2015-12-31  14:40:24    S  12.50  Supreme\n",
       "48618    napolitana_l         1  2015-12-31  14:43:46    L  20.50  Classic\n",
       "48619   classic_dlx_l         1  2015-12-31  14:52:25    L  20.50  Classic\n",
       "\n",
       "[48620 rows x 7 columns]"
      ]
     },
     "execution_count": 141,
     "metadata": {},
     "output_type": "execute_result"
    }
   ],
   "source": [
    "import pandas as pd\n",
    "\n",
    "df = pd.read_csv(\"./JDL-SUM_23_PIZZA_PROJ/Jean/Jean_project/SQL_Pizza_Tables.csv\")\n",
    "\n",
    "df"
   ]
  },
  {
   "cell_type": "code",
   "execution_count": 88,
   "id": "492813d6-d121-4c92-8a01-aadb46c68803",
   "metadata": {
    "tags": []
   },
   "outputs": [],
   "source": [
    "#ADDING MONTH"
   ]
  },
  {
   "cell_type": "code",
   "execution_count": 142,
   "id": "82466bdc-1e64-4fbf-9f81-2cc3f87a8581",
   "metadata": {
    "tags": []
   },
   "outputs": [
    {
     "data": {
      "text/html": [
       "<div>\n",
       "<style scoped>\n",
       "    .dataframe tbody tr th:only-of-type {\n",
       "        vertical-align: middle;\n",
       "    }\n",
       "\n",
       "    .dataframe tbody tr th {\n",
       "        vertical-align: top;\n",
       "    }\n",
       "\n",
       "    .dataframe thead th {\n",
       "        text-align: right;\n",
       "    }\n",
       "</style>\n",
       "<table border=\"1\" class=\"dataframe\">\n",
       "  <thead>\n",
       "    <tr style=\"text-align: right;\">\n",
       "      <th></th>\n",
       "      <th>pizza_id</th>\n",
       "      <th>quantity</th>\n",
       "      <th>date</th>\n",
       "      <th>time</th>\n",
       "      <th>size</th>\n",
       "      <th>price</th>\n",
       "      <th>category</th>\n",
       "      <th>month</th>\n",
       "    </tr>\n",
       "  </thead>\n",
       "  <tbody>\n",
       "    <tr>\n",
       "      <th>0</th>\n",
       "      <td>hawaiian_m</td>\n",
       "      <td>1</td>\n",
       "      <td>2015-01-03</td>\n",
       "      <td>14:22:10</td>\n",
       "      <td>M</td>\n",
       "      <td>13.25</td>\n",
       "      <td>Classic</td>\n",
       "      <td>1</td>\n",
       "    </tr>\n",
       "    <tr>\n",
       "      <th>1</th>\n",
       "      <td>the_greek_xl</td>\n",
       "      <td>1</td>\n",
       "      <td>2015-01-03</td>\n",
       "      <td>14:32:51</td>\n",
       "      <td>XL</td>\n",
       "      <td>25.50</td>\n",
       "      <td>Classic</td>\n",
       "      <td>1</td>\n",
       "    </tr>\n",
       "    <tr>\n",
       "      <th>2</th>\n",
       "      <td>mediterraneo_s</td>\n",
       "      <td>1</td>\n",
       "      <td>2015-01-03</td>\n",
       "      <td>14:40:42</td>\n",
       "      <td>S</td>\n",
       "      <td>12.00</td>\n",
       "      <td>Veggie</td>\n",
       "      <td>1</td>\n",
       "    </tr>\n",
       "    <tr>\n",
       "      <th>3</th>\n",
       "      <td>spinach_fet_m</td>\n",
       "      <td>1</td>\n",
       "      <td>2015-01-03</td>\n",
       "      <td>14:48:45</td>\n",
       "      <td>M</td>\n",
       "      <td>16.00</td>\n",
       "      <td>Veggie</td>\n",
       "      <td>1</td>\n",
       "    </tr>\n",
       "    <tr>\n",
       "      <th>4</th>\n",
       "      <td>pepperoni_m</td>\n",
       "      <td>1</td>\n",
       "      <td>2015-01-03</td>\n",
       "      <td>14:49:58</td>\n",
       "      <td>M</td>\n",
       "      <td>12.50</td>\n",
       "      <td>Classic</td>\n",
       "      <td>1</td>\n",
       "    </tr>\n",
       "    <tr>\n",
       "      <th>...</th>\n",
       "      <td>...</td>\n",
       "      <td>...</td>\n",
       "      <td>...</td>\n",
       "      <td>...</td>\n",
       "      <td>...</td>\n",
       "      <td>...</td>\n",
       "      <td>...</td>\n",
       "      <td>...</td>\n",
       "    </tr>\n",
       "    <tr>\n",
       "      <th>48615</th>\n",
       "      <td>southw_ckn_l</td>\n",
       "      <td>1</td>\n",
       "      <td>2015-12-31</td>\n",
       "      <td>14:40:24</td>\n",
       "      <td>L</td>\n",
       "      <td>20.75</td>\n",
       "      <td>Chicken</td>\n",
       "      <td>12</td>\n",
       "    </tr>\n",
       "    <tr>\n",
       "      <th>48616</th>\n",
       "      <td>southw_ckn_m</td>\n",
       "      <td>1</td>\n",
       "      <td>2015-12-31</td>\n",
       "      <td>14:40:24</td>\n",
       "      <td>M</td>\n",
       "      <td>16.75</td>\n",
       "      <td>Chicken</td>\n",
       "      <td>12</td>\n",
       "    </tr>\n",
       "    <tr>\n",
       "      <th>48617</th>\n",
       "      <td>spicy_ital_s</td>\n",
       "      <td>1</td>\n",
       "      <td>2015-12-31</td>\n",
       "      <td>14:40:24</td>\n",
       "      <td>S</td>\n",
       "      <td>12.50</td>\n",
       "      <td>Supreme</td>\n",
       "      <td>12</td>\n",
       "    </tr>\n",
       "    <tr>\n",
       "      <th>48618</th>\n",
       "      <td>napolitana_l</td>\n",
       "      <td>1</td>\n",
       "      <td>2015-12-31</td>\n",
       "      <td>14:43:46</td>\n",
       "      <td>L</td>\n",
       "      <td>20.50</td>\n",
       "      <td>Classic</td>\n",
       "      <td>12</td>\n",
       "    </tr>\n",
       "    <tr>\n",
       "      <th>48619</th>\n",
       "      <td>classic_dlx_l</td>\n",
       "      <td>1</td>\n",
       "      <td>2015-12-31</td>\n",
       "      <td>14:52:25</td>\n",
       "      <td>L</td>\n",
       "      <td>20.50</td>\n",
       "      <td>Classic</td>\n",
       "      <td>12</td>\n",
       "    </tr>\n",
       "  </tbody>\n",
       "</table>\n",
       "<p>48620 rows × 8 columns</p>\n",
       "</div>"
      ],
      "text/plain": [
       "             pizza_id  quantity        date      time size  price category  \\\n",
       "0          hawaiian_m         1  2015-01-03  14:22:10    M  13.25  Classic   \n",
       "1        the_greek_xl         1  2015-01-03  14:32:51   XL  25.50  Classic   \n",
       "2      mediterraneo_s         1  2015-01-03  14:40:42    S  12.00   Veggie   \n",
       "3       spinach_fet_m         1  2015-01-03  14:48:45    M  16.00   Veggie   \n",
       "4         pepperoni_m         1  2015-01-03  14:49:58    M  12.50  Classic   \n",
       "...               ...       ...         ...       ...  ...    ...      ...   \n",
       "48615    southw_ckn_l         1  2015-12-31  14:40:24    L  20.75  Chicken   \n",
       "48616    southw_ckn_m         1  2015-12-31  14:40:24    M  16.75  Chicken   \n",
       "48617    spicy_ital_s         1  2015-12-31  14:40:24    S  12.50  Supreme   \n",
       "48618    napolitana_l         1  2015-12-31  14:43:46    L  20.50  Classic   \n",
       "48619   classic_dlx_l         1  2015-12-31  14:52:25    L  20.50  Classic   \n",
       "\n",
       "       month  \n",
       "0          1  \n",
       "1          1  \n",
       "2          1  \n",
       "3          1  \n",
       "4          1  \n",
       "...      ...  \n",
       "48615     12  \n",
       "48616     12  \n",
       "48617     12  \n",
       "48618     12  \n",
       "48619     12  \n",
       "\n",
       "[48620 rows x 8 columns]"
      ]
     },
     "execution_count": 142,
     "metadata": {},
     "output_type": "execute_result"
    }
   ],
   "source": [
    "df['month'] = df['date'].str[5:7]\n",
    "df['month'] = df['month'].astype('int')\n",
    "\n"
   ]
  },
  {
   "cell_type": "code",
   "execution_count": 188,
   "id": "867cba95-80b5-4f68-9478-d4ec16ad49cb",
   "metadata": {
    "tags": []
   },
   "outputs": [],
   "source": [
    "# WHAT WAS THE BEST MONTH FOR SALES?\n",
    "# July, apply more promotions and increase advertising in the months that perform best. Months performance correlate with weather rainfall in 2015\n",
    "# can predict future month's performance bases long-term weather forecasts"
   ]
  },
  {
   "cell_type": "code",
   "execution_count": 191,
   "id": "712fb560-00df-4f7c-8cb3-412446d4ba35",
   "metadata": {
    "tags": []
   },
   "outputs": [
    {
     "data": {
      "text/plain": [
       "Text(0.5, 0, 'MONTH')"
      ]
     },
     "execution_count": 191,
     "metadata": {},
     "output_type": "execute_result"
    },
    {
     "data": {
      "image/png": "[encoded data removed]",
      "text/plain": [
       "<Figure size 432x288 with 1 Axes>"
      ]
     },
     "metadata": {
      "needs_background": "light"
     },
     "output_type": "display_data"
    }
   ],
   "source": [
    "import matplotlib.pyplot as plt\n",
    "results = df.groupby('month').sum()\n",
    "months = range(1,13)\n",
    "plt.bar(months, results['price'])\n",
    "plt.ylim([60000, 77500])\n",
    "plt.xticks(months)\n",
    "plt.ylabel('Sales in USD')\n",
    "plt.xlabel('MONTH')\n",
    "\n"
   ]
  },
  {
   "cell_type": "code",
   "execution_count": 151,
   "id": "81a29f15-0794-46a2-94ac-24ab01d1400e",
   "metadata": {
    "tags": []
   },
   "outputs": [
    {
     "data": {
      "text/html": [
       "<div>\n",
       "<style scoped>\n",
       "    .dataframe tbody tr th:only-of-type {\n",
       "        vertical-align: middle;\n",
       "    }\n",
       "\n",
       "    .dataframe tbody tr th {\n",
       "        vertical-align: top;\n",
       "    }\n",
       "\n",
       "    .dataframe thead th {\n",
       "        text-align: right;\n",
       "    }\n",
       "</style>\n",
       "<table border=\"1\" class=\"dataframe\">\n",
       "  <thead>\n",
       "    <tr style=\"text-align: right;\">\n",
       "      <th></th>\n",
       "      <th>price</th>\n",
       "      <th>quantity</th>\n",
       "    </tr>\n",
       "    <tr>\n",
       "      <th>category</th>\n",
       "      <th></th>\n",
       "      <th></th>\n",
       "    </tr>\n",
       "  </thead>\n",
       "  <tbody>\n",
       "    <tr>\n",
       "      <th>Chicken</th>\n",
       "      <td>194231.0</td>\n",
       "      <td>11050</td>\n",
       "    </tr>\n",
       "    <tr>\n",
       "      <th>Classic</th>\n",
       "      <td>213483.0</td>\n",
       "      <td>14888</td>\n",
       "    </tr>\n",
       "    <tr>\n",
       "      <th>Supreme</th>\n",
       "      <td>202415.0</td>\n",
       "      <td>11987</td>\n",
       "    </tr>\n",
       "    <tr>\n",
       "      <th>Veggie</th>\n",
       "      <td>189113.0</td>\n",
       "      <td>11649</td>\n",
       "    </tr>\n",
       "  </tbody>\n",
       "</table>\n",
       "</div>"
      ],
      "text/plain": [
       "             price  quantity\n",
       "category                    \n",
       "Chicken   194231.0     11050\n",
       "Classic   213483.0     14888\n",
       "Supreme   202415.0     11987\n",
       "Veggie    189113.0     11649"
      ]
     },
     "execution_count": 151,
     "metadata": {},
     "output_type": "execute_result"
    }
   ],
   "source": [
    "# WHAT WAS THE BEST CATEGORY FOR SALES?\n",
    "\n",
    "df.groupby('category')[['price','quantity']].sum()"
   ]
  },
  {
   "cell_type": "code",
   "execution_count": 155,
   "id": "e705bc37-3905-4d1d-8552-ef6a85356c62",
   "metadata": {
    "tags": []
   },
   "outputs": [
    {
     "data": {
      "text/html": [
       "<div>\n",
       "<style scoped>\n",
       "    .dataframe tbody tr th:only-of-type {\n",
       "        vertical-align: middle;\n",
       "    }\n",
       "\n",
       "    .dataframe tbody tr th {\n",
       "        vertical-align: top;\n",
       "    }\n",
       "\n",
       "    .dataframe thead th {\n",
       "        text-align: right;\n",
       "    }\n",
       "</style>\n",
       "<table border=\"1\" class=\"dataframe\">\n",
       "  <thead>\n",
       "    <tr style=\"text-align: right;\">\n",
       "      <th></th>\n",
       "      <th>price</th>\n",
       "      <th>quantity</th>\n",
       "    </tr>\n",
       "    <tr>\n",
       "      <th>size</th>\n",
       "      <th></th>\n",
       "      <th></th>\n",
       "    </tr>\n",
       "  </thead>\n",
       "  <tbody>\n",
       "    <tr>\n",
       "      <th>L</th>\n",
       "      <td>366225.0</td>\n",
       "      <td>18956</td>\n",
       "    </tr>\n",
       "    <tr>\n",
       "      <th>M</th>\n",
       "      <td>244004.0</td>\n",
       "      <td>15635</td>\n",
       "    </tr>\n",
       "    <tr>\n",
       "      <th>S</th>\n",
       "      <td>173861.0</td>\n",
       "      <td>14403</td>\n",
       "    </tr>\n",
       "    <tr>\n",
       "      <th>XL</th>\n",
       "      <td>14144.0</td>\n",
       "      <td>552</td>\n",
       "    </tr>\n",
       "    <tr>\n",
       "      <th>XXL</th>\n",
       "      <td>1008.0</td>\n",
       "      <td>28</td>\n",
       "    </tr>\n",
       "  </tbody>\n",
       "</table>\n",
       "</div>"
      ],
      "text/plain": [
       "         price  quantity\n",
       "size                    \n",
       "L     366225.0     18956\n",
       "M     244004.0     15635\n",
       "S     173861.0     14403\n",
       "XL     14144.0       552\n",
       "XXL     1008.0        28"
      ]
     },
     "execution_count": 155,
     "metadata": {},
     "output_type": "execute_result"
    }
   ],
   "source": [
    "# WHAT SIZE SELLS THE MOST\n",
    "df.groupby('size')[['price','quantity']].sum()"
   ]
  },
  {
   "cell_type": "code",
   "execution_count": 187,
   "id": "821e2db9-dd53-4d04-a144-8ebcfd3a50eb",
   "metadata": {},
   "outputs": [
    {
     "data": {
      "text/plain": [
       "<function matplotlib.pyplot.show(close=None, block=None)>"
      ]
     },
     "execution_count": 187,
     "metadata": {},
     "output_type": "execute_result"
    },
    {
     "data": {
      "image/png": "[encoded data removed]",
      "text/plain": [
       "<Figure size 432x288 with 1 Axes>"
      ]
     },
     "metadata": {
      "needs_background": "light"
     },
     "output_type": "display_data"
    }
   ],
   "source": [
    "# WHAT time SELLS THE MOST\n",
    "df['hour']= df['time'].str[0:2]\n",
    "hours = [hour for hour, df in df.groupby('hour')]\n",
    "plt.plot(hours, df.groupby(['hour']).count())\n",
    "plt.xlabel('Hour')\n",
    "plt.ylabel('Orders')\n",
    "plt.grid()\n",
    "plt.show"
   ]
  },
  {
   "cell_type": "code",
   "execution_count": 168,
   "id": "d6ff909b-4b74-4dd7-a3c1-0f6f01ae5f08",
   "metadata": {
    "tags": []
   },
   "outputs": [
    {
     "data": {
      "text/plain": [
       "Text(0.5, 0, 'CATEGORY')"
      ]
     },
     "execution_count": 168,
     "metadata": {},
     "output_type": "execute_result"
    },
    {
     "data": {
      "image/png": "[encoded data removed]",
      "text/plain": [
       "<Figure size 432x288 with 1 Axes>"
      ]
     },
     "metadata": {
      "needs_background": "light"
     },
     "output_type": "display_data"
    }
   ],
   "source": [
    "\n",
    "categories = [category for category, df in df.groupby('category')]\n",
    "plt.bar(categories, results['price'])\n",
    "plt.ylim([180000, 225000])\n",
    "plt.xticks(categories)\n",
    "plt.ylabel('Sales in USD')\n",
    "plt.xlabel('CATEGORY')"
   ]
  },
  {
   "cell_type": "code",
   "execution_count": null,
   "id": "32c9e805-42e2-4070-8859-29165c5edbdb",
   "metadata": {},
   "outputs": [],
   "source": []
  },
  {
   "cell_type": "code",
   "execution_count": null,
   "id": "67a64474-c70e-45b2-8be6-5c4a2c7ad082",
   "metadata": {},
   "outputs": [],
   "source": []
  }
 ],
 "metadata": {
  "kernelspec": {
   "display_name": "Python 3 (ipykernel)",
   "language": "python",
   "name": "python3"
  },
  "language_info": {
   "codemirror_mode": {
    "name": "ipython",
    "version": 3
   },
   "file_extension": ".py",
   "mimetype": "text/x-python",
   "name": "python",
   "nbconvert_exporter": "python",
   "pygments_lexer": "ipython3",
   "version": "3.9.7"
  }
 },
 "nbformat": 4,
 "nbformat_minor": 5
}
