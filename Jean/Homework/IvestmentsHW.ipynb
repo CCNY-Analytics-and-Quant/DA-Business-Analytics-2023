{
 "cells": [
  {
   "cell_type": "code",
   "execution_count": 47,
   "id": "059b11d4-1f06-47a4-b98f-5fadb1ab4e0e",
   "metadata": {},
   "outputs": [],
   "source": [
    "# I found some of this code under \n",
    "# My_files/Scratch/kaggle/Kaggle/Homework/Ivestment_Account_2\n",
    "# I did not write the code, i've only modified it and added a for loop. "
   ]
  },
  {
   "cell_type": "code",
   "execution_count": 53,
   "id": "1c9633d9-eb8b-46bb-ae99-b3c09e0b3d44",
   "metadata": {},
   "outputs": [
    {
     "name": "stdout",
     "output_type": "stream",
     "text": [
      "You will be able to retire at 64 with $2670803.11 in your investment account.\n"
     ]
    }
   ],
   "source": [
    "acct_bal = 5000\n",
    "annl_inv = 4000\n",
    "tgt_bal = 2500000\n",
    "age = 21\n",
    "int_rate = 0.1\n",
    "\n",
    "while acct_bal < tgt_bal:\n",
    "    acct_bal = acct_bal * (1 + int_rate) + annl_inv \n",
    "    age = age + 1\n",
    "    \n",
    "print('You will be able to retire at ' \n",
    "      + str(age) \n",
    "      +' with $' \n",
    "      + str(round(acct_bal, 2)) \n",
    "      +' in your investment account.'\n",
    "     )\n"
   ]
  },
  {
   "cell_type": "code",
   "execution_count": 52,
   "id": "010d3fa4-0037-4d2a-9344-211d0e005f91",
   "metadata": {
    "tags": []
   },
   "outputs": [
    {
     "name": "stdout",
     "output_type": "stream",
     "text": [
      "You will retire at 50 with $550934.44 in your investment account.\n"
     ]
    }
   ],
   "source": [
    "acct_bal = 1000\n",
    "annl_inv = 3600\n",
    "age = 21\n",
    "tgt_age = 50\n",
    "int_rate= .1\n",
    "\n",
    "for year in range(age, tgt_age):\n",
    "    acct_bal = acct_bal * (1 + int_rate) + annl_inv \n",
    "    \n",
    "print(\"You will retire at \"\n",
    "      +str(tgt_age)\n",
    "      + \" with $\"\n",
    "      +str(round(acct_bal, 2))\n",
    "      + \" in your investment account.\"\n",
    "     )"
   ]
  },
  {
   "cell_type": "code",
   "execution_count": null,
   "id": "72a7ebb5-1779-4563-9187-ae7d8c3ef43d",
   "metadata": {},
   "outputs": [],
   "source": []
  }
 ],
 "metadata": {
  "kernelspec": {
   "display_name": "Python 3 (ipykernel)",
   "language": "python",
   "name": "python3"
  },
  "language_info": {
   "codemirror_mode": {
    "name": "ipython",
    "version": 3
   },
   "file_extension": ".py",
   "mimetype": "text/x-python",
   "name": "python",
   "nbconvert_exporter": "python",
   "pygments_lexer": "ipython3",
   "version": "3.9.7"
  }
 },
 "nbformat": 4,
 "nbformat_minor": 5
}
